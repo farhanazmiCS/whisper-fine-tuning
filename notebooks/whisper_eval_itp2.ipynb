{
 "cells": [
  {
   "cell_type": "markdown",
   "metadata": {},
   "source": [
    "# Evaluating Whisper on Aphasic Patients\n",
    "\n",
    "In this notebook, we will be evaluating the `whisper-small-v3` model on the dataset that was provided by NUHS, using the Word Error Rate (WER) metric."
   ]
  },
  {
   "cell_type": "code",
   "execution_count": null,
   "metadata": {},
   "outputs": [],
   "source": [
    "import os\n",
    "\n",
    "os.chdir('..')\n",
    "os.getcwd()"
   ]
  },
  {
   "cell_type": "markdown",
   "metadata": {},
   "source": [
    "### 1. Evaluating Noun Transcription Performance\n",
    "\n",
    "Firstly, we will evaluate the noun transcription performance for all aphasic patients."
   ]
  },
  {
   "cell_type": "code",
   "execution_count": 2,
   "metadata": {},
   "outputs": [
    {
     "name": "stdout",
     "output_type": "stream",
     "text": [
      "/Users/farhan/Desktop/itp/aphasic-evaluation\n"
     ]
    }
   ],
   "source": [
    "import os\n",
    "import glob\n",
    "import warnings\n",
    "\n",
    "print(os.getcwd())\n",
    "warnings.filterwarnings(\"ignore\")\n"
   ]
  },
  {
   "cell_type": "markdown",
   "metadata": {},
   "source": [
    "Based on Exploratory Data Analysis (EDA), each of the `.csv` files have the following columns:\n",
    "\n",
    "1. Picture No.\n",
    "2. Original (Assuming the actual target word)\n",
    "3. Edited (The actual human transcription)\n",
    "4. Marked\n",
    "\n",
    "There are some pre-processing to be done for the transcription data for patients `al_e026` through `al_e137` and `al_e180`. However, the transcription data for `al_e155` and `al_e178` will not be used for evaluation for the following reasons:\n",
    "\n",
    "1. Majority of rows go beyond the number of set columns\n",
    "2. Too much missing data"
   ]
  },
  {
   "cell_type": "markdown",
   "metadata": {},
   "source": [
    "#### Download the transcripts and audio files"
   ]
  },
  {
   "cell_type": "code",
   "execution_count": 3,
   "metadata": {},
   "outputs": [],
   "source": [
    "import os\n",
    "from tqdm import tqdm\n",
    "\n",
    "os.environ['GOOGLE_APPLICATION_CREDENTIALS'] = 'aphasia-chatter-5a70166fc2f1.json'"
   ]
  },
  {
   "cell_type": "code",
   "execution_count": 32,
   "metadata": {},
   "outputs": [
    {
     "name": "stderr",
     "output_type": "stream",
     "text": [
      "Downloading Files: 20 files [00:00, 25.10 files/s]\n"
     ]
    }
   ],
   "source": [
    "# Download the transcripts\n",
    "from google.cloud import storage\n",
    "\n",
    "# Initialize the client\n",
    "client = storage.Client()\n",
    "\n",
    "# Define the bucket and blob (file) you want to download\n",
    "bucket = client.get_bucket('speech-sit-bucket')  # Replace with your bucket name\n",
    "\n",
    "# Specify the directory/prefix you want to retrieve files from\n",
    "directory_prefix = 'transcripts/'  # Replace with the directory in your bucket (e.g., 'audio/')\n",
    "\n",
    "# List all blobs (files) within the specified directory\n",
    "transcripts = bucket.list_blobs(prefix=directory_prefix)\n",
    "\n",
    "# Download directory\n",
    "download_directory = 'samples/transcripts'\n",
    "\n",
    "# Ensure the directory exists, create if necessary\n",
    "if not os.path.exists(download_directory):\n",
    "    os.makedirs(download_directory)\n",
    "\n",
    "# Use tqdm to add a progress bar\n",
    "for index, transcript in tqdm(enumerate(transcripts), desc=\"Downloading Files\", unit=\" files\"):\n",
    "    if index != 0:\n",
    "        local_file_path = os.path.join(download_directory, os.path.basename(transcript.name))\n",
    "        transcript.download_to_filename(local_file_path)"
   ]
  },
  {
   "cell_type": "code",
   "execution_count": 23,
   "metadata": {},
   "outputs": [
    {
     "name": "stderr",
     "output_type": "stream",
     "text": [
      "Downloading Files: 1263 files [02:10,  9.66 files/s]\n"
     ]
    }
   ],
   "source": [
    "# Download the audio files\n",
    "\n",
    "# Specify the directory/prefix you want to retrieve files from\n",
    "directory_prefix = 'audio/'  # Replace with the directory in your bucket (e.g., 'audio/')\n",
    "\n",
    "# List all blobs (files) within the specified directory\n",
    "transcripts = bucket.list_blobs(prefix=directory_prefix)\n",
    "\n",
    "# Download directory\n",
    "download_directory = 'samples/audio'\n",
    "\n",
    "# Ensure the directory exists, create if necessary\n",
    "if not os.path.exists(download_directory):\n",
    "    os.makedirs(download_directory)\n",
    "\n",
    "# Use tqdm to add a progress bar\n",
    "for index, transcript in tqdm(enumerate(transcripts), desc=\"Downloading Files\", unit=\" files\"):\n",
    "    if index != 0:\n",
    "        local_file_path = os.path.join(download_directory, os.path.basename(transcript.name))\n",
    "        transcript.download_to_filename(local_file_path)"
   ]
  },
  {
   "cell_type": "code",
   "execution_count": 34,
   "metadata": {},
   "outputs": [
    {
     "name": "stdout",
     "output_type": "stream",
     "text": [
      "samples/transcripts/al_e026_noun_transcript.csv\n",
      "samples/transcripts/al_e026_picture_description_transcript.csv\n",
      "samples/transcripts/al_e026_target_sentence_transcript.csv\n",
      "samples/transcripts/al_e026_verb_transcript.csv\n",
      "samples/transcripts/al_e028_noun_transcript.csv\n",
      "samples/transcripts/al_e028_picture_description_transcript.csv\n",
      "samples/transcripts/al_e028_target_sentence_transcript.csv\n",
      "samples/transcripts/al_e028_verb_transcript.csv\n",
      "samples/transcripts/al_e048_noun_transcript.csv\n",
      "samples/transcripts/al_e048_picture_description_transcript.csv\n",
      "samples/transcripts/al_e048_target_sentence_transcript.csv\n",
      "samples/transcripts/al_e048_verb_transcript.csv\n",
      "samples/transcripts/al_e078_noun_transcript.csv\n",
      "samples/transcripts/al_e078_picture_description_transcript.csv\n",
      "samples/transcripts/al_e078_target_sentence_transcript.csv\n",
      "samples/transcripts/al_e078_verb_transcript.csv\n",
      "samples/transcripts/al_e085_noun_transcript.csv\n",
      "samples/transcripts/al_e085_picture_description_transcript.csv\n",
      "samples/transcripts/al_e085_target_sentence_transcript.csv\n",
      "samples/transcripts/al_e085_verb_transcript.csv\n",
      "samples/transcripts/al_e092_noun_transcript.csv\n",
      "samples/transcripts/al_e092_picture_description_transcript.csv\n",
      "samples/transcripts/al_e092_target_sentence_transcript.csv\n",
      "samples/transcripts/al_e092_verb_transcript.csv\n",
      "samples/transcripts/al_e099_noun_transcript.csv\n",
      "samples/transcripts/al_e099_picture_description_transcript.csv\n",
      "samples/transcripts/al_e099_target_sentence_transcript.csv\n",
      "samples/transcripts/al_e099_verb_transcript.csv\n",
      "samples/transcripts/al_e100_noun_transcript.csv\n",
      "samples/transcripts/al_e100_picture_description_transcript.csv\n",
      "samples/transcripts/al_e100_target_sentence_transcript.csv\n",
      "samples/transcripts/al_e100_verb_transcript.csv\n",
      "samples/transcripts/al_e101_noun_transcript.csv\n",
      "samples/transcripts/al_e101_picture_description_transcript.csv\n",
      "samples/transcripts/al_e101_target_sentence_transcript.csv\n",
      "samples/transcripts/al_e101_verb_transcript.csv\n",
      "samples/transcripts/al_e106_noun_transcript.csv\n",
      "samples/transcripts/al_e106_picture_description_transcript.csv\n",
      "samples/transcripts/al_e106_target_sentence_transcript.csv\n",
      "samples/transcripts/al_e106_verb_transcript.csv\n",
      "samples/transcripts/al_e117_noun_transcript.csv\n",
      "samples/transcripts/al_e117_picture_description_transcript.csv\n",
      "samples/transcripts/al_e117_target_sentence_transcript.csv\n",
      "samples/transcripts/al_e117_verb_transcript.csv\n",
      "samples/transcripts/al_e118_noun_transcript.csv\n",
      "samples/transcripts/al_e118_picture_description_transcript.csv\n",
      "samples/transcripts/al_e118_target_sentence_transcript.csv\n",
      "samples/transcripts/al_e118_verb_transcript.csv\n",
      "samples/transcripts/al_e122_noun_transcript.csv\n",
      "samples/transcripts/al_e122_picture_description_transcript.csv\n",
      "samples/transcripts/al_e122_target_sentence_transcript.csv\n",
      "samples/transcripts/al_e122_verb_transcript.csv\n",
      "samples/transcripts/al_e132_noun_transcript.csv\n",
      "samples/transcripts/al_e132_picture_description_transcript.csv\n",
      "samples/transcripts/al_e132_target_sentence_transcript.csv\n",
      "samples/transcripts/al_e132_verb_transcript.csv\n",
      "samples/transcripts/al_e133_noun_transcript.csv\n",
      "samples/transcripts/al_e133_picture_description_transcript.csv\n",
      "samples/transcripts/al_e133_target_sentence_transcript.csv\n",
      "samples/transcripts/al_e133_verb_transcript.csv\n",
      "samples/transcripts/al_e137_noun_transcript.csv\n",
      "samples/transcripts/al_e155_noun_transcript.csv\n",
      "samples/transcripts/al_e155_questionare.csv\n",
      "samples/transcripts/al_e155_target_sentence_transcript.csv\n",
      "samples/transcripts/al_e155_verb_transcript.csv\n",
      "samples/transcripts/al_e179_noun_transcript.csv\n",
      "samples/transcripts/al_e179_picture_description_transcript.csv\n",
      "samples/transcripts/al_e179_target_sentence_transcript.csv\n",
      "samples/transcripts/al_e179_verb_transcript.csv\n",
      "samples/transcripts/al_e180_noun_transcript.csv\n",
      "samples/transcripts/al_e180_picture_description_transcript.csv\n",
      "samples/transcripts/al_e180_target_sentence_transcript.csv\n",
      "samples/transcripts/al_e180_verb_transcript.csv\n"
     ]
    }
   ],
   "source": [
    "import pandas as pd\n",
    "from pathlib import Path\n",
    "\n",
    "# Load all the transcripts into a dataframe and concat them\n",
    "transcript_directories = \"samples/transcripts/\"\n",
    "csv_files = glob.glob(transcript_directories + \"*.csv\")\n",
    "\n",
    "# Remove al_e155_noun_transcript and al_e179_noun_transcript\n",
    "csv_files = sorted([file for file in csv_files])\n",
    "\n",
    "dfs = []\n",
    "\n",
    "for file in csv_files:\n",
    "    print(file)\n",
    "    df = pd.read_csv(file, engine='python', on_bad_lines='warn') # Do not remove rows yet\n",
    "    df = df.assign(patient=(Path(file).stem)[:7])\n",
    "    dfs.append(df)\n",
    "\n",
    "df = pd.concat(dfs, ignore_index=True)\n",
    "\n",
    "# Drop columns that are not part of the expected columns\n",
    "expected_columns = ['Picture No.', 'Original', 'Edited', 'Marked', 'patient']\n",
    "df = df.loc[:, expected_columns]"
   ]
  },
  {
   "cell_type": "code",
   "execution_count": 45,
   "metadata": {},
   "outputs": [
    {
     "name": "stdout",
     "output_type": "stream",
     "text": [
      "<class 'pandas.core.frame.DataFrame'>\n",
      "RangeIndex: 2272 entries, 0 to 2271\n",
      "Data columns (total 5 columns):\n",
      " #   Column       Non-Null Count  Dtype \n",
      "---  ------       --------------  ----- \n",
      " 0   Picture No.  2272 non-null   object\n",
      " 1   Original     2272 non-null   object\n",
      " 2   Edited       2272 non-null   object\n",
      " 3   patient      2272 non-null   object\n",
      " 4   audio_path   2272 non-null   object\n",
      "dtypes: object(5)\n",
      "memory usage: 88.9+ KB\n"
     ]
    }
   ],
   "source": [
    "df.info()"
   ]
  },
  {
   "cell_type": "code",
   "execution_count": 46,
   "metadata": {},
   "outputs": [
    {
     "data": {
      "text/plain": [
       "'al_e078'"
      ]
     },
     "execution_count": 46,
     "metadata": {},
     "output_type": "execute_result"
    }
   ],
   "source": [
    "df['patient'][343]"
   ]
  },
  {
   "cell_type": "markdown",
   "metadata": {},
   "source": [
    "Drop rows containing NA values"
   ]
  },
  {
   "cell_type": "code",
   "execution_count": 47,
   "metadata": {},
   "outputs": [
    {
     "ename": "KeyError",
     "evalue": "\"['Marked'] not found in axis\"",
     "output_type": "error",
     "traceback": [
      "\u001b[0;31m---------------------------------------------------------------------------\u001b[0m",
      "\u001b[0;31mKeyError\u001b[0m                                  Traceback (most recent call last)",
      "Cell \u001b[0;32mIn[47], line 2\u001b[0m\n\u001b[1;32m      1\u001b[0m df \u001b[38;5;241m=\u001b[39m df\u001b[38;5;241m.\u001b[39mdropna(axis\u001b[38;5;241m=\u001b[39m\u001b[38;5;241m0\u001b[39m)\u001b[38;5;241m.\u001b[39mreset_index() \u001b[38;5;66;03m# Drop rows containing missing values\u001b[39;00m\n\u001b[0;32m----> 2\u001b[0m df \u001b[38;5;241m=\u001b[39m \u001b[43mdf\u001b[49m\u001b[38;5;241;43m.\u001b[39;49m\u001b[43mdrop\u001b[49m\u001b[43m(\u001b[49m\u001b[43mcolumns\u001b[49m\u001b[38;5;241;43m=\u001b[39;49m\u001b[43m[\u001b[49m\u001b[38;5;124;43m\"\u001b[39;49m\u001b[38;5;124;43mMarked\u001b[39;49m\u001b[38;5;124;43m\"\u001b[39;49m\u001b[43m,\u001b[49m\u001b[43m \u001b[49m\u001b[38;5;124;43m\"\u001b[39;49m\u001b[38;5;124;43mindex\u001b[39;49m\u001b[38;5;124;43m\"\u001b[39;49m\u001b[43m]\u001b[49m\u001b[43m)\u001b[49m\n",
      "File \u001b[0;32m~/Desktop/itp/aphasic-evaluation/virtual/lib/python3.12/site-packages/pandas/core/frame.py:5581\u001b[0m, in \u001b[0;36mDataFrame.drop\u001b[0;34m(self, labels, axis, index, columns, level, inplace, errors)\u001b[0m\n\u001b[1;32m   5433\u001b[0m \u001b[38;5;28;01mdef\u001b[39;00m \u001b[38;5;21mdrop\u001b[39m(\n\u001b[1;32m   5434\u001b[0m     \u001b[38;5;28mself\u001b[39m,\n\u001b[1;32m   5435\u001b[0m     labels: IndexLabel \u001b[38;5;241m|\u001b[39m \u001b[38;5;28;01mNone\u001b[39;00m \u001b[38;5;241m=\u001b[39m \u001b[38;5;28;01mNone\u001b[39;00m,\n\u001b[0;32m   (...)\u001b[0m\n\u001b[1;32m   5442\u001b[0m     errors: IgnoreRaise \u001b[38;5;241m=\u001b[39m \u001b[38;5;124m\"\u001b[39m\u001b[38;5;124mraise\u001b[39m\u001b[38;5;124m\"\u001b[39m,\n\u001b[1;32m   5443\u001b[0m ) \u001b[38;5;241m-\u001b[39m\u001b[38;5;241m>\u001b[39m DataFrame \u001b[38;5;241m|\u001b[39m \u001b[38;5;28;01mNone\u001b[39;00m:\n\u001b[1;32m   5444\u001b[0m \u001b[38;5;250m    \u001b[39m\u001b[38;5;124;03m\"\"\"\u001b[39;00m\n\u001b[1;32m   5445\u001b[0m \u001b[38;5;124;03m    Drop specified labels from rows or columns.\u001b[39;00m\n\u001b[1;32m   5446\u001b[0m \n\u001b[0;32m   (...)\u001b[0m\n\u001b[1;32m   5579\u001b[0m \u001b[38;5;124;03m            weight  1.0     0.8\u001b[39;00m\n\u001b[1;32m   5580\u001b[0m \u001b[38;5;124;03m    \"\"\"\u001b[39;00m\n\u001b[0;32m-> 5581\u001b[0m     \u001b[38;5;28;01mreturn\u001b[39;00m \u001b[38;5;28;43msuper\u001b[39;49m\u001b[43m(\u001b[49m\u001b[43m)\u001b[49m\u001b[38;5;241;43m.\u001b[39;49m\u001b[43mdrop\u001b[49m\u001b[43m(\u001b[49m\n\u001b[1;32m   5582\u001b[0m \u001b[43m        \u001b[49m\u001b[43mlabels\u001b[49m\u001b[38;5;241;43m=\u001b[39;49m\u001b[43mlabels\u001b[49m\u001b[43m,\u001b[49m\n\u001b[1;32m   5583\u001b[0m \u001b[43m        \u001b[49m\u001b[43maxis\u001b[49m\u001b[38;5;241;43m=\u001b[39;49m\u001b[43maxis\u001b[49m\u001b[43m,\u001b[49m\n\u001b[1;32m   5584\u001b[0m \u001b[43m        \u001b[49m\u001b[43mindex\u001b[49m\u001b[38;5;241;43m=\u001b[39;49m\u001b[43mindex\u001b[49m\u001b[43m,\u001b[49m\n\u001b[1;32m   5585\u001b[0m \u001b[43m        \u001b[49m\u001b[43mcolumns\u001b[49m\u001b[38;5;241;43m=\u001b[39;49m\u001b[43mcolumns\u001b[49m\u001b[43m,\u001b[49m\n\u001b[1;32m   5586\u001b[0m \u001b[43m        \u001b[49m\u001b[43mlevel\u001b[49m\u001b[38;5;241;43m=\u001b[39;49m\u001b[43mlevel\u001b[49m\u001b[43m,\u001b[49m\n\u001b[1;32m   5587\u001b[0m \u001b[43m        \u001b[49m\u001b[43minplace\u001b[49m\u001b[38;5;241;43m=\u001b[39;49m\u001b[43minplace\u001b[49m\u001b[43m,\u001b[49m\n\u001b[1;32m   5588\u001b[0m \u001b[43m        \u001b[49m\u001b[43merrors\u001b[49m\u001b[38;5;241;43m=\u001b[39;49m\u001b[43merrors\u001b[49m\u001b[43m,\u001b[49m\n\u001b[1;32m   5589\u001b[0m \u001b[43m    \u001b[49m\u001b[43m)\u001b[49m\n",
      "File \u001b[0;32m~/Desktop/itp/aphasic-evaluation/virtual/lib/python3.12/site-packages/pandas/core/generic.py:4788\u001b[0m, in \u001b[0;36mNDFrame.drop\u001b[0;34m(self, labels, axis, index, columns, level, inplace, errors)\u001b[0m\n\u001b[1;32m   4786\u001b[0m \u001b[38;5;28;01mfor\u001b[39;00m axis, labels \u001b[38;5;129;01min\u001b[39;00m axes\u001b[38;5;241m.\u001b[39mitems():\n\u001b[1;32m   4787\u001b[0m     \u001b[38;5;28;01mif\u001b[39;00m labels \u001b[38;5;129;01mis\u001b[39;00m \u001b[38;5;129;01mnot\u001b[39;00m \u001b[38;5;28;01mNone\u001b[39;00m:\n\u001b[0;32m-> 4788\u001b[0m         obj \u001b[38;5;241m=\u001b[39m \u001b[43mobj\u001b[49m\u001b[38;5;241;43m.\u001b[39;49m\u001b[43m_drop_axis\u001b[49m\u001b[43m(\u001b[49m\u001b[43mlabels\u001b[49m\u001b[43m,\u001b[49m\u001b[43m \u001b[49m\u001b[43maxis\u001b[49m\u001b[43m,\u001b[49m\u001b[43m \u001b[49m\u001b[43mlevel\u001b[49m\u001b[38;5;241;43m=\u001b[39;49m\u001b[43mlevel\u001b[49m\u001b[43m,\u001b[49m\u001b[43m \u001b[49m\u001b[43merrors\u001b[49m\u001b[38;5;241;43m=\u001b[39;49m\u001b[43merrors\u001b[49m\u001b[43m)\u001b[49m\n\u001b[1;32m   4790\u001b[0m \u001b[38;5;28;01mif\u001b[39;00m inplace:\n\u001b[1;32m   4791\u001b[0m     \u001b[38;5;28mself\u001b[39m\u001b[38;5;241m.\u001b[39m_update_inplace(obj)\n",
      "File \u001b[0;32m~/Desktop/itp/aphasic-evaluation/virtual/lib/python3.12/site-packages/pandas/core/generic.py:4830\u001b[0m, in \u001b[0;36mNDFrame._drop_axis\u001b[0;34m(self, labels, axis, level, errors, only_slice)\u001b[0m\n\u001b[1;32m   4828\u001b[0m         new_axis \u001b[38;5;241m=\u001b[39m axis\u001b[38;5;241m.\u001b[39mdrop(labels, level\u001b[38;5;241m=\u001b[39mlevel, errors\u001b[38;5;241m=\u001b[39merrors)\n\u001b[1;32m   4829\u001b[0m     \u001b[38;5;28;01melse\u001b[39;00m:\n\u001b[0;32m-> 4830\u001b[0m         new_axis \u001b[38;5;241m=\u001b[39m \u001b[43maxis\u001b[49m\u001b[38;5;241;43m.\u001b[39;49m\u001b[43mdrop\u001b[49m\u001b[43m(\u001b[49m\u001b[43mlabels\u001b[49m\u001b[43m,\u001b[49m\u001b[43m \u001b[49m\u001b[43merrors\u001b[49m\u001b[38;5;241;43m=\u001b[39;49m\u001b[43merrors\u001b[49m\u001b[43m)\u001b[49m\n\u001b[1;32m   4831\u001b[0m     indexer \u001b[38;5;241m=\u001b[39m axis\u001b[38;5;241m.\u001b[39mget_indexer(new_axis)\n\u001b[1;32m   4833\u001b[0m \u001b[38;5;66;03m# Case for non-unique axis\u001b[39;00m\n\u001b[1;32m   4834\u001b[0m \u001b[38;5;28;01melse\u001b[39;00m:\n",
      "File \u001b[0;32m~/Desktop/itp/aphasic-evaluation/virtual/lib/python3.12/site-packages/pandas/core/indexes/base.py:7070\u001b[0m, in \u001b[0;36mIndex.drop\u001b[0;34m(self, labels, errors)\u001b[0m\n\u001b[1;32m   7068\u001b[0m \u001b[38;5;28;01mif\u001b[39;00m mask\u001b[38;5;241m.\u001b[39many():\n\u001b[1;32m   7069\u001b[0m     \u001b[38;5;28;01mif\u001b[39;00m errors \u001b[38;5;241m!=\u001b[39m \u001b[38;5;124m\"\u001b[39m\u001b[38;5;124mignore\u001b[39m\u001b[38;5;124m\"\u001b[39m:\n\u001b[0;32m-> 7070\u001b[0m         \u001b[38;5;28;01mraise\u001b[39;00m \u001b[38;5;167;01mKeyError\u001b[39;00m(\u001b[38;5;124mf\u001b[39m\u001b[38;5;124m\"\u001b[39m\u001b[38;5;132;01m{\u001b[39;00mlabels[mask]\u001b[38;5;241m.\u001b[39mtolist()\u001b[38;5;132;01m}\u001b[39;00m\u001b[38;5;124m not found in axis\u001b[39m\u001b[38;5;124m\"\u001b[39m)\n\u001b[1;32m   7071\u001b[0m     indexer \u001b[38;5;241m=\u001b[39m indexer[\u001b[38;5;241m~\u001b[39mmask]\n\u001b[1;32m   7072\u001b[0m \u001b[38;5;28;01mreturn\u001b[39;00m \u001b[38;5;28mself\u001b[39m\u001b[38;5;241m.\u001b[39mdelete(indexer)\n",
      "\u001b[0;31mKeyError\u001b[0m: \"['Marked'] not found in axis\""
     ]
    }
   ],
   "source": [
    "df = df.dropna(axis=0).reset_index() # Drop rows containing missing values\n",
    "df = df.drop(columns=[\"Marked\", \"index\"])"
   ]
  },
  {
   "cell_type": "code",
   "execution_count": 48,
   "metadata": {},
   "outputs": [
    {
     "name": "stdout",
     "output_type": "stream",
     "text": [
      "<class 'pandas.core.frame.DataFrame'>\n",
      "RangeIndex: 2272 entries, 0 to 2271\n",
      "Data columns (total 6 columns):\n",
      " #   Column       Non-Null Count  Dtype \n",
      "---  ------       --------------  ----- \n",
      " 0   index        2272 non-null   int64 \n",
      " 1   Picture No.  2272 non-null   object\n",
      " 2   Original     2272 non-null   object\n",
      " 3   Edited       2272 non-null   object\n",
      " 4   patient      2272 non-null   object\n",
      " 5   audio_path   2272 non-null   object\n",
      "dtypes: int64(1), object(5)\n",
      "memory usage: 106.6+ KB\n"
     ]
    }
   ],
   "source": [
    "df.info()"
   ]
  },
  {
   "cell_type": "markdown",
   "metadata": {},
   "source": [
    "### Inserting audio paths into dataframe\n",
    "\n",
    "The reason why we are not getting rid of the rows yet is because we want to insert the corresponding audio file paths inside the dataframe, which make tracing easier."
   ]
  },
  {
   "cell_type": "code",
   "execution_count": 39,
   "metadata": {},
   "outputs": [],
   "source": [
    "audio_path = \"samples/audio/\"\n",
    "\n",
    "# Insert the audio path into the dataframe\n",
    "def get_audio_path(picture_no: str, patient: str) -> str:\n",
    "    # Check if the audio file exists\n",
    "    if not os.path.exists(audio_path + patient + \"_\" + picture_no + \".m4a\"):\n",
    "        return \"\"\n",
    "    return audio_path + patient + \"_\" + picture_no + \".m4a\"\n",
    "\n",
    "df[\"audio_path\"] = df.apply(lambda row: get_audio_path(row[\"Picture No.\"], row[\"patient\"]), axis=1)"
   ]
  },
  {
   "cell_type": "code",
   "execution_count": 40,
   "metadata": {},
   "outputs": [
    {
     "data": {
      "text/html": [
       "<div>\n",
       "<style scoped>\n",
       "    .dataframe tbody tr th:only-of-type {\n",
       "        vertical-align: middle;\n",
       "    }\n",
       "\n",
       "    .dataframe tbody tr th {\n",
       "        vertical-align: top;\n",
       "    }\n",
       "\n",
       "    .dataframe thead th {\n",
       "        text-align: right;\n",
       "    }\n",
       "</style>\n",
       "<table border=\"1\" class=\"dataframe\">\n",
       "  <thead>\n",
       "    <tr style=\"text-align: right;\">\n",
       "      <th></th>\n",
       "      <th>Picture No.</th>\n",
       "      <th>Original</th>\n",
       "      <th>Edited</th>\n",
       "      <th>patient</th>\n",
       "      <th>audio_path</th>\n",
       "    </tr>\n",
       "  </thead>\n",
       "  <tbody>\n",
       "    <tr>\n",
       "      <th>0</th>\n",
       "      <td>A-01</td>\n",
       "      <td>Already</td>\n",
       "      <td>Orh this one look like my bock my cre crack bo...</td>\n",
       "      <td>al_e026</td>\n",
       "      <td>samples/audio/al_e026_A-01.m4a</td>\n",
       "    </tr>\n",
       "    <tr>\n",
       "      <th>1</th>\n",
       "      <td>A-03</td>\n",
       "      <td>Is</td>\n",
       "      <td>Body is a frok fruk frukow kang kuck of uh cal...</td>\n",
       "      <td>al_e026</td>\n",
       "      <td>samples/audio/al_e026_A-03.m4a</td>\n",
       "    </tr>\n",
       "    <tr>\n",
       "      <th>2</th>\n",
       "      <td>A-04</td>\n",
       "      <td>Eating</td>\n",
       "      <td>Uh cra -cough- look like a b -clear throat- ba...</td>\n",
       "      <td>al_e026</td>\n",
       "      <td>samples/audio/al_e026_A-04.m4a</td>\n",
       "    </tr>\n",
       "    <tr>\n",
       "      <th>3</th>\n",
       "      <td>A-08</td>\n",
       "      <td>Drinking</td>\n",
       "      <td>The krang uh krang kricking uh body kitting uh...</td>\n",
       "      <td>al_e026</td>\n",
       "      <td>samples/audio/al_e026_A-08.m4a</td>\n",
       "    </tr>\n",
       "    <tr>\n",
       "      <th>4</th>\n",
       "      <td>A-11</td>\n",
       "      <td>Is Kitty</td>\n",
       "      <td>The brog the brog is a bro brock brordy is kit...</td>\n",
       "      <td>al_e026</td>\n",
       "      <td>samples/audio/al_e026_A-11.m4a</td>\n",
       "    </tr>\n",
       "    <tr>\n",
       "      <th>...</th>\n",
       "      <td>...</td>\n",
       "      <td>...</td>\n",
       "      <td>...</td>\n",
       "      <td>...</td>\n",
       "      <td>...</td>\n",
       "    </tr>\n",
       "    <tr>\n",
       "      <th>65</th>\n",
       "      <td>B-22</td>\n",
       "      <td>Body</td>\n",
       "      <td>Kruk my tree my gro so my krek trees. Seree my...</td>\n",
       "      <td>al_e026</td>\n",
       "      <td>samples/audio/al_e026_B-22.m4a</td>\n",
       "    </tr>\n",
       "    <tr>\n",
       "      <th>66</th>\n",
       "      <td>B-25</td>\n",
       "      <td>Maudie</td>\n",
       "      <td>Oh the small little boy. The big boy is uh ver...</td>\n",
       "      <td>al_e026</td>\n",
       "      <td>samples/audio/al_e026_B-25.m4a</td>\n",
       "    </tr>\n",
       "    <tr>\n",
       "      <th>67</th>\n",
       "      <td>B-28</td>\n",
       "      <td>See</td>\n",
       "      <td>Froo. A froo her frook look like a body. She l...</td>\n",
       "      <td>al_e026</td>\n",
       "      <td>samples/audio/al_e026_B-28.m4a</td>\n",
       "    </tr>\n",
       "    <tr>\n",
       "      <th>68</th>\n",
       "      <td>B-30</td>\n",
       "      <td>She's</td>\n",
       "      <td>Kruk uh body. A body look like she’s kricking ...</td>\n",
       "      <td>al_e026</td>\n",
       "      <td>samples/audio/al_e026_B-30.m4a</td>\n",
       "    </tr>\n",
       "    <tr>\n",
       "      <th>69</th>\n",
       "      <td>B-31</td>\n",
       "      <td>My</td>\n",
       "      <td>I gruk grek trees. My people gruk my people of...</td>\n",
       "      <td>al_e026</td>\n",
       "      <td>samples/audio/al_e026_B-31.m4a</td>\n",
       "    </tr>\n",
       "  </tbody>\n",
       "</table>\n",
       "<p>70 rows × 5 columns</p>\n",
       "</div>"
      ],
      "text/plain": [
       "   Picture No.  Original                                             Edited  \\\n",
       "0         A-01   Already  Orh this one look like my bock my cre crack bo...   \n",
       "1         A-03        Is  Body is a frok fruk frukow kang kuck of uh cal...   \n",
       "2         A-04    Eating  Uh cra -cough- look like a b -clear throat- ba...   \n",
       "3         A-08  Drinking  The krang uh krang kricking uh body kitting uh...   \n",
       "4         A-11  Is Kitty  The brog the brog is a bro brock brordy is kit...   \n",
       "..         ...       ...                                                ...   \n",
       "65        B-22      Body  Kruk my tree my gro so my krek trees. Seree my...   \n",
       "66        B-25    Maudie  Oh the small little boy. The big boy is uh ver...   \n",
       "67        B-28       See  Froo. A froo her frook look like a body. She l...   \n",
       "68        B-30     She's  Kruk uh body. A body look like she’s kricking ...   \n",
       "69        B-31        My  I gruk grek trees. My people gruk my people of...   \n",
       "\n",
       "    patient                      audio_path  \n",
       "0   al_e026  samples/audio/al_e026_A-01.m4a  \n",
       "1   al_e026  samples/audio/al_e026_A-03.m4a  \n",
       "2   al_e026  samples/audio/al_e026_A-04.m4a  \n",
       "3   al_e026  samples/audio/al_e026_A-08.m4a  \n",
       "4   al_e026  samples/audio/al_e026_A-11.m4a  \n",
       "..      ...                             ...  \n",
       "65  al_e026  samples/audio/al_e026_B-22.m4a  \n",
       "66  al_e026  samples/audio/al_e026_B-25.m4a  \n",
       "67  al_e026  samples/audio/al_e026_B-28.m4a  \n",
       "68  al_e026  samples/audio/al_e026_B-30.m4a  \n",
       "69  al_e026  samples/audio/al_e026_B-31.m4a  \n",
       "\n",
       "[70 rows x 5 columns]"
      ]
     },
     "execution_count": 40,
     "metadata": {},
     "output_type": "execute_result"
    }
   ],
   "source": [
    "df.head(70)"
   ]
  },
  {
   "cell_type": "markdown",
   "metadata": {},
   "source": [
    "### Remove all rows with empty strings as `audio_path`"
   ]
  },
  {
   "cell_type": "code",
   "execution_count": 49,
   "metadata": {},
   "outputs": [
    {
     "name": "stdout",
     "output_type": "stream",
     "text": [
      "<class 'pandas.core.frame.DataFrame'>\n",
      "RangeIndex: 2272 entries, 0 to 2271\n",
      "Data columns (total 6 columns):\n",
      " #   Column       Non-Null Count  Dtype \n",
      "---  ------       --------------  ----- \n",
      " 0   index        2272 non-null   int64 \n",
      " 1   Picture No.  2272 non-null   object\n",
      " 2   Original     2272 non-null   object\n",
      " 3   Edited       2272 non-null   object\n",
      " 4   patient      2272 non-null   object\n",
      " 5   audio_path   2272 non-null   object\n",
      "dtypes: int64(1), object(5)\n",
      "memory usage: 106.6+ KB\n"
     ]
    }
   ],
   "source": [
    "# Remove all rows with empty strings as audio_path\n",
    "df = df[df[\"audio_path\"] != \"\"].reset_index(drop=True)\n",
    "\n",
    "df.info()"
   ]
  },
  {
   "cell_type": "code",
   "execution_count": 51,
   "metadata": {},
   "outputs": [
    {
     "name": "stdout",
     "output_type": "stream",
     "text": [
      "Number of rows with empty strings in 'cleaned_transcript': 0\n"
     ]
    }
   ],
   "source": [
    "# Check the presence of empty strings in the 'cleaned_transcript' column\n",
    "empty_string_count = df[df['Edited'] == \"\"].shape[0]\n",
    "\n",
    "# Display the count of rows with empty strings\n",
    "print(f\"Number of rows with empty strings in 'cleaned_transcript': {empty_string_count}\")"
   ]
  },
  {
   "cell_type": "markdown",
   "metadata": {},
   "source": [
    "Export to another csv, this will be the data we will use"
   ]
  },
  {
   "cell_type": "code",
   "execution_count": 42,
   "metadata": {},
   "outputs": [],
   "source": [
    "# Export to csv\n",
    "df.to_csv(\"samples/transcripts_noun_all.csv\", index=False)"
   ]
  },
  {
   "cell_type": "markdown",
   "metadata": {},
   "source": [
    "### Perform Data Preprocessing\n",
    "\n",
    "Remove special characters and whitespaces from the `Original` and `Edited` columns and convert them to lowercase."
   ]
  },
  {
   "cell_type": "code",
   "execution_count": 7,
   "metadata": {},
   "outputs": [
    {
     "data": {
      "text/html": [
       "<div>\n",
       "<style scoped>\n",
       "    .dataframe tbody tr th:only-of-type {\n",
       "        vertical-align: middle;\n",
       "    }\n",
       "\n",
       "    .dataframe tbody tr th {\n",
       "        vertical-align: top;\n",
       "    }\n",
       "\n",
       "    .dataframe thead th {\n",
       "        text-align: right;\n",
       "    }\n",
       "</style>\n",
       "<table border=\"1\" class=\"dataframe\">\n",
       "  <thead>\n",
       "    <tr style=\"text-align: right;\">\n",
       "      <th></th>\n",
       "      <th>Picture No.</th>\n",
       "      <th>Original</th>\n",
       "      <th>Edited</th>\n",
       "      <th>patient</th>\n",
       "      <th>audio_path</th>\n",
       "      <th>cleaned_original</th>\n",
       "      <th>cleaned_transcript</th>\n",
       "    </tr>\n",
       "  </thead>\n",
       "  <tbody>\n",
       "    <tr>\n",
       "      <th>0</th>\n",
       "      <td>A-01</td>\n",
       "      <td>Already</td>\n",
       "      <td>Orh this one look like my bock my cre crack bo...</td>\n",
       "      <td>al_e026</td>\n",
       "      <td>samples/audio/al_e026_A-01.m4a</td>\n",
       "      <td>already</td>\n",
       "      <td>orh this one look like my bock my cre crack bo...</td>\n",
       "    </tr>\n",
       "    <tr>\n",
       "      <th>1</th>\n",
       "      <td>A-03</td>\n",
       "      <td>Is</td>\n",
       "      <td>Body is a frok fruk frukow kang kuck of uh cal...</td>\n",
       "      <td>al_e026</td>\n",
       "      <td>samples/audio/al_e026_A-03.m4a</td>\n",
       "      <td>is</td>\n",
       "      <td>body is a frok fruk frukow kang kuck of uh cal...</td>\n",
       "    </tr>\n",
       "    <tr>\n",
       "      <th>2</th>\n",
       "      <td>A-04</td>\n",
       "      <td>Eating</td>\n",
       "      <td>Uh cra -cough- look like a b -clear throat- ba...</td>\n",
       "      <td>al_e026</td>\n",
       "      <td>samples/audio/al_e026_A-04.m4a</td>\n",
       "      <td>eating</td>\n",
       "      <td>uh cra cough look like a b clear throat bag of...</td>\n",
       "    </tr>\n",
       "    <tr>\n",
       "      <th>3</th>\n",
       "      <td>A-08</td>\n",
       "      <td>Drinking</td>\n",
       "      <td>The krang uh krang kricking uh body kitting uh...</td>\n",
       "      <td>al_e026</td>\n",
       "      <td>samples/audio/al_e026_A-08.m4a</td>\n",
       "      <td>drinking</td>\n",
       "      <td>the krang uh krang kricking uh body kitting uh...</td>\n",
       "    </tr>\n",
       "    <tr>\n",
       "      <th>4</th>\n",
       "      <td>A-11</td>\n",
       "      <td>Is Kitty</td>\n",
       "      <td>The brog the brog is a bro brock brordy is kit...</td>\n",
       "      <td>al_e026</td>\n",
       "      <td>samples/audio/al_e026_A-11.m4a</td>\n",
       "      <td>is kitty</td>\n",
       "      <td>the brog the brog is a bro brock brordy is kit...</td>\n",
       "    </tr>\n",
       "    <tr>\n",
       "      <th>...</th>\n",
       "      <td>...</td>\n",
       "      <td>...</td>\n",
       "      <td>...</td>\n",
       "      <td>...</td>\n",
       "      <td>...</td>\n",
       "      <td>...</td>\n",
       "      <td>...</td>\n",
       "    </tr>\n",
       "    <tr>\n",
       "      <th>65</th>\n",
       "      <td>A-35</td>\n",
       "      <td>House</td>\n",
       "      <td>Horse</td>\n",
       "      <td>al_e048</td>\n",
       "      <td>samples/audio/al_e048_A-35.m4a</td>\n",
       "      <td>house</td>\n",
       "      <td>horse</td>\n",
       "    </tr>\n",
       "    <tr>\n",
       "      <th>66</th>\n",
       "      <td>A-36</td>\n",
       "      <td>Call</td>\n",
       "      <td>Uh this one call house or what ah</td>\n",
       "      <td>al_e048</td>\n",
       "      <td>samples/audio/al_e048_A-36.m4a</td>\n",
       "      <td>call</td>\n",
       "      <td>uh this one call house or what ah</td>\n",
       "    </tr>\n",
       "    <tr>\n",
       "      <th>67</th>\n",
       "      <td>A-37</td>\n",
       "      <td>I N</td>\n",
       "      <td>Iron</td>\n",
       "      <td>al_e048</td>\n",
       "      <td>samples/audio/al_e048_A-37.m4a</td>\n",
       "      <td>i n</td>\n",
       "      <td>iron</td>\n",
       "    </tr>\n",
       "    <tr>\n",
       "      <th>68</th>\n",
       "      <td>A-38</td>\n",
       "      <td>Okay</td>\n",
       "      <td>Key</td>\n",
       "      <td>al_e048</td>\n",
       "      <td>samples/audio/al_e048_A-38.m4a</td>\n",
       "      <td>okay</td>\n",
       "      <td>key</td>\n",
       "    </tr>\n",
       "    <tr>\n",
       "      <th>69</th>\n",
       "      <td>A-39</td>\n",
       "      <td>King</td>\n",
       "      <td>King</td>\n",
       "      <td>al_e048</td>\n",
       "      <td>samples/audio/al_e048_A-39.m4a</td>\n",
       "      <td>king</td>\n",
       "      <td>king</td>\n",
       "    </tr>\n",
       "  </tbody>\n",
       "</table>\n",
       "<p>70 rows × 7 columns</p>\n",
       "</div>"
      ],
      "text/plain": [
       "   Picture No.  Original                                             Edited  \\\n",
       "0         A-01   Already  Orh this one look like my bock my cre crack bo...   \n",
       "1         A-03        Is  Body is a frok fruk frukow kang kuck of uh cal...   \n",
       "2         A-04    Eating  Uh cra -cough- look like a b -clear throat- ba...   \n",
       "3         A-08  Drinking  The krang uh krang kricking uh body kitting uh...   \n",
       "4         A-11  Is Kitty  The brog the brog is a bro brock brordy is kit...   \n",
       "..         ...       ...                                                ...   \n",
       "65        A-35     House                                              Horse   \n",
       "66        A-36      Call                  Uh this one call house or what ah   \n",
       "67        A-37       I N                                               Iron   \n",
       "68        A-38      Okay                                                Key   \n",
       "69        A-39      King                                               King   \n",
       "\n",
       "    patient                      audio_path cleaned_original  \\\n",
       "0   al_e026  samples/audio/al_e026_A-01.m4a          already   \n",
       "1   al_e026  samples/audio/al_e026_A-03.m4a               is   \n",
       "2   al_e026  samples/audio/al_e026_A-04.m4a           eating   \n",
       "3   al_e026  samples/audio/al_e026_A-08.m4a         drinking   \n",
       "4   al_e026  samples/audio/al_e026_A-11.m4a         is kitty   \n",
       "..      ...                             ...              ...   \n",
       "65  al_e048  samples/audio/al_e048_A-35.m4a            house   \n",
       "66  al_e048  samples/audio/al_e048_A-36.m4a             call   \n",
       "67  al_e048  samples/audio/al_e048_A-37.m4a              i n   \n",
       "68  al_e048  samples/audio/al_e048_A-38.m4a             okay   \n",
       "69  al_e048  samples/audio/al_e048_A-39.m4a             king   \n",
       "\n",
       "                                   cleaned_transcript  \n",
       "0   orh this one look like my bock my cre crack bo...  \n",
       "1   body is a frok fruk frukow kang kuck of uh cal...  \n",
       "2   uh cra cough look like a b clear throat bag of...  \n",
       "3   the krang uh krang kricking uh body kitting uh...  \n",
       "4   the brog the brog is a bro brock brordy is kit...  \n",
       "..                                                ...  \n",
       "65                                              horse  \n",
       "66                  uh this one call house or what ah  \n",
       "67                                               iron  \n",
       "68                                                key  \n",
       "69                                               king  \n",
       "\n",
       "[70 rows x 7 columns]"
      ]
     },
     "execution_count": 7,
     "metadata": {},
     "output_type": "execute_result"
    }
   ],
   "source": [
    "import re\n",
    "\n",
    "def preprocess_text(text: str) -> str:\n",
    "    \"\"\"\n",
    "        This function preprocesses the text by removing \n",
    "        special characters and whitespaces, as well as\n",
    "        converting the text to lowercase.\n",
    "\n",
    "        Args:\n",
    "            text (str): The text to be preprocessed\n",
    "        \n",
    "        Returns:\n",
    "            str: The preprocessed text\n",
    "    \"\"\"\n",
    "    # Remove special characters (keep only alphanumeric and spaces)\n",
    "    clean_text = re.sub(r'[^A-Za-z0-9\\s]', '', text)\n",
    "    return clean_text.lower()\n",
    "\n",
    "df[\"cleaned_original\"] = df[\"Original\"].apply(preprocess_text)\n",
    "df[\"cleaned_transcript\"] = df[\"Edited\"].apply(preprocess_text)\n",
    "\n",
    "df.head(70)"
   ]
  },
  {
   "cell_type": "markdown",
   "metadata": {},
   "source": [
    "### Conduct the experiment\n",
    "\n",
    "Run the model on each row on the `cleaned_transcript` column, then when transcribed, create a new column `whisper_transcription` and `wer` for the error rate."
   ]
  },
  {
   "cell_type": "code",
   "execution_count": 8,
   "metadata": {},
   "outputs": [
    {
     "name": "stdout",
     "output_type": "stream",
     "text": [
      "Using cuda\n"
     ]
    }
   ],
   "source": [
    "# Torch to use gpu\n",
    "import torch\n",
    "# Load the model\n",
    "import whisper\n",
    "from whisper import Whisper\n",
    "\n",
    "if torch.cuda.is_available():\n",
    "    device = torch.device(\"cuda\")\n",
    "    print(\"Using cuda\")\n",
    "else:\n",
    "    device = torch.device(\"cpu\")"
   ]
  },
  {
   "cell_type": "code",
   "execution_count": 9,
   "metadata": {},
   "outputs": [],
   "source": [
    "# Add ffmpeg path if not already in PATH (Needed for torchaudio)\n",
    "os.environ[\"PATH\"] += os.pathsep + \"/opt/homebrew/bin\""
   ]
  },
  {
   "cell_type": "code",
   "execution_count": 10,
   "metadata": {},
   "outputs": [
    {
     "name": "stderr",
     "output_type": "stream",
     "text": [
      "/usr/local/lib/python3.8/site-packages/whisper/__init__.py:150: FutureWarning: You are using `torch.load` with `weights_only=False` (the current default value), which uses the default pickle module implicitly. It is possible to construct malicious pickle data which will execute arbitrary code during unpickling (See https://github.com/pytorch/pytorch/blob/main/SECURITY.md#untrusted-models for more details). In a future release, the default value for `weights_only` will be flipped to `True`. This limits the functions that could be executed during unpickling. Arbitrary objects will no longer be allowed to be loaded via this mode unless they are explicitly allowlisted by the user via `torch.serialization.add_safe_globals`. We recommend you start setting `weights_only=True` for any use case where you don't have full control of the loaded file. Please open an issue on GitHub for any issues related to this experimental feature.\n",
      "  checkpoint = torch.load(fp, map_location=device)\n"
     ]
    }
   ],
   "source": [
    "model = whisper.load_model(\"large-v3\", device=device, in_memory=True)"
   ]
  },
  {
   "cell_type": "code",
   "execution_count": 11,
   "metadata": {},
   "outputs": [
    {
     "data": {
      "text/plain": [
       "<bound method Module.type of Whisper(\n",
       "  (encoder): AudioEncoder(\n",
       "    (conv1): Conv1d(128, 1280, kernel_size=(3,), stride=(1,), padding=(1,))\n",
       "    (conv2): Conv1d(1280, 1280, kernel_size=(3,), stride=(2,), padding=(1,))\n",
       "    (blocks): ModuleList(\n",
       "      (0-31): 32 x ResidualAttentionBlock(\n",
       "        (attn): MultiHeadAttention(\n",
       "          (query): Linear(in_features=1280, out_features=1280, bias=True)\n",
       "          (key): Linear(in_features=1280, out_features=1280, bias=False)\n",
       "          (value): Linear(in_features=1280, out_features=1280, bias=True)\n",
       "          (out): Linear(in_features=1280, out_features=1280, bias=True)\n",
       "        )\n",
       "        (attn_ln): LayerNorm((1280,), eps=1e-05, elementwise_affine=True)\n",
       "        (mlp): Sequential(\n",
       "          (0): Linear(in_features=1280, out_features=5120, bias=True)\n",
       "          (1): GELU(approximate='none')\n",
       "          (2): Linear(in_features=5120, out_features=1280, bias=True)\n",
       "        )\n",
       "        (mlp_ln): LayerNorm((1280,), eps=1e-05, elementwise_affine=True)\n",
       "      )\n",
       "    )\n",
       "    (ln_post): LayerNorm((1280,), eps=1e-05, elementwise_affine=True)\n",
       "  )\n",
       "  (decoder): TextDecoder(\n",
       "    (token_embedding): Embedding(51866, 1280)\n",
       "    (blocks): ModuleList(\n",
       "      (0-31): 32 x ResidualAttentionBlock(\n",
       "        (attn): MultiHeadAttention(\n",
       "          (query): Linear(in_features=1280, out_features=1280, bias=True)\n",
       "          (key): Linear(in_features=1280, out_features=1280, bias=False)\n",
       "          (value): Linear(in_features=1280, out_features=1280, bias=True)\n",
       "          (out): Linear(in_features=1280, out_features=1280, bias=True)\n",
       "        )\n",
       "        (attn_ln): LayerNorm((1280,), eps=1e-05, elementwise_affine=True)\n",
       "        (cross_attn): MultiHeadAttention(\n",
       "          (query): Linear(in_features=1280, out_features=1280, bias=True)\n",
       "          (key): Linear(in_features=1280, out_features=1280, bias=False)\n",
       "          (value): Linear(in_features=1280, out_features=1280, bias=True)\n",
       "          (out): Linear(in_features=1280, out_features=1280, bias=True)\n",
       "        )\n",
       "        (cross_attn_ln): LayerNorm((1280,), eps=1e-05, elementwise_affine=True)\n",
       "        (mlp): Sequential(\n",
       "          (0): Linear(in_features=1280, out_features=5120, bias=True)\n",
       "          (1): GELU(approximate='none')\n",
       "          (2): Linear(in_features=5120, out_features=1280, bias=True)\n",
       "        )\n",
       "        (mlp_ln): LayerNorm((1280,), eps=1e-05, elementwise_affine=True)\n",
       "      )\n",
       "    )\n",
       "    (ln): LayerNorm((1280,), eps=1e-05, elementwise_affine=True)\n",
       "  )\n",
       ")>"
      ]
     },
     "execution_count": 11,
     "metadata": {},
     "output_type": "execute_result"
    }
   ],
   "source": [
    "model.type"
   ]
  },
  {
   "cell_type": "code",
   "execution_count": 12,
   "metadata": {},
   "outputs": [],
   "source": [
    "def transcribe_audio(\n",
    "        audio_paths: str, \n",
    "        model: Whisper, \n",
    "        temperature: float=0.0,\n",
    "        input_prompt: str=\"\"\n",
    "    ) -> str:\n",
    "    \"\"\"\n",
    "        This function transcribes the audio file at the given path and returns the transcription\n",
    "        as well as the Word Error Rate (WER) between the transcription and the target.\n",
    "\n",
    "        Args:\n",
    "            audio_path (str): The path to the audio file\n",
    "            model (model): The asr model\n",
    "            temperature (float): The temperature of the model, values closer to 0 will be more deterministic\n",
    "            input_prompt (str): The input prompt to the model for context\n",
    "        Returns:\n",
    "            str: The transcription\n",
    "    \"\"\"\n",
    "    # Transcribe\n",
    "    result = model.transcribe(\n",
    "        audio_paths, \n",
    "        verbose=None,\n",
    "        temperature=temperature,\n",
    "        initial_prompt=input_prompt,\n",
    "        language=\"en\",\n",
    "        condition_on_previous_text=False\n",
    "    )\n",
    "    return result['text']"
   ]
  },
  {
   "cell_type": "code",
   "execution_count": 13,
   "metadata": {},
   "outputs": [],
   "source": [
    "import warnings\n",
    "\n",
    "# Filter out all warnings (Annoying)\n",
    "warnings.filterwarnings(\"ignore\")"
   ]
  },
  {
   "cell_type": "code",
   "execution_count": 14,
   "metadata": {},
   "outputs": [],
   "source": [
    "from jiwer import wer\n",
    "\n",
    "def compute_wer(transcription: str, target: str) -> float:\n",
    "    \"\"\"\n",
    "        This function computes the Word Error Rate (WER) between the transcription and the target.\n",
    "\n",
    "        Args:\n",
    "            transcription (str): The transcription\n",
    "            target (str): The target text\n",
    "        \n",
    "        Returns:\n",
    "            float: The Word Error Rate (WER)\n",
    "    \"\"\"\n",
    "    error = wer(target, transcription)\n",
    "    if error > 1:\n",
    "        error = 1.0\n",
    "    return error"
   ]
  },
  {
   "cell_type": "code",
   "execution_count": 15,
   "metadata": {},
   "outputs": [],
   "source": [
    "from whisper.normalizers import EnglishTextNormalizer\n",
    "import librosa\n",
    "\n",
    "def transcribe_and_compute(\n",
    "    row: pd.DataFrame,\n",
    "    audio_path: str, \n",
    "    denoise: bool=False,\n",
    "    temperature: float=0.0,\n",
    "    input_prompt: str=\"\"\n",
    ") -> pd.DataFrame:\n",
    "    normalizer = EnglishTextNormalizer()\n",
    "    if not denoise:\n",
    "        row['whisper_transcription'] = normalizer(transcribe_audio(audio_path, model, temperature, input_prompt))\n",
    "        row['wer'] = compute_wer(row['whisper_transcription'], row['cleaned_transcript'])\n",
    "        row['sampling_rate'] = librosa.get_samplerate(row['audio_path'])\n",
    "    else:\n",
    "        row['whisper_transcription_denoise'] = normalizer(transcribe_audio(audio_path, model, temperature, input_prompt))\n",
    "        row['wer_denoise'] = compute_wer(row['whisper_transcription_denoise'], row['cleaned_transcript'])\n",
    "        row['sampling_rate'] = librosa.get_samplerate(row['audio_path_denoised'])\n",
    "    return row"
   ]
  },
  {
   "cell_type": "code",
   "execution_count": 23,
   "metadata": {},
   "outputs": [
    {
     "data": {
      "text/plain": [
       "device(type='cuda', index=0)"
      ]
     },
     "execution_count": 23,
     "metadata": {},
     "output_type": "execute_result"
    }
   ],
   "source": [
    "model.device"
   ]
  },
  {
   "cell_type": "code",
   "execution_count": 16,
   "metadata": {},
   "outputs": [],
   "source": [
    "import warnings\n",
    "\n",
    "# Suppress all annoying warnings\n",
    "warnings.filterwarnings(\"ignore\")"
   ]
  },
  {
   "cell_type": "code",
   "execution_count": 17,
   "metadata": {},
   "outputs": [],
   "source": [
    "from tqdm import tqdm"
   ]
  },
  {
   "cell_type": "code",
   "execution_count": 26,
   "metadata": {},
   "outputs": [
    {
     "name": "stderr",
     "output_type": "stream",
     "text": [
      "Transcribing and computing WER: 100%|██████████| 880/880 [19:08<00:00,  1.31s/it]  \n"
     ]
    }
   ],
   "source": [
    "tqdm.pandas(desc=\"Transcribing and computing WER\")\n",
    "df = df.progress_apply(lambda row: transcribe_and_compute(row, row['audio_path']), axis=1)"
   ]
  },
  {
   "cell_type": "code",
   "execution_count": 27,
   "metadata": {},
   "outputs": [
    {
     "data": {
      "text/html": [
       "<div>\n",
       "<style scoped>\n",
       "    .dataframe tbody tr th:only-of-type {\n",
       "        vertical-align: middle;\n",
       "    }\n",
       "\n",
       "    .dataframe tbody tr th {\n",
       "        vertical-align: top;\n",
       "    }\n",
       "\n",
       "    .dataframe thead th {\n",
       "        text-align: right;\n",
       "    }\n",
       "</style>\n",
       "<table border=\"1\" class=\"dataframe\">\n",
       "  <thead>\n",
       "    <tr style=\"text-align: right;\">\n",
       "      <th></th>\n",
       "      <th>Picture No.</th>\n",
       "      <th>Original</th>\n",
       "      <th>Edited</th>\n",
       "      <th>patient</th>\n",
       "      <th>audio_path</th>\n",
       "      <th>cleaned_original</th>\n",
       "      <th>cleaned_transcript</th>\n",
       "      <th>whisper_transcription</th>\n",
       "      <th>wer</th>\n",
       "      <th>sampling_rate</th>\n",
       "    </tr>\n",
       "  </thead>\n",
       "  <tbody>\n",
       "    <tr>\n",
       "      <th>0</th>\n",
       "      <td>A-01</td>\n",
       "      <td>Already</td>\n",
       "      <td>Orh this one look like my bock my cre crack bo...</td>\n",
       "      <td>al_e026</td>\n",
       "      <td>samples/audio/al_e026_A-01.m4a</td>\n",
       "      <td>already</td>\n",
       "      <td>orh this one look like my bock my cre crack bo...</td>\n",
       "      <td>0 this one look like my box my cracked body my...</td>\n",
       "      <td>0.354167</td>\n",
       "      <td>44100</td>\n",
       "    </tr>\n",
       "    <tr>\n",
       "      <th>1</th>\n",
       "      <td>A-03</td>\n",
       "      <td>Is</td>\n",
       "      <td>Body is a frok fruk frukow kang kuck of uh cal...</td>\n",
       "      <td>al_e026</td>\n",
       "      <td>samples/audio/al_e026_A-03.m4a</td>\n",
       "      <td>is</td>\n",
       "      <td>body is a frok fruk frukow kang kuck of uh cal...</td>\n",
       "      <td>my body is a frog frog frog cow cow cow cow co...</td>\n",
       "      <td>0.857143</td>\n",
       "      <td>44100</td>\n",
       "    </tr>\n",
       "    <tr>\n",
       "      <th>2</th>\n",
       "      <td>A-04</td>\n",
       "      <td>Eating</td>\n",
       "      <td>Uh cra -cough- look like a b -clear throat- ba...</td>\n",
       "      <td>al_e026</td>\n",
       "      <td>samples/audio/al_e026_A-04.m4a</td>\n",
       "      <td>eating</td>\n",
       "      <td>uh cra cough look like a b clear throat bag of...</td>\n",
       "      <td></td>\n",
       "      <td>1.000000</td>\n",
       "      <td>44100</td>\n",
       "    </tr>\n",
       "    <tr>\n",
       "      <th>3</th>\n",
       "      <td>A-08</td>\n",
       "      <td>Drinking</td>\n",
       "      <td>The krang uh krang kricking uh body kitting uh...</td>\n",
       "      <td>al_e026</td>\n",
       "      <td>samples/audio/al_e026_A-08.m4a</td>\n",
       "      <td>drinking</td>\n",
       "      <td>the krang uh krang kricking uh body kitting uh...</td>\n",
       "      <td>the crane a crane a crane a body kicking a cal...</td>\n",
       "      <td>0.736842</td>\n",
       "      <td>44100</td>\n",
       "    </tr>\n",
       "    <tr>\n",
       "      <th>4</th>\n",
       "      <td>A-11</td>\n",
       "      <td>Is Kitty</td>\n",
       "      <td>The brog the brog is a bro brock brordy is kit...</td>\n",
       "      <td>al_e026</td>\n",
       "      <td>samples/audio/al_e026_A-11.m4a</td>\n",
       "      <td>is kitty</td>\n",
       "      <td>the brog the brog is a bro brock brordy is kit...</td>\n",
       "      <td>the brock brody is skating a tree and the broc...</td>\n",
       "      <td>0.525000</td>\n",
       "      <td>44100</td>\n",
       "    </tr>\n",
       "    <tr>\n",
       "      <th>...</th>\n",
       "      <td>...</td>\n",
       "      <td>...</td>\n",
       "      <td>...</td>\n",
       "      <td>...</td>\n",
       "      <td>...</td>\n",
       "      <td>...</td>\n",
       "      <td>...</td>\n",
       "      <td>...</td>\n",
       "      <td>...</td>\n",
       "      <td>...</td>\n",
       "    </tr>\n",
       "    <tr>\n",
       "      <th>65</th>\n",
       "      <td>A-35</td>\n",
       "      <td>House</td>\n",
       "      <td>Horse</td>\n",
       "      <td>al_e048</td>\n",
       "      <td>samples/audio/al_e048_A-35.m4a</td>\n",
       "      <td>house</td>\n",
       "      <td>horse</td>\n",
       "      <td>hoss</td>\n",
       "      <td>1.000000</td>\n",
       "      <td>44100</td>\n",
       "    </tr>\n",
       "    <tr>\n",
       "      <th>66</th>\n",
       "      <td>A-36</td>\n",
       "      <td>Call</td>\n",
       "      <td>Uh this one call house or what ah</td>\n",
       "      <td>al_e048</td>\n",
       "      <td>samples/audio/al_e048_A-36.m4a</td>\n",
       "      <td>call</td>\n",
       "      <td>uh this one call house or what ah</td>\n",
       "      <td></td>\n",
       "      <td>1.000000</td>\n",
       "      <td>44100</td>\n",
       "    </tr>\n",
       "    <tr>\n",
       "      <th>67</th>\n",
       "      <td>A-37</td>\n",
       "      <td>I N</td>\n",
       "      <td>Iron</td>\n",
       "      <td>al_e048</td>\n",
       "      <td>samples/audio/al_e048_A-37.m4a</td>\n",
       "      <td>i n</td>\n",
       "      <td>iron</td>\n",
       "      <td></td>\n",
       "      <td>1.000000</td>\n",
       "      <td>44100</td>\n",
       "    </tr>\n",
       "    <tr>\n",
       "      <th>68</th>\n",
       "      <td>A-38</td>\n",
       "      <td>Okay</td>\n",
       "      <td>Key</td>\n",
       "      <td>al_e048</td>\n",
       "      <td>samples/audio/al_e048_A-38.m4a</td>\n",
       "      <td>okay</td>\n",
       "      <td>key</td>\n",
       "      <td>ki</td>\n",
       "      <td>1.000000</td>\n",
       "      <td>44100</td>\n",
       "    </tr>\n",
       "    <tr>\n",
       "      <th>69</th>\n",
       "      <td>A-39</td>\n",
       "      <td>King</td>\n",
       "      <td>King</td>\n",
       "      <td>al_e048</td>\n",
       "      <td>samples/audio/al_e048_A-39.m4a</td>\n",
       "      <td>king</td>\n",
       "      <td>king</td>\n",
       "      <td>king</td>\n",
       "      <td>0.000000</td>\n",
       "      <td>44100</td>\n",
       "    </tr>\n",
       "  </tbody>\n",
       "</table>\n",
       "<p>70 rows × 10 columns</p>\n",
       "</div>"
      ],
      "text/plain": [
       "   Picture No.  Original                                             Edited  \\\n",
       "0         A-01   Already  Orh this one look like my bock my cre crack bo...   \n",
       "1         A-03        Is  Body is a frok fruk frukow kang kuck of uh cal...   \n",
       "2         A-04    Eating  Uh cra -cough- look like a b -clear throat- ba...   \n",
       "3         A-08  Drinking  The krang uh krang kricking uh body kitting uh...   \n",
       "4         A-11  Is Kitty  The brog the brog is a bro brock brordy is kit...   \n",
       "..         ...       ...                                                ...   \n",
       "65        A-35     House                                              Horse   \n",
       "66        A-36      Call                  Uh this one call house or what ah   \n",
       "67        A-37       I N                                               Iron   \n",
       "68        A-38      Okay                                                Key   \n",
       "69        A-39      King                                               King   \n",
       "\n",
       "    patient                      audio_path cleaned_original  \\\n",
       "0   al_e026  samples/audio/al_e026_A-01.m4a          already   \n",
       "1   al_e026  samples/audio/al_e026_A-03.m4a               is   \n",
       "2   al_e026  samples/audio/al_e026_A-04.m4a           eating   \n",
       "3   al_e026  samples/audio/al_e026_A-08.m4a         drinking   \n",
       "4   al_e026  samples/audio/al_e026_A-11.m4a         is kitty   \n",
       "..      ...                             ...              ...   \n",
       "65  al_e048  samples/audio/al_e048_A-35.m4a            house   \n",
       "66  al_e048  samples/audio/al_e048_A-36.m4a             call   \n",
       "67  al_e048  samples/audio/al_e048_A-37.m4a              i n   \n",
       "68  al_e048  samples/audio/al_e048_A-38.m4a             okay   \n",
       "69  al_e048  samples/audio/al_e048_A-39.m4a             king   \n",
       "\n",
       "                                   cleaned_transcript  \\\n",
       "0   orh this one look like my bock my cre crack bo...   \n",
       "1   body is a frok fruk frukow kang kuck of uh cal...   \n",
       "2   uh cra cough look like a b clear throat bag of...   \n",
       "3   the krang uh krang kricking uh body kitting uh...   \n",
       "4   the brog the brog is a bro brock brordy is kit...   \n",
       "..                                                ...   \n",
       "65                                              horse   \n",
       "66                  uh this one call house or what ah   \n",
       "67                                               iron   \n",
       "68                                                key   \n",
       "69                                               king   \n",
       "\n",
       "                                whisper_transcription       wer  sampling_rate  \n",
       "0   0 this one look like my box my cracked body my...  0.354167          44100  \n",
       "1   my body is a frog frog frog cow cow cow cow co...  0.857143          44100  \n",
       "2                                                      1.000000          44100  \n",
       "3   the crane a crane a crane a body kicking a cal...  0.736842          44100  \n",
       "4   the brock brody is skating a tree and the broc...  0.525000          44100  \n",
       "..                                                ...       ...            ...  \n",
       "65                                               hoss  1.000000          44100  \n",
       "66                                                     1.000000          44100  \n",
       "67                                                     1.000000          44100  \n",
       "68                                                 ki  1.000000          44100  \n",
       "69                                               king  0.000000          44100  \n",
       "\n",
       "[70 rows x 10 columns]"
      ]
     },
     "execution_count": 27,
     "metadata": {},
     "output_type": "execute_result"
    }
   ],
   "source": [
    "df.head()"
   ]
  },
  {
   "cell_type": "markdown",
   "metadata": {},
   "source": [
    "All audio files have the same sampling rate."
   ]
  },
  {
   "cell_type": "code",
   "execution_count": 28,
   "metadata": {},
   "outputs": [
    {
     "data": {
      "text/plain": [
       "0      0 this one look like my box my cracked body my...\n",
       "1      my body is a frog frog frog cow cow cow cow co...\n",
       "2                                                       \n",
       "3      the crane a crane a crane a body kicking a cal...\n",
       "4      the brock brody is skating a tree and the broc...\n",
       "                             ...                        \n",
       "875                                                     \n",
       "876                                                     \n",
       "877                                                     \n",
       "878    okay do your hand exercise okay your mouth you...\n",
       "879                                                    0\n",
       "Name: whisper_transcription, Length: 880, dtype: object"
      ]
     },
     "execution_count": 28,
     "metadata": {},
     "output_type": "execute_result"
    }
   ],
   "source": [
    "df['whisper_transcription']"
   ]
  },
  {
   "cell_type": "markdown",
   "metadata": {},
   "source": [
    "Looking at the data again, it appears that `al_e180` has plenty of mismatched audio and transcription data. We will remove it to see if the WER reduces."
   ]
  },
  {
   "cell_type": "code",
   "execution_count": 29,
   "metadata": {},
   "outputs": [],
   "source": [
    "df = df.drop(df[df['patient'] == 'al_e180'].index)"
   ]
  },
  {
   "cell_type": "code",
   "execution_count": 30,
   "metadata": {},
   "outputs": [
    {
     "name": "stdout",
     "output_type": "stream",
     "text": [
      "<class 'pandas.core.frame.DataFrame'>\n",
      "RangeIndex: 844 entries, 0 to 843\n",
      "Data columns (total 10 columns):\n",
      " #   Column                 Non-Null Count  Dtype  \n",
      "---  ------                 --------------  -----  \n",
      " 0   Picture No.            844 non-null    object \n",
      " 1   Original               844 non-null    object \n",
      " 2   Edited                 844 non-null    object \n",
      " 3   patient                844 non-null    object \n",
      " 4   audio_path             844 non-null    object \n",
      " 5   cleaned_original       844 non-null    object \n",
      " 6   cleaned_transcript     844 non-null    object \n",
      " 7   whisper_transcription  844 non-null    object \n",
      " 8   wer                    844 non-null    float64\n",
      " 9   sampling_rate          844 non-null    int64  \n",
      "dtypes: float64(1), int64(1), object(8)\n",
      "memory usage: 66.1+ KB\n"
     ]
    }
   ],
   "source": [
    "df.info()"
   ]
  },
  {
   "cell_type": "code",
   "execution_count": 31,
   "metadata": {},
   "outputs": [],
   "source": [
    "# Normalise the WER to max = 1\n",
    "df['wer'] = df['wer'].apply(lambda x: 1 if x > 1 else x)"
   ]
  },
  {
   "cell_type": "code",
   "execution_count": 32,
   "metadata": {},
   "outputs": [
    {
     "name": "stdout",
     "output_type": "stream",
     "text": [
      "Average WER:  0.7141398875069674\n"
     ]
    }
   ],
   "source": [
    "# Mean WER\n",
    "average_wer = df['wer'].mean()\n",
    "print(\"Average WER: \", average_wer)"
   ]
  },
  {
   "cell_type": "markdown",
   "metadata": {},
   "source": [
    "### Results and Conclusion"
   ]
  },
  {
   "cell_type": "markdown",
   "metadata": {},
   "source": [
    "| model              | temperature | dataset  | WER % (lower is better)|\n",
    "|--------------------|-------------|----------|------------------------|\n",
    "| `whisper-tiny-en`  | 0.0         | noun-en  | 81                     |\n",
    "| `whisper-small-en` | 0.0         | noun-en  | 76                     |\n",
    "| `whisper-medium-en`| 0.0         | noun-en  | 71                     |\n",
    "| `whisper-large-v3` | 0.0         | noun-en  | 67                     |\n",
    "\n",
    "The average word error rates for **noun** transcriptions are listed above, with the lowest WER being found in the largest model, `whisper-large-v3` at 67%. The WER, even for the largest model, is still too high for atypical speech.\n",
    "\n",
    "However, it is also important to take note that a relatively high WER does not tell us the entire story. For example, the human-transcribed \"ground truth\" labels `cleaned_transcript` may not be perfect. Moreover, a good outcome may not necessarily refer to a WER of close to zero, but a match is found between the target word and the transcription (e.g., the transcription contains the target word). \n",
    "\n",
    "Subsequently, the goal of this project is to improve the overall accuracy of the ASR model, reducing the WER - hopefully by a significant margin.\n",
    "\n",
    "We will explore the following methods to improve the transcription performance of the ASR model, from least \"expensive\" to most \"expensive\":\n",
    "\n",
    "1. Adjusting model parameters such as `temperature`\n",
    "2. For single-word transcriptions -> Provide Whisper with an input prompt\n",
    "3. Pre-processing the audio before transcribing\n",
    "4. Model fine-tuning with custom dataset provided by NUHS;\n",
    "5. Post-transcription processing - Speech -> Phonetics(Speech) == Phonetics(word)? -> Outside of model scope\n"
   ]
  },
  {
   "cell_type": "markdown",
   "metadata": {},
   "source": [
    "### Method 1: Adjusting Model Parameters"
   ]
  },
  {
   "cell_type": "code",
   "execution_count": 34,
   "metadata": {},
   "outputs": [],
   "source": [
    "res = model.transcribe(\n",
    "    audio=df['audio_path'][0],\n",
    "    temperature=0.3,\n",
    "    task=\"transcribe\",\n",
    "    language=\"en\"\n",
    ")"
   ]
  },
  {
   "cell_type": "code",
   "execution_count": 35,
   "metadata": {},
   "outputs": [
    {
     "data": {
      "text/plain": [
       "' This one look like my box, my cracked body. My cracked body is cracked. The cracked is stuck in a car, and the whole box is being cut. The top is the body, and the car is getting a body.'"
      ]
     },
     "execution_count": 35,
     "metadata": {},
     "output_type": "execute_result"
    }
   ],
   "source": [
    "res['text']"
   ]
  },
  {
   "cell_type": "code",
   "execution_count": 36,
   "metadata": {},
   "outputs": [
    {
     "data": {
      "text/plain": [
       "'orh this one look like my bock my cre crack body my cre body is is cro te te cro is taking a cark and the whole bock is being cut and the top your body and then the kicking the car is caring eh body la hm'"
      ]
     },
     "execution_count": 36,
     "metadata": {},
     "output_type": "execute_result"
    }
   ],
   "source": [
    "df['cleaned_transcript'][0]"
   ]
  },
  {
   "cell_type": "code",
   "execution_count": 37,
   "metadata": {},
   "outputs": [
    {
     "name": "stdout",
     "output_type": "stream",
     "text": [
      "0.5\n"
     ]
    }
   ],
   "source": [
    "from whisper.normalizers import EnglishTextNormalizer\n",
    "\n",
    "normalizer = EnglishTextNormalizer()\n",
    "\n",
    "word_error_rate = wer(df['cleaned_transcript'][0], normalizer(res['text']))\n",
    "\n",
    "print(word_error_rate)"
   ]
  },
  {
   "cell_type": "markdown",
   "metadata": {},
   "source": [
    "Let's try it for the entire dataset!"
   ]
  },
  {
   "cell_type": "code",
   "execution_count": 38,
   "metadata": {},
   "outputs": [
    {
     "name": "stderr",
     "output_type": "stream",
     "text": [
      "Transcribing and computing WER temp 0.3: 100%|██████████| 844/844 [17:31<00:00,  1.25s/it]  \n"
     ]
    }
   ],
   "source": [
    "tqdm.pandas(desc=\"Transcribing and computing WER temp 0.3\")\n",
    "df = df.progress_apply(lambda row: transcribe_and_compute(row, row['audio_path'], temperature=0.3), axis=1)"
   ]
  },
  {
   "cell_type": "code",
   "execution_count": 39,
   "metadata": {},
   "outputs": [
    {
     "data": {
      "text/html": [
       "<div>\n",
       "<style scoped>\n",
       "    .dataframe tbody tr th:only-of-type {\n",
       "        vertical-align: middle;\n",
       "    }\n",
       "\n",
       "    .dataframe tbody tr th {\n",
       "        vertical-align: top;\n",
       "    }\n",
       "\n",
       "    .dataframe thead th {\n",
       "        text-align: right;\n",
       "    }\n",
       "</style>\n",
       "<table border=\"1\" class=\"dataframe\">\n",
       "  <thead>\n",
       "    <tr style=\"text-align: right;\">\n",
       "      <th></th>\n",
       "      <th>Picture No.</th>\n",
       "      <th>Original</th>\n",
       "      <th>Edited</th>\n",
       "      <th>patient</th>\n",
       "      <th>audio_path</th>\n",
       "      <th>cleaned_original</th>\n",
       "      <th>cleaned_transcript</th>\n",
       "      <th>whisper_transcription</th>\n",
       "      <th>wer</th>\n",
       "      <th>sampling_rate</th>\n",
       "    </tr>\n",
       "  </thead>\n",
       "  <tbody>\n",
       "    <tr>\n",
       "      <th>0</th>\n",
       "      <td>A-01</td>\n",
       "      <td>Already</td>\n",
       "      <td>Orh this one look like my bock my cre crack bo...</td>\n",
       "      <td>al_e026</td>\n",
       "      <td>samples/audio/al_e026_A-01.m4a</td>\n",
       "      <td>already</td>\n",
       "      <td>orh this one look like my bock my cre crack bo...</td>\n",
       "      <td>0 this one look like my box my cracked body my...</td>\n",
       "      <td>0.395833</td>\n",
       "      <td>44100</td>\n",
       "    </tr>\n",
       "    <tr>\n",
       "      <th>1</th>\n",
       "      <td>A-03</td>\n",
       "      <td>Is</td>\n",
       "      <td>Body is a frok fruk frukow kang kuck of uh cal...</td>\n",
       "      <td>al_e026</td>\n",
       "      <td>samples/audio/al_e026_A-03.m4a</td>\n",
       "      <td>is</td>\n",
       "      <td>body is a frok fruk frukow kang kuck of uh cal...</td>\n",
       "      <td>my body is a frog frog frog cow cow cow .</td>\n",
       "      <td>0.857143</td>\n",
       "      <td>44100</td>\n",
       "    </tr>\n",
       "    <tr>\n",
       "      <th>2</th>\n",
       "      <td>A-04</td>\n",
       "      <td>Eating</td>\n",
       "      <td>Uh cra -cough- look like a b -clear throat- ba...</td>\n",
       "      <td>al_e026</td>\n",
       "      <td>samples/audio/al_e026_A-04.m4a</td>\n",
       "      <td>eating</td>\n",
       "      <td>uh cra cough look like a b clear throat bag of...</td>\n",
       "      <td>a crack it looks like a bag of people clicking...</td>\n",
       "      <td>0.478261</td>\n",
       "      <td>44100</td>\n",
       "    </tr>\n",
       "    <tr>\n",
       "      <th>3</th>\n",
       "      <td>A-08</td>\n",
       "      <td>Drinking</td>\n",
       "      <td>The krang uh krang kricking uh body kitting uh...</td>\n",
       "      <td>al_e026</td>\n",
       "      <td>samples/audio/al_e026_A-08.m4a</td>\n",
       "      <td>drinking</td>\n",
       "      <td>the krang uh krang kricking uh body kitting uh...</td>\n",
       "      <td>the crane a crane a crane a body kicking a cal...</td>\n",
       "      <td>0.736842</td>\n",
       "      <td>44100</td>\n",
       "    </tr>\n",
       "    <tr>\n",
       "      <th>4</th>\n",
       "      <td>A-11</td>\n",
       "      <td>Is Kitty</td>\n",
       "      <td>The brog the brog is a bro brock brordy is kit...</td>\n",
       "      <td>al_e026</td>\n",
       "      <td>samples/audio/al_e026_A-11.m4a</td>\n",
       "      <td>is kitty</td>\n",
       "      <td>the brog the brog is a bro brock brordy is kit...</td>\n",
       "      <td>people are being cruel for the body</td>\n",
       "      <td>0.875000</td>\n",
       "      <td>44100</td>\n",
       "    </tr>\n",
       "  </tbody>\n",
       "</table>\n",
       "</div>"
      ],
      "text/plain": [
       "  Picture No.  Original                                             Edited  \\\n",
       "0        A-01   Already  Orh this one look like my bock my cre crack bo...   \n",
       "1        A-03        Is  Body is a frok fruk frukow kang kuck of uh cal...   \n",
       "2        A-04    Eating  Uh cra -cough- look like a b -clear throat- ba...   \n",
       "3        A-08  Drinking  The krang uh krang kricking uh body kitting uh...   \n",
       "4        A-11  Is Kitty  The brog the brog is a bro brock brordy is kit...   \n",
       "\n",
       "   patient                      audio_path cleaned_original  \\\n",
       "0  al_e026  samples/audio/al_e026_A-01.m4a          already   \n",
       "1  al_e026  samples/audio/al_e026_A-03.m4a               is   \n",
       "2  al_e026  samples/audio/al_e026_A-04.m4a           eating   \n",
       "3  al_e026  samples/audio/al_e026_A-08.m4a         drinking   \n",
       "4  al_e026  samples/audio/al_e026_A-11.m4a         is kitty   \n",
       "\n",
       "                                  cleaned_transcript  \\\n",
       "0  orh this one look like my bock my cre crack bo...   \n",
       "1  body is a frok fruk frukow kang kuck of uh cal...   \n",
       "2  uh cra cough look like a b clear throat bag of...   \n",
       "3  the krang uh krang kricking uh body kitting uh...   \n",
       "4  the brog the brog is a bro brock brordy is kit...   \n",
       "\n",
       "                               whisper_transcription       wer  sampling_rate  \n",
       "0  0 this one look like my box my cracked body my...  0.395833          44100  \n",
       "1          my body is a frog frog frog cow cow cow .  0.857143          44100  \n",
       "2  a crack it looks like a bag of people clicking...  0.478261          44100  \n",
       "3  the crane a crane a crane a body kicking a cal...  0.736842          44100  \n",
       "4                people are being cruel for the body  0.875000          44100  "
      ]
     },
     "execution_count": 39,
     "metadata": {},
     "output_type": "execute_result"
    }
   ],
   "source": [
    "df.head()"
   ]
  },
  {
   "cell_type": "code",
   "execution_count": 40,
   "metadata": {},
   "outputs": [],
   "source": [
    "df['wer'] = df['wer'].apply(lambda x: 1 if x > 1 else x)"
   ]
  },
  {
   "cell_type": "markdown",
   "metadata": {},
   "source": [
    "Average WER for `al_e026`, temperature = 0.3"
   ]
  },
  {
   "cell_type": "code",
   "execution_count": 41,
   "metadata": {},
   "outputs": [
    {
     "data": {
      "text/plain": [
       "0.612819800340081"
      ]
     },
     "execution_count": 41,
     "metadata": {},
     "output_type": "execute_result"
    }
   ],
   "source": [
    "df[df['patient'] == 'al_e026']['wer'].mean()"
   ]
  },
  {
   "cell_type": "markdown",
   "metadata": {},
   "source": [
    "Average WER for `al_e048`, temperature = 0.3"
   ]
  },
  {
   "cell_type": "code",
   "execution_count": 42,
   "metadata": {},
   "outputs": [
    {
     "data": {
      "text/plain": [
       "0.7965811965811966"
      ]
     },
     "execution_count": 42,
     "metadata": {},
     "output_type": "execute_result"
    }
   ],
   "source": [
    "df[df['patient'] == 'al_e048']['wer'].mean()"
   ]
  },
  {
   "cell_type": "markdown",
   "metadata": {},
   "source": [
    "Average WER for `al_e078`, temperature = 0.3"
   ]
  },
  {
   "cell_type": "code",
   "execution_count": 43,
   "metadata": {},
   "outputs": [
    {
     "data": {
      "text/plain": [
       "0.6448206497920225"
      ]
     },
     "execution_count": 43,
     "metadata": {},
     "output_type": "execute_result"
    }
   ],
   "source": [
    "df[df['patient'] == 'al_e078']['wer'].mean()"
   ]
  },
  {
   "cell_type": "markdown",
   "metadata": {},
   "source": [
    "Average WER for `al_e085`, temperature = 0.3"
   ]
  },
  {
   "cell_type": "code",
   "execution_count": 44,
   "metadata": {},
   "outputs": [
    {
     "data": {
      "text/plain": [
       "0.91918850498869"
      ]
     },
     "execution_count": 44,
     "metadata": {},
     "output_type": "execute_result"
    }
   ],
   "source": [
    "df[df['patient'] == 'al_e085']['wer'].mean()"
   ]
  },
  {
   "cell_type": "markdown",
   "metadata": {},
   "source": [
    "Average WER for `al_e092`, temperature = 0.3"
   ]
  },
  {
   "cell_type": "code",
   "execution_count": 45,
   "metadata": {},
   "outputs": [
    {
     "data": {
      "text/plain": [
       "0.8369565217391304"
      ]
     },
     "execution_count": 45,
     "metadata": {},
     "output_type": "execute_result"
    }
   ],
   "source": [
    "df[df['patient'] == 'al_e092']['wer'].mean()"
   ]
  },
  {
   "cell_type": "markdown",
   "metadata": {},
   "source": [
    "Average WER for `al_e099`, temperature = 0.3"
   ]
  },
  {
   "cell_type": "code",
   "execution_count": 46,
   "metadata": {},
   "outputs": [
    {
     "data": {
      "text/plain": [
       "0.7867647058823529"
      ]
     },
     "execution_count": 46,
     "metadata": {},
     "output_type": "execute_result"
    }
   ],
   "source": [
    "df[df['patient'] == 'al_e099']['wer'].mean()"
   ]
  },
  {
   "cell_type": "markdown",
   "metadata": {},
   "source": [
    "Average WER for `al_e100`, temperature = 0.3"
   ]
  },
  {
   "cell_type": "code",
   "execution_count": 47,
   "metadata": {},
   "outputs": [
    {
     "data": {
      "text/plain": [
       "0.7285714285714285"
      ]
     },
     "execution_count": 47,
     "metadata": {},
     "output_type": "execute_result"
    }
   ],
   "source": [
    "df[df['patient'] == 'al_e100']['wer'].mean()"
   ]
  },
  {
   "cell_type": "markdown",
   "metadata": {},
   "source": [
    "Average WER for `al_e101`, temperature = 0.3"
   ]
  },
  {
   "cell_type": "code",
   "execution_count": 48,
   "metadata": {},
   "outputs": [
    {
     "data": {
      "text/plain": [
       "0.6685472739820565"
      ]
     },
     "execution_count": 48,
     "metadata": {},
     "output_type": "execute_result"
    }
   ],
   "source": [
    "df[df['patient'] == 'al_e101']['wer'].mean()"
   ]
  },
  {
   "cell_type": "markdown",
   "metadata": {},
   "source": [
    "Average WER for `al_e106`, temperature = 0.3"
   ]
  },
  {
   "cell_type": "code",
   "execution_count": 49,
   "metadata": {},
   "outputs": [
    {
     "data": {
      "text/plain": [
       "0.625"
      ]
     },
     "execution_count": 49,
     "metadata": {},
     "output_type": "execute_result"
    }
   ],
   "source": [
    "df[df['patient'] == 'al_e106']['wer'].mean()"
   ]
  },
  {
   "cell_type": "markdown",
   "metadata": {},
   "source": [
    "Average WER for `al_e117`, temperature = 0.3"
   ]
  },
  {
   "cell_type": "code",
   "execution_count": 50,
   "metadata": {},
   "outputs": [
    {
     "data": {
      "text/plain": [
       "0.8830409356725146"
      ]
     },
     "execution_count": 50,
     "metadata": {},
     "output_type": "execute_result"
    }
   ],
   "source": [
    "df[df['patient'] == 'al_e117']['wer'].mean()"
   ]
  },
  {
   "cell_type": "markdown",
   "metadata": {},
   "source": [
    "Average WER for `al_e118`, temperature = 0.3"
   ]
  },
  {
   "cell_type": "code",
   "execution_count": 51,
   "metadata": {},
   "outputs": [
    {
     "data": {
      "text/plain": [
       "0.8768472906403941"
      ]
     },
     "execution_count": 51,
     "metadata": {},
     "output_type": "execute_result"
    }
   ],
   "source": [
    "df[df['patient'] == 'al_e118']['wer'].mean()"
   ]
  },
  {
   "cell_type": "markdown",
   "metadata": {},
   "source": [
    "Average WER for `al_e122`, temperature = 0.3"
   ]
  },
  {
   "cell_type": "code",
   "execution_count": 52,
   "metadata": {},
   "outputs": [
    {
     "data": {
      "text/plain": [
       "0.7341269841269842"
      ]
     },
     "execution_count": 52,
     "metadata": {},
     "output_type": "execute_result"
    }
   ],
   "source": [
    "df[df['patient'] == 'al_e122']['wer'].mean()"
   ]
  },
  {
   "cell_type": "markdown",
   "metadata": {},
   "source": [
    "Average WER for `al_e132`, temperature = 0.3"
   ]
  },
  {
   "cell_type": "code",
   "execution_count": 53,
   "metadata": {},
   "outputs": [
    {
     "data": {
      "text/plain": [
       "0.7787698412698413"
      ]
     },
     "execution_count": 53,
     "metadata": {},
     "output_type": "execute_result"
    }
   ],
   "source": [
    "df[df['patient'] == 'al_e132']['wer'].mean()"
   ]
  },
  {
   "cell_type": "markdown",
   "metadata": {},
   "source": [
    "Average WER for `al_e133`, temperature = 0.3"
   ]
  },
  {
   "cell_type": "code",
   "execution_count": 54,
   "metadata": {},
   "outputs": [
    {
     "data": {
      "text/plain": [
       "0.7553191489361702"
      ]
     },
     "execution_count": 54,
     "metadata": {},
     "output_type": "execute_result"
    }
   ],
   "source": [
    "df[df['patient'] == 'al_e133']['wer'].mean()"
   ]
  },
  {
   "cell_type": "markdown",
   "metadata": {},
   "source": [
    "Average WER for `al_e137`, temperature = 0.3"
   ]
  },
  {
   "cell_type": "code",
   "execution_count": 55,
   "metadata": {},
   "outputs": [
    {
     "data": {
      "text/plain": [
       "0.5255838143338144"
      ]
     },
     "execution_count": 55,
     "metadata": {},
     "output_type": "execute_result"
    }
   ],
   "source": [
    "df[df['patient'] == 'al_e137']['wer'].mean()"
   ]
  },
  {
   "cell_type": "markdown",
   "metadata": {},
   "source": [
    "Average WER, combined, temperature = 0.3"
   ]
  },
  {
   "cell_type": "code",
   "execution_count": 56,
   "metadata": {},
   "outputs": [
    {
     "name": "stdout",
     "output_type": "stream",
     "text": [
      "0.7442864853814115\n"
     ]
    }
   ],
   "source": [
    "mean_wer = df['wer'].mean()\n",
    "print(mean_wer)"
   ]
  },
  {
   "cell_type": "markdown",
   "metadata": {},
   "source": [
    "### Conclusion: Method 1\n",
    "\n",
    "| model              | temperature | dataset  | WER % (lower is better)|\n",
    "|--------------------|-------------|----------|------------------------|\n",
    "| `whisper-large-v3` | 0.0         | noun-en  | 67                     |\n",
    "| `whisper-large-v3` | 0.3         | noun-en  | 67                     |\n",
    "\n",
    "Unfortunately, increasing the temperature to 0.3 (from 0) does not seem to provide any tangible improvements in WER, with an average WER of 67%."
   ]
  },
  {
   "cell_type": "markdown",
   "metadata": {},
   "source": [
    "### Method 2: Input prompts for single-word transcriptions\n",
    "\n",
    "We will now utilise input prompts to the speech transcription model to fix the \"lack of context\" issue when transcribing single word audio files. An example dataset exhibiting this phenomenon exists for patients `al_e048`, `al_e100`, and `al_e106`."
   ]
  },
  {
   "cell_type": "code",
   "execution_count": 18,
   "metadata": {},
   "outputs": [
    {
     "data": {
      "text/html": [
       "<div>\n",
       "<style scoped>\n",
       "    .dataframe tbody tr th:only-of-type {\n",
       "        vertical-align: middle;\n",
       "    }\n",
       "\n",
       "    .dataframe tbody tr th {\n",
       "        vertical-align: top;\n",
       "    }\n",
       "\n",
       "    .dataframe thead th {\n",
       "        text-align: right;\n",
       "    }\n",
       "</style>\n",
       "<table border=\"1\" class=\"dataframe\">\n",
       "  <thead>\n",
       "    <tr style=\"text-align: right;\">\n",
       "      <th></th>\n",
       "      <th>Picture No.</th>\n",
       "      <th>Original</th>\n",
       "      <th>Edited</th>\n",
       "      <th>patient</th>\n",
       "      <th>audio_path</th>\n",
       "      <th>cleaned_original</th>\n",
       "      <th>cleaned_transcript</th>\n",
       "    </tr>\n",
       "  </thead>\n",
       "  <tbody>\n",
       "    <tr>\n",
       "      <th>36</th>\n",
       "      <td>A-06</td>\n",
       "      <td>Bed</td>\n",
       "      <td>Bed</td>\n",
       "      <td>al_e048</td>\n",
       "      <td>samples/audio/al_e048_A-06.m4a</td>\n",
       "      <td>bed</td>\n",
       "      <td>bed</td>\n",
       "    </tr>\n",
       "    <tr>\n",
       "      <th>37</th>\n",
       "      <td>A-07</td>\n",
       "      <td>Be</td>\n",
       "      <td>Bee</td>\n",
       "      <td>al_e048</td>\n",
       "      <td>samples/audio/al_e048_A-07.m4a</td>\n",
       "      <td>be</td>\n",
       "      <td>bee</td>\n",
       "    </tr>\n",
       "    <tr>\n",
       "      <th>38</th>\n",
       "      <td>A-08</td>\n",
       "      <td>Bell</td>\n",
       "      <td>Bell</td>\n",
       "      <td>al_e048</td>\n",
       "      <td>samples/audio/al_e048_A-08.m4a</td>\n",
       "      <td>bell</td>\n",
       "      <td>bell</td>\n",
       "    </tr>\n",
       "    <tr>\n",
       "      <th>39</th>\n",
       "      <td>A-09</td>\n",
       "      <td>But</td>\n",
       "      <td>Bird</td>\n",
       "      <td>al_e048</td>\n",
       "      <td>samples/audio/al_e048_A-09.m4a</td>\n",
       "      <td>but</td>\n",
       "      <td>bird</td>\n",
       "    </tr>\n",
       "    <tr>\n",
       "      <th>40</th>\n",
       "      <td>A-10</td>\n",
       "      <td>Born</td>\n",
       "      <td>Bone</td>\n",
       "      <td>al_e048</td>\n",
       "      <td>samples/audio/al_e048_A-10.m4a</td>\n",
       "      <td>born</td>\n",
       "      <td>bone</td>\n",
       "    </tr>\n",
       "  </tbody>\n",
       "</table>\n",
       "</div>"
      ],
      "text/plain": [
       "   Picture No. Original Edited  patient                      audio_path  \\\n",
       "36        A-06      Bed    Bed  al_e048  samples/audio/al_e048_A-06.m4a   \n",
       "37        A-07       Be    Bee  al_e048  samples/audio/al_e048_A-07.m4a   \n",
       "38        A-08     Bell   Bell  al_e048  samples/audio/al_e048_A-08.m4a   \n",
       "39        A-09      But   Bird  al_e048  samples/audio/al_e048_A-09.m4a   \n",
       "40        A-10     Born   Bone  al_e048  samples/audio/al_e048_A-10.m4a   \n",
       "\n",
       "   cleaned_original cleaned_transcript  \n",
       "36              bed                bed  \n",
       "37               be                bee  \n",
       "38             bell               bell  \n",
       "39              but               bird  \n",
       "40             born               bone  "
      ]
     },
     "execution_count": 18,
     "metadata": {},
     "output_type": "execute_result"
    }
   ],
   "source": [
    "df[df['patient'] == ('al_e048' or 'al_e100' or 'al_e106')].head()"
   ]
  },
  {
   "cell_type": "code",
   "execution_count": 19,
   "metadata": {},
   "outputs": [
    {
     "name": "stdout",
     "output_type": "stream",
     "text": [
      "<class 'pandas.core.frame.DataFrame'>\n",
      "Index: 199 entries, 36 to 528\n",
      "Data columns (total 7 columns):\n",
      " #   Column              Non-Null Count  Dtype \n",
      "---  ------              --------------  ----- \n",
      " 0   Picture No.         199 non-null    object\n",
      " 1   Original            199 non-null    object\n",
      " 2   Edited              199 non-null    object\n",
      " 3   patient             199 non-null    object\n",
      " 4   audio_path          199 non-null    object\n",
      " 5   cleaned_original    199 non-null    object\n",
      " 6   cleaned_transcript  199 non-null    object\n",
      "dtypes: object(7)\n",
      "memory usage: 12.4+ KB\n"
     ]
    }
   ],
   "source": [
    "df_single_word = df[df['patient'].isin(['al_e048', 'al_e100', 'al_e106'])]\n",
    "df_single_word.info()"
   ]
  },
  {
   "cell_type": "code",
   "execution_count": 20,
   "metadata": {},
   "outputs": [],
   "source": [
    "from whisper.normalizers import BasicTextNormalizer\n",
    "\n",
    "normalizer = BasicTextNormalizer()"
   ]
  },
  {
   "cell_type": "code",
   "execution_count": 26,
   "metadata": {},
   "outputs": [
    {
     "name": "stderr",
     "output_type": "stream",
     "text": [
      "Transcribing and computing WER: 100%|██████████| 199/199 [02:39<00:00,  1.24it/s]\n",
      "/tmp/ipykernel_240/3266197893.py:2: SettingWithCopyWarning: \n",
      "A value is trying to be set on a copy of a slice from a DataFrame.\n",
      "Try using .loc[row_indexer,col_indexer] = value instead\n",
      "\n",
      "See the caveats in the documentation: https://pandas.pydata.org/pandas-docs/stable/user_guide/indexing.html#returning-a-view-versus-a-copy\n",
      "  df_single_word['whisper_transcription'] = df_single_word.progress_apply(\n"
     ]
    }
   ],
   "source": [
    "tqdm.pandas(desc=\"Transcribing and computing WER\")\n",
    "df_single_word['whisper_transcription'] = df_single_word.progress_apply(\n",
    "    lambda row: normalizer(transcribe_audio(row['audio_path'], model)), axis=1\n",
    ")"
   ]
  },
  {
   "cell_type": "code",
   "execution_count": 27,
   "metadata": {},
   "outputs": [
    {
     "name": "stderr",
     "output_type": "stream",
     "text": [
      "Transcribing and computing WER prompt: 100%|██████████| 199/199 [02:39<00:00,  1.25it/s]\n",
      "/tmp/ipykernel_240/3123114483.py:2: SettingWithCopyWarning: \n",
      "A value is trying to be set on a copy of a slice from a DataFrame.\n",
      "Try using .loc[row_indexer,col_indexer] = value instead\n",
      "\n",
      "See the caveats in the documentation: https://pandas.pydata.org/pandas-docs/stable/user_guide/indexing.html#returning-a-view-versus-a-copy\n",
      "  df_single_word['whisper_transcription_prompt'] = df_single_word.progress_apply(\n"
     ]
    }
   ],
   "source": [
    "tqdm.pandas(desc=\"Transcribing and computing WER prompt\")\n",
    "df_single_word['whisper_transcription_prompt'] = df_single_word.progress_apply(\n",
    "    lambda row: normalizer(transcribe_audio(row['audio_path'], model, input_prompt=f\"The patient is supposed to say: '{row['cleaned_transcript']}.'\")), axis=1\n",
    ")"
   ]
  },
  {
   "cell_type": "code",
   "execution_count": 28,
   "metadata": {},
   "outputs": [
    {
     "name": "stdout",
     "output_type": "stream",
     "text": [
      "<class 'pandas.core.frame.DataFrame'>\n",
      "Index: 199 entries, 36 to 528\n",
      "Data columns (total 9 columns):\n",
      " #   Column                        Non-Null Count  Dtype \n",
      "---  ------                        --------------  ----- \n",
      " 0   Picture No.                   199 non-null    object\n",
      " 1   Original                      199 non-null    object\n",
      " 2   Edited                        199 non-null    object\n",
      " 3   patient                       199 non-null    object\n",
      " 4   audio_path                    199 non-null    object\n",
      " 5   cleaned_original              199 non-null    object\n",
      " 6   cleaned_transcript            199 non-null    object\n",
      " 7   whisper_transcription         199 non-null    object\n",
      " 8   whisper_transcription_prompt  199 non-null    object\n",
      "dtypes: object(9)\n",
      "memory usage: 15.5+ KB\n"
     ]
    }
   ],
   "source": [
    "df_single_word.info()"
   ]
  },
  {
   "cell_type": "code",
   "execution_count": 29,
   "metadata": {},
   "outputs": [],
   "source": [
    "# Remove rows with empty transcriptions (ugh)\n",
    "\n",
    "df_single_word = df_single_word[(df_single_word['whisper_transcription'] != '') & (df_single_word['whisper_transcription_prompt'] != '')]"
   ]
  },
  {
   "cell_type": "code",
   "execution_count": 30,
   "metadata": {},
   "outputs": [],
   "source": [
    "# Remove rows with transcriptions more than one word\n",
    "df_single_word = df_single_word[(df_single_word['whisper_transcription'].str.split().str.len() == 1) & (df_single_word['whisper_transcription_prompt'].str.split().str.len() == 1)]"
   ]
  },
  {
   "cell_type": "code",
   "execution_count": 34,
   "metadata": {},
   "outputs": [],
   "source": [
    "df_single_word_original = df_single_word['whisper_transcription'].tolist()\n",
    "df_single_word_with_prompt = df_single_word['whisper_transcription_prompt'].tolist()\n",
    "\n",
    "hypo = df_single_word['cleaned_transcript'].tolist()"
   ]
  },
  {
   "cell_type": "code",
   "execution_count": 35,
   "metadata": {},
   "outputs": [
    {
     "name": "stdout",
     "output_type": "stream",
     "text": [
      "True\n"
     ]
    }
   ],
   "source": [
    "print(len(df_single_word_original) == len(df_single_word_with_prompt) == len(hypo))"
   ]
  },
  {
   "cell_type": "code",
   "execution_count": 36,
   "metadata": {},
   "outputs": [
    {
     "data": {
      "text/plain": [
       "37             b\n",
       "38          bell\n",
       "39          but \n",
       "40          bone\n",
       "41         boop \n",
       "42          box \n",
       "44        bridge\n",
       "46         kenda\n",
       "47         okay \n",
       "49          trey\n",
       "50        secret\n",
       "54            do\n",
       "55          yes \n",
       "56      elephant\n",
       "57        finger\n",
       "58          fish\n",
       "59         flat \n",
       "60        flower\n",
       "61           fox\n",
       "62         grips\n",
       "64          hey \n",
       "65          hoss\n",
       "68            ki\n",
       "69          king\n",
       "72         leave\n",
       "73          link\n",
       "77          meh \n",
       "78      mushroom\n",
       "80          nose\n",
       "81        office\n",
       "82          peel\n",
       "85       caesar \n",
       "86         shit \n",
       "88           so \n",
       "91         tiger\n",
       "96      umbrella\n",
       "98         will \n",
       "99         more \n",
       "326          um \n",
       "327            x\n",
       "328       banana\n",
       "329       basket\n",
       "333        bell \n",
       "334         but \n",
       "337          box\n",
       "342        okay \n",
       "343        chin \n",
       "346        come \n",
       "347        come \n",
       "351     elephant\n",
       "Name: whisper_transcription, dtype: object"
      ]
     },
     "execution_count": 36,
     "metadata": {},
     "output_type": "execute_result"
    }
   ],
   "source": [
    "df_single_word['whisper_transcription'].head(50)"
   ]
  },
  {
   "cell_type": "code",
   "execution_count": 37,
   "metadata": {},
   "outputs": [
    {
     "data": {
      "text/html": [
       "<div>\n",
       "<style scoped>\n",
       "    .dataframe tbody tr th:only-of-type {\n",
       "        vertical-align: middle;\n",
       "    }\n",
       "\n",
       "    .dataframe tbody tr th {\n",
       "        vertical-align: top;\n",
       "    }\n",
       "\n",
       "    .dataframe thead th {\n",
       "        text-align: right;\n",
       "    }\n",
       "</style>\n",
       "<table border=\"1\" class=\"dataframe\">\n",
       "  <thead>\n",
       "    <tr style=\"text-align: right;\">\n",
       "      <th></th>\n",
       "      <th>whisper_transcription_prompt</th>\n",
       "      <th>cleaned_transcript</th>\n",
       "    </tr>\n",
       "  </thead>\n",
       "  <tbody>\n",
       "    <tr>\n",
       "      <th>37</th>\n",
       "      <td>bee</td>\n",
       "      <td>bee</td>\n",
       "    </tr>\n",
       "    <tr>\n",
       "      <th>38</th>\n",
       "      <td>bell</td>\n",
       "      <td>bell</td>\n",
       "    </tr>\n",
       "    <tr>\n",
       "      <th>39</th>\n",
       "      <td>but</td>\n",
       "      <td>bird</td>\n",
       "    </tr>\n",
       "    <tr>\n",
       "      <th>40</th>\n",
       "      <td>bone</td>\n",
       "      <td>bone</td>\n",
       "    </tr>\n",
       "    <tr>\n",
       "      <th>41</th>\n",
       "      <td>book</td>\n",
       "      <td>book</td>\n",
       "    </tr>\n",
       "    <tr>\n",
       "      <th>42</th>\n",
       "      <td>box</td>\n",
       "      <td>box</td>\n",
       "    </tr>\n",
       "    <tr>\n",
       "      <th>44</th>\n",
       "      <td>bridge</td>\n",
       "      <td>bridge</td>\n",
       "    </tr>\n",
       "    <tr>\n",
       "      <th>46</th>\n",
       "      <td>candle</td>\n",
       "      <td>candle</td>\n",
       "    </tr>\n",
       "    <tr>\n",
       "      <th>47</th>\n",
       "      <td>cat</td>\n",
       "      <td>cat</td>\n",
       "    </tr>\n",
       "    <tr>\n",
       "      <th>49</th>\n",
       "      <td>tray</td>\n",
       "      <td>chair</td>\n",
       "    </tr>\n",
       "    <tr>\n",
       "      <th>50</th>\n",
       "      <td>secret</td>\n",
       "      <td>cigarette</td>\n",
       "    </tr>\n",
       "    <tr>\n",
       "      <th>54</th>\n",
       "      <td>dog</td>\n",
       "      <td>dog</td>\n",
       "    </tr>\n",
       "    <tr>\n",
       "      <th>55</th>\n",
       "      <td>da</td>\n",
       "      <td>duck</td>\n",
       "    </tr>\n",
       "    <tr>\n",
       "      <th>56</th>\n",
       "      <td>elephant</td>\n",
       "      <td>elephant</td>\n",
       "    </tr>\n",
       "    <tr>\n",
       "      <th>57</th>\n",
       "      <td>finger</td>\n",
       "      <td>finger</td>\n",
       "    </tr>\n",
       "    <tr>\n",
       "      <th>58</th>\n",
       "      <td>fish</td>\n",
       "      <td>fish</td>\n",
       "    </tr>\n",
       "    <tr>\n",
       "      <th>59</th>\n",
       "      <td>flag</td>\n",
       "      <td>flag</td>\n",
       "    </tr>\n",
       "    <tr>\n",
       "      <th>60</th>\n",
       "      <td>flower</td>\n",
       "      <td>flower</td>\n",
       "    </tr>\n",
       "    <tr>\n",
       "      <th>61</th>\n",
       "      <td>fox</td>\n",
       "      <td>forks</td>\n",
       "    </tr>\n",
       "    <tr>\n",
       "      <th>62</th>\n",
       "      <td>grips</td>\n",
       "      <td>grapes</td>\n",
       "    </tr>\n",
       "    <tr>\n",
       "      <th>64</th>\n",
       "      <td>hey</td>\n",
       "      <td>hat</td>\n",
       "    </tr>\n",
       "    <tr>\n",
       "      <th>65</th>\n",
       "      <td>horse</td>\n",
       "      <td>horse</td>\n",
       "    </tr>\n",
       "    <tr>\n",
       "      <th>68</th>\n",
       "      <td>key</td>\n",
       "      <td>key</td>\n",
       "    </tr>\n",
       "    <tr>\n",
       "      <th>69</th>\n",
       "      <td>king</td>\n",
       "      <td>king</td>\n",
       "    </tr>\n",
       "    <tr>\n",
       "      <th>72</th>\n",
       "      <td>leaf</td>\n",
       "      <td>leaf</td>\n",
       "    </tr>\n",
       "    <tr>\n",
       "      <th>73</th>\n",
       "      <td>leg</td>\n",
       "      <td>leg</td>\n",
       "    </tr>\n",
       "    <tr>\n",
       "      <th>77</th>\n",
       "      <td>map</td>\n",
       "      <td>map</td>\n",
       "    </tr>\n",
       "    <tr>\n",
       "      <th>78</th>\n",
       "      <td>mushroom</td>\n",
       "      <td>mushroom</td>\n",
       "    </tr>\n",
       "    <tr>\n",
       "      <th>80</th>\n",
       "      <td>nose</td>\n",
       "      <td>nose</td>\n",
       "    </tr>\n",
       "    <tr>\n",
       "      <th>81</th>\n",
       "      <td>office</td>\n",
       "      <td>office</td>\n",
       "    </tr>\n",
       "    <tr>\n",
       "      <th>82</th>\n",
       "      <td>pail</td>\n",
       "      <td>pail</td>\n",
       "    </tr>\n",
       "    <tr>\n",
       "      <th>85</th>\n",
       "      <td>scissor</td>\n",
       "      <td>scissor</td>\n",
       "    </tr>\n",
       "    <tr>\n",
       "      <th>86</th>\n",
       "      <td>sheep</td>\n",
       "      <td>sheep</td>\n",
       "    </tr>\n",
       "    <tr>\n",
       "      <th>88</th>\n",
       "      <td>so</td>\n",
       "      <td>sword</td>\n",
       "    </tr>\n",
       "    <tr>\n",
       "      <th>91</th>\n",
       "      <td>tiger</td>\n",
       "      <td>tiger</td>\n",
       "    </tr>\n",
       "    <tr>\n",
       "      <th>96</th>\n",
       "      <td>umbrella</td>\n",
       "      <td>umbrella</td>\n",
       "    </tr>\n",
       "    <tr>\n",
       "      <th>98</th>\n",
       "      <td>wheel</td>\n",
       "      <td>wheel</td>\n",
       "    </tr>\n",
       "    <tr>\n",
       "      <th>99</th>\n",
       "      <td>ball</td>\n",
       "      <td>ball</td>\n",
       "    </tr>\n",
       "    <tr>\n",
       "      <th>326</th>\n",
       "      <td>arm</td>\n",
       "      <td>arm</td>\n",
       "    </tr>\n",
       "    <tr>\n",
       "      <th>327</th>\n",
       "      <td>x</td>\n",
       "      <td>axe</td>\n",
       "    </tr>\n",
       "    <tr>\n",
       "      <th>328</th>\n",
       "      <td>banana</td>\n",
       "      <td>banana</td>\n",
       "    </tr>\n",
       "    <tr>\n",
       "      <th>329</th>\n",
       "      <td>basket</td>\n",
       "      <td>basket</td>\n",
       "    </tr>\n",
       "    <tr>\n",
       "      <th>333</th>\n",
       "      <td>bell</td>\n",
       "      <td>bell</td>\n",
       "    </tr>\n",
       "    <tr>\n",
       "      <th>334</th>\n",
       "      <td>but</td>\n",
       "      <td>bird</td>\n",
       "    </tr>\n",
       "    <tr>\n",
       "      <th>337</th>\n",
       "      <td>box</td>\n",
       "      <td>box</td>\n",
       "    </tr>\n",
       "    <tr>\n",
       "      <th>342</th>\n",
       "      <td>okay</td>\n",
       "      <td>cat</td>\n",
       "    </tr>\n",
       "    <tr>\n",
       "      <th>343</th>\n",
       "      <td>chain</td>\n",
       "      <td>chain</td>\n",
       "    </tr>\n",
       "    <tr>\n",
       "      <th>346</th>\n",
       "      <td>comb</td>\n",
       "      <td>comb</td>\n",
       "    </tr>\n",
       "    <tr>\n",
       "      <th>347</th>\n",
       "      <td>cow</td>\n",
       "      <td>cow</td>\n",
       "    </tr>\n",
       "    <tr>\n",
       "      <th>351</th>\n",
       "      <td>elephant</td>\n",
       "      <td>elephant</td>\n",
       "    </tr>\n",
       "  </tbody>\n",
       "</table>\n",
       "</div>"
      ],
      "text/plain": [
       "    whisper_transcription_prompt cleaned_transcript\n",
       "37                          bee                 bee\n",
       "38                         bell                bell\n",
       "39                          but                bird\n",
       "40                         bone                bone\n",
       "41                         book                book\n",
       "42                          box                 box\n",
       "44                       bridge              bridge\n",
       "46                       candle              candle\n",
       "47                          cat                 cat\n",
       "49                         tray               chair\n",
       "50                       secret           cigarette\n",
       "54                          dog                 dog\n",
       "55                           da                duck\n",
       "56                     elephant            elephant\n",
       "57                       finger              finger\n",
       "58                         fish                fish\n",
       "59                         flag                flag\n",
       "60                       flower              flower\n",
       "61                          fox               forks\n",
       "62                        grips              grapes\n",
       "64                          hey                 hat\n",
       "65                        horse               horse\n",
       "68                          key                 key\n",
       "69                         king                king\n",
       "72                         leaf                leaf\n",
       "73                          leg                 leg\n",
       "77                          map                 map\n",
       "78                     mushroom           mushroom \n",
       "80                         nose                nose\n",
       "81                        office             office\n",
       "82                         pail                pail\n",
       "85                      scissor             scissor\n",
       "86                        sheep               sheep\n",
       "88                           so               sword\n",
       "91                        tiger               tiger\n",
       "96                     umbrella            umbrella\n",
       "98                        wheel               wheel\n",
       "99                         ball                ball\n",
       "326                         arm                 arm\n",
       "327                           x                 axe\n",
       "328                      banana              banana\n",
       "329                      basket              basket\n",
       "333                        bell                bell\n",
       "334                         but                bird\n",
       "337                         box                 box\n",
       "342                        okay                 cat\n",
       "343                       chain               chain\n",
       "346                        comb               comb \n",
       "347                         cow                 cow\n",
       "351                    elephant            elephant"
      ]
     },
     "execution_count": 37,
     "metadata": {},
     "output_type": "execute_result"
    }
   ],
   "source": [
    "df_single_word[['whisper_transcription_prompt', 'cleaned_transcript']].head(50)"
   ]
  },
  {
   "cell_type": "code",
   "execution_count": 38,
   "metadata": {},
   "outputs": [
    {
     "name": "stdout",
     "output_type": "stream",
     "text": [
      "Original WER: 0.4666666666666667\n",
      "Prompt WER: 0.1619047619047619\n"
     ]
    }
   ],
   "source": [
    "wer_original = wer(df_single_word_original, hypo)\n",
    "wer_prompt = wer(df_single_word_with_prompt, hypo)\n",
    "\n",
    "print(f\"Original WER: {wer_original}\")\n",
    "print(f\"Prompt WER: {wer_prompt}\")"
   ]
  },
  {
   "cell_type": "markdown",
   "metadata": {},
   "source": [
    "| model              | with prompt? | dataset                          | WER % (lower is better)|\n",
    "|--------------------|--------------|----------------------------------|------------------------|\n",
    "| `whisper-large-v3` | no           | al_e048, al_e100, al_e106 (noun) | 47                     |\n",
    "| `whisper-large-v3` | yes          | al_e048, al_e100, al_e106 (noun) | 16                     |"
   ]
  },
  {
   "cell_type": "markdown",
   "metadata": {},
   "source": [
    "This technique is proven effective for single-word transcription, providing it better context to the ASR model. We shall try applying it to other valid examples in our dataset.\n",
    "\n",
    "What is a valid example? As target words are not available, we shall assume:\n",
    "\n",
    "1. Single words in the `cleaned_transcription` column are considered target words\n",
    "2. Any other sample shall be discarded.\n",
    "\n",
    "That leaves us with 453 noun audio samples from the following patients:\n",
    "\n",
    "| Patient   | Count |\n",
    "|-----------|-------|\n",
    "| al_e100   | 70    |\n",
    "| al_e106   | 62    |\n",
    "| al_e048   | 56    |\n",
    "| al_e122   | 55    |\n",
    "| al_e118   | 52    |\n",
    "| al_e133   | 40    |\n",
    "| al_e180   | 32    |\n",
    "| al_e117   | 22    |\n",
    "| al_e101   | 21    |\n",
    "| al_e099   | 13    |\n",
    "| al_e092   | 8     |\n",
    "| al_e132   | 8     |\n",
    "| al_e085   | 6     |\n",
    "| al_e137   | 4     |\n",
    "| al_e028   | 2     |\n",
    "| al_e078   | 2     |"
   ]
  },
  {
   "cell_type": "code",
   "execution_count": 21,
   "metadata": {},
   "outputs": [],
   "source": [
    "# Remove rows with transcriptions more than one word\n",
    "df = df[df['cleaned_transcript'].str.split().str.len() == 1]"
   ]
  },
  {
   "cell_type": "code",
   "execution_count": 22,
   "metadata": {},
   "outputs": [
    {
     "data": {
      "text/plain": [
       "patient\n",
       "al_e100    70\n",
       "al_e106    62\n",
       "al_e048    56\n",
       "al_e122    55\n",
       "al_e118    52\n",
       "al_e133    40\n",
       "al_e180    32\n",
       "al_e117    22\n",
       "al_e101    21\n",
       "al_e099    13\n",
       "al_e092     8\n",
       "al_e132     8\n",
       "al_e085     6\n",
       "al_e137     4\n",
       "al_e028     2\n",
       "al_e078     2\n",
       "Name: count, dtype: int64"
      ]
     },
     "execution_count": 22,
     "metadata": {},
     "output_type": "execute_result"
    }
   ],
   "source": [
    "df['patient'].value_counts()"
   ]
  },
  {
   "cell_type": "code",
   "execution_count": 23,
   "metadata": {},
   "outputs": [
    {
     "name": "stderr",
     "output_type": "stream",
     "text": [
      "Transcribing and computing WER prompt (ALL): 100%|██████████| 453/453 [05:12<00:00,  1.45it/s]\n"
     ]
    }
   ],
   "source": [
    "tqdm.pandas(desc=\"Transcribing and computing WER prompt (ALL)\")\n",
    "df['whisper_transcription_prompt'] = df.progress_apply(\n",
    "    lambda row: normalizer(transcribe_audio(row['audio_path'], model, input_prompt=f\"The patient is supposed to say: '{row['cleaned_transcript']}.'\")), axis=1\n",
    ")"
   ]
  },
  {
   "cell_type": "code",
   "execution_count": 24,
   "metadata": {},
   "outputs": [
    {
     "name": "stderr",
     "output_type": "stream",
     "text": [
      "Transcribing and computing WER (ALL): 100%|██████████| 453/453 [05:11<00:00,  1.45it/s]\n"
     ]
    }
   ],
   "source": [
    "tqdm.pandas(desc=\"Transcribing and computing WER (ALL)\")\n",
    "df['whisper_transcription'] = df.progress_apply(\n",
    "    lambda row: normalizer(transcribe_audio(row['audio_path'], model)), axis=1\n",
    ")"
   ]
  },
  {
   "cell_type": "code",
   "execution_count": 25,
   "metadata": {},
   "outputs": [
    {
     "name": "stdout",
     "output_type": "stream",
     "text": [
      "<class 'pandas.core.frame.DataFrame'>\n",
      "Index: 453 entries, 33 to 879\n",
      "Data columns (total 9 columns):\n",
      " #   Column                        Non-Null Count  Dtype \n",
      "---  ------                        --------------  ----- \n",
      " 0   Picture No.                   453 non-null    object\n",
      " 1   Original                      453 non-null    object\n",
      " 2   Edited                        453 non-null    object\n",
      " 3   patient                       453 non-null    object\n",
      " 4   audio_path                    453 non-null    object\n",
      " 5   cleaned_original              453 non-null    object\n",
      " 6   cleaned_transcript            453 non-null    object\n",
      " 7   whisper_transcription_prompt  453 non-null    object\n",
      " 8   whisper_transcription         453 non-null    object\n",
      "dtypes: object(9)\n",
      "memory usage: 35.4+ KB\n"
     ]
    }
   ],
   "source": [
    "df.info()"
   ]
  },
  {
   "cell_type": "code",
   "execution_count": 27,
   "metadata": {},
   "outputs": [
    {
     "name": "stdout",
     "output_type": "stream",
     "text": [
      "Original WER (Overall): 0.831275720164609\n",
      "Prompt WER (Overall): 0.5521235521235521\n"
     ]
    }
   ],
   "source": [
    "# Replace empty transcriptions with \"null\"\n",
    "df['whisper_transcription'] = df['whisper_transcription'].apply(lambda x: \"null\" if x == \"\" else normalizer(x.strip()))\n",
    "df['whisper_transcription_prompt'] = df['whisper_transcription_prompt'].apply(lambda x: \"null\" if x == \"\" else normalizer(x.strip()))\n",
    "\n",
    "df_original = df['whisper_transcription'].tolist()\n",
    "df_with_prompt = df['whisper_transcription_prompt'].tolist()\n",
    "\n",
    "hypo = df['cleaned_transcript'].tolist()\n",
    "\n",
    "wer_original = wer(df_original, hypo)\n",
    "wer_prompt = wer(df_with_prompt, hypo)\n",
    "\n",
    "print(f\"Original WER (Overall): {wer_original}\")\n",
    "print(f\"Prompt WER (Overall): {wer_prompt}\")"
   ]
  },
  {
   "cell_type": "markdown",
   "metadata": {},
   "source": [
    "##### Verdict:\n",
    "\n",
    "Trying it with a larger dataset would result in a higher WER. Why? This is because most of them did not get transcribed - resulting in an empty string as a transcription.\n",
    "\n",
    "In the subsequent sections, we will remove the background noise and attempt the experiment again."
   ]
  },
  {
   "cell_type": "code",
   "execution_count": 28,
   "metadata": {},
   "outputs": [
    {
     "name": "stdout",
     "output_type": "stream",
     "text": [
      "453\n",
      "453\n"
     ]
    }
   ],
   "source": [
    "print(len(df_original))\n",
    "print(len(df_with_prompt))"
   ]
  },
  {
   "cell_type": "markdown",
   "metadata": {},
   "source": [
    "### Conclusion: Method 2\n",
    "\n",
    "Overall, this method is highly effective in reducing the WER for single-word transcriptions, with the error rates dropping from 47% to 16%."
   ]
  },
  {
   "cell_type": "markdown",
   "metadata": {},
   "source": [
    "### Method 3: Audio Preprocessing \n",
    "\n",
    "In this section, we will try various methods and libraries for reducing noise and extracting the audio features to improve the WER performance of Whisper."
   ]
  },
  {
   "cell_type": "markdown",
   "metadata": {},
   "source": [
    "#### 3.1 Exploratory Data Analysis\n",
    "\n",
    "In this section, we will explore our audio data using `librosa`'s feature extraction library. This library allows us to visualise the overall features of the audio files, such as:\n",
    "\n",
    "Time-domain features:\n",
    "\n",
    "1. Mean amplitude: Given a time series, what is the average \"loudness\" in decibels\n",
    "2. Zero-Crossing Rate: Describes how many times (or samples) whereby the signal crosses the zero axis. Higher value == Noisier signal\n",
    "\n",
    "Frequency-domain features:\n",
    "\n",
    "1. Spectral Bandwidth: Range of frequencies (e.g., 20Hz to 1500Hz)\n",
    "2. Spectral Centroid: Represents the \"center of mass\" of the frequency spectrum - or where most of the frequency energy is concentrated. A higher spectral centroid means that most energy is concentrated on higher frequency sounds (e.g., baby crying) while a low centroid suggests lower frequencies (e.g., morgan freeman)\n",
    "3. Mel-frequency Cepstral Coefficient (MFCC): Represents the power spectrum of an audio signal, in a way that human perceives sound. Captures both low-level and high-level acoustic information. Widely used in speech analysis."
   ]
  },
  {
   "cell_type": "code",
   "execution_count": 68,
   "metadata": {},
   "outputs": [],
   "source": [
    "import librosa\n",
    "import tqdm"
   ]
  },
  {
   "cell_type": "code",
   "execution_count": 69,
   "metadata": {},
   "outputs": [],
   "source": [
    "def extract_audio_features(row: pd.DataFrame, audio_path: str):\n",
    "    \"\"\"\n",
    "        This function extracts the audio features\n",
    "        using the librosa library and saves it to \n",
    "        the dataframe\n",
    "\n",
    "        Args:\n",
    "            audio_path (str): The path to the audio file\n",
    "    \"\"\"\n",
    "    # Load the file\n",
    "    waveform, sampling_rate = librosa.load(audio_path)\n",
    "\n",
    "    # Extract time-domain features\n",
    "    row['mean_amplitude'] = waveform.mean()\n",
    "    row['zero_crossing_rate'] = librosa.feature.zero_crossing_rate(waveform)\n",
    "    row['duration'] = librosa.get_duration(y=waveform)\n",
    "\n",
    "    # Extract frequency-domain features\n",
    "    row['spectral_bandwidth'] = librosa.feature.spectral_bandwidth(y=waveform, sr=sampling_rate)\n",
    "    row['spectral_centroid'] = librosa.feature.spectral_centroid(y=waveform, sr=sampling_rate)\n",
    "    row['mfcc'] = librosa.feature.mfcc(y=waveform, sr=sampling_rate, n_mfcc=40)\n",
    "\n",
    "    return row\n",
    "    "
   ]
  },
  {
   "cell_type": "code",
   "execution_count": 160,
   "metadata": {},
   "outputs": [
    {
     "data": {
      "text/html": [
       "<div>\n",
       "<style scoped>\n",
       "    .dataframe tbody tr th:only-of-type {\n",
       "        vertical-align: middle;\n",
       "    }\n",
       "\n",
       "    .dataframe tbody tr th {\n",
       "        vertical-align: top;\n",
       "    }\n",
       "\n",
       "    .dataframe thead th {\n",
       "        text-align: right;\n",
       "    }\n",
       "</style>\n",
       "<table border=\"1\" class=\"dataframe\">\n",
       "  <thead>\n",
       "    <tr style=\"text-align: right;\">\n",
       "      <th></th>\n",
       "      <th>Picture No.</th>\n",
       "      <th>Original</th>\n",
       "      <th>Edited</th>\n",
       "      <th>patient</th>\n",
       "      <th>audio_path</th>\n",
       "      <th>cleaned_original</th>\n",
       "      <th>cleaned_transcript</th>\n",
       "      <th>mean_amplitude</th>\n",
       "      <th>zero_crossing_rate</th>\n",
       "      <th>duration</th>\n",
       "      <th>spectral_bandwidth</th>\n",
       "      <th>spectral_centroid</th>\n",
       "      <th>mfcc</th>\n",
       "      <th>mean_zero_crossing_rate</th>\n",
       "      <th>mean_spectral_centroid</th>\n",
       "      <th>audio_path_denoised</th>\n",
       "    </tr>\n",
       "  </thead>\n",
       "  <tbody>\n",
       "    <tr>\n",
       "      <th>326</th>\n",
       "      <td>A-01</td>\n",
       "      <td>Come</td>\n",
       "      <td>arm</td>\n",
       "      <td>al_e100</td>\n",
       "      <td>samples/audio/al_e100_A-01.m4a</td>\n",
       "      <td>come</td>\n",
       "      <td>arm</td>\n",
       "      <td>-9.537897e-07</td>\n",
       "      <td>[[0.0625, 0.08837890625, 0.10498046875, 0.1000...</td>\n",
       "      <td>5.501678</td>\n",
       "      <td>[[3106.7734522968512, 3072.0313773238913, 2990...</td>\n",
       "      <td>[[3340.183241347705, 3256.033509742136, 2948.3...</td>\n",
       "      <td>[[-499.6204, -479.71878, -493.11777, -504.6677...</td>\n",
       "      <td>0.062368</td>\n",
       "      <td>1898.294337</td>\n",
       "      <td>samples/audio_denoised/al_e026_A-01_filtered.wav</td>\n",
       "    </tr>\n",
       "    <tr>\n",
       "      <th>327</th>\n",
       "      <td>A-02</td>\n",
       "      <td>X</td>\n",
       "      <td>axe</td>\n",
       "      <td>al_e100</td>\n",
       "      <td>samples/audio/al_e100_A-02.m4a</td>\n",
       "      <td>x</td>\n",
       "      <td>axe</td>\n",
       "      <td>-7.478256e-07</td>\n",
       "      <td>[[0.04052734375, 0.0498046875, 0.05908203125, ...</td>\n",
       "      <td>4.642540</td>\n",
       "      <td>[[3334.504572556264, 3022.1845978589986, 2675....</td>\n",
       "      <td>[[3042.3705811585223, 2438.2946291233347, 1981...</td>\n",
       "      <td>[[-547.3615, -527.1012, -532.1765, -532.8089, ...</td>\n",
       "      <td>0.070339</td>\n",
       "      <td>2003.816382</td>\n",
       "      <td>samples/audio_denoised/al_e026_A-01_filtered.wav</td>\n",
       "    </tr>\n",
       "    <tr>\n",
       "      <th>328</th>\n",
       "      <td>A-03</td>\n",
       "      <td>Banana</td>\n",
       "      <td>Banana</td>\n",
       "      <td>al_e100</td>\n",
       "      <td>samples/audio/al_e100_A-03.m4a</td>\n",
       "      <td>banana</td>\n",
       "      <td>banana</td>\n",
       "      <td>-8.881843e-07</td>\n",
       "      <td>[[0.03271484375, 0.060546875, 0.07763671875, 0...</td>\n",
       "      <td>4.201361</td>\n",
       "      <td>[[2634.566133014394, 2723.9497942806197, 3104....</td>\n",
       "      <td>[[1874.4775966485654, 2047.949833684449, 2520....</td>\n",
       "      <td>[[-582.2677, -545.3062, -535.4372, -523.9564, ...</td>\n",
       "      <td>0.054555</td>\n",
       "      <td>1736.996368</td>\n",
       "      <td>samples/audio_denoised/al_e026_A-01_filtered.wav</td>\n",
       "    </tr>\n",
       "    <tr>\n",
       "      <th>329</th>\n",
       "      <td>A-04</td>\n",
       "      <td>Basket</td>\n",
       "      <td>Basket</td>\n",
       "      <td>al_e100</td>\n",
       "      <td>samples/audio/al_e100_A-04.m4a</td>\n",
       "      <td>basket</td>\n",
       "      <td>basket</td>\n",
       "      <td>-9.118850e-07</td>\n",
       "      <td>[[0.0439453125, 0.0576171875, 0.06494140625, 0...</td>\n",
       "      <td>4.805079</td>\n",
       "      <td>[[2563.378909998727, 2478.1087582556884, 2405....</td>\n",
       "      <td>[[1953.4623307439763, 1844.3666649192642, 1715...</td>\n",
       "      <td>[[-582.27167, -554.00226, -555.7195, -559.0046...</td>\n",
       "      <td>0.057476</td>\n",
       "      <td>1705.045620</td>\n",
       "      <td>samples/audio_denoised/al_e026_A-01_filtered.wav</td>\n",
       "    </tr>\n",
       "    <tr>\n",
       "      <th>330</th>\n",
       "      <td>A-05</td>\n",
       "      <td>Bed</td>\n",
       "      <td>Beard</td>\n",
       "      <td>al_e100</td>\n",
       "      <td>samples/audio/al_e100_A-05.m4a</td>\n",
       "      <td>bed</td>\n",
       "      <td>beard</td>\n",
       "      <td>1.794544e-07</td>\n",
       "      <td>[[0.02001953125, 0.03369140625, 0.04638671875,...</td>\n",
       "      <td>4.828299</td>\n",
       "      <td>[[2432.141009938576, 2434.88412755237, 2500.09...</td>\n",
       "      <td>[[1710.5098432407794, 1686.37981480928, 1808.3...</td>\n",
       "      <td>[[-576.72955, -548.7067, -547.8173, -548.6698,...</td>\n",
       "      <td>0.046431</td>\n",
       "      <td>1632.375613</td>\n",
       "      <td>samples/audio_denoised/al_e026_A-01_filtered.wav</td>\n",
       "    </tr>\n",
       "    <tr>\n",
       "      <th>...</th>\n",
       "      <td>...</td>\n",
       "      <td>...</td>\n",
       "      <td>...</td>\n",
       "      <td>...</td>\n",
       "      <td>...</td>\n",
       "      <td>...</td>\n",
       "      <td>...</td>\n",
       "      <td>...</td>\n",
       "      <td>...</td>\n",
       "      <td>...</td>\n",
       "      <td>...</td>\n",
       "      <td>...</td>\n",
       "      <td>...</td>\n",
       "      <td>...</td>\n",
       "      <td>...</td>\n",
       "      <td>...</td>\n",
       "    </tr>\n",
       "    <tr>\n",
       "      <th>391</th>\n",
       "      <td>A-66</td>\n",
       "      <td>Umbrella</td>\n",
       "      <td>Umbrella</td>\n",
       "      <td>al_e100</td>\n",
       "      <td>samples/audio/al_e100_A-66.m4a</td>\n",
       "      <td>umbrella</td>\n",
       "      <td>umbrella</td>\n",
       "      <td>-1.585669e-06</td>\n",
       "      <td>[[0.0205078125, 0.03125, 0.04150390625, 0.0488...</td>\n",
       "      <td>3.551202</td>\n",
       "      <td>[[2375.2123124410496, 2376.847802021224, 2429....</td>\n",
       "      <td>[[1659.0739343521218, 1679.6375233743906, 1730...</td>\n",
       "      <td>[[-573.39667, -540.8461, -543.5878, -543.8955,...</td>\n",
       "      <td>0.052894</td>\n",
       "      <td>1708.429612</td>\n",
       "      <td>samples/audio_denoised/al_e026_A-01_filtered.wav</td>\n",
       "    </tr>\n",
       "    <tr>\n",
       "      <th>392</th>\n",
       "      <td>A-67</td>\n",
       "      <td>Waiter</td>\n",
       "      <td>Waiter</td>\n",
       "      <td>al_e100</td>\n",
       "      <td>samples/audio/al_e100_A-67.m4a</td>\n",
       "      <td>waiter</td>\n",
       "      <td>waiter</td>\n",
       "      <td>-1.521111e-06</td>\n",
       "      <td>[[0.02587890625, 0.037109375, 0.0517578125, 0....</td>\n",
       "      <td>4.456780</td>\n",
       "      <td>[[2371.0223530879452, 2415.0950434373026, 2478...</td>\n",
       "      <td>[[1555.4835846735352, 1713.8335007832075, 1741...</td>\n",
       "      <td>[[-576.8552, -540.9463, -538.9439, -535.16693,...</td>\n",
       "      <td>0.060916</td>\n",
       "      <td>1930.710526</td>\n",
       "      <td>samples/audio_denoised/al_e026_A-01_filtered.wav</td>\n",
       "    </tr>\n",
       "    <tr>\n",
       "      <th>393</th>\n",
       "      <td>A-68</td>\n",
       "      <td>Will</td>\n",
       "      <td>Wheel</td>\n",
       "      <td>al_e100</td>\n",
       "      <td>samples/audio/al_e100_A-68.m4a</td>\n",
       "      <td>will</td>\n",
       "      <td>wheel</td>\n",
       "      <td>-5.475777e-07</td>\n",
       "      <td>[[0.0244140625, 0.03857421875, 0.0458984375, 0...</td>\n",
       "      <td>4.201361</td>\n",
       "      <td>[[2128.1310283776593, 2231.691809876588, 2267....</td>\n",
       "      <td>[[1500.8471595656397, 1486.5130309063725, 1456...</td>\n",
       "      <td>[[-593.1156, -552.1348, -550.8144, -551.43353,...</td>\n",
       "      <td>0.050290</td>\n",
       "      <td>1640.638827</td>\n",
       "      <td>samples/audio_denoised/al_e026_A-01_filtered.wav</td>\n",
       "    </tr>\n",
       "    <tr>\n",
       "      <th>394</th>\n",
       "      <td>A-P-01</td>\n",
       "      <td>Football</td>\n",
       "      <td>Football</td>\n",
       "      <td>al_e100</td>\n",
       "      <td>samples/audio/al_e100_A-P-01.m4a</td>\n",
       "      <td>football</td>\n",
       "      <td>football</td>\n",
       "      <td>-1.064111e-06</td>\n",
       "      <td>[[0.0283203125, 0.0380859375, 0.05029296875, 0...</td>\n",
       "      <td>4.990839</td>\n",
       "      <td>[[2479.7425868521545, 2505.289327078532, 2348....</td>\n",
       "      <td>[[1683.7321964651433, 1731.9778560093878, 1627...</td>\n",
       "      <td>[[-571.1981, -546.58734, -540.69147, -536.3097...</td>\n",
       "      <td>0.052389</td>\n",
       "      <td>1655.876224</td>\n",
       "      <td>samples/audio_denoised/al_e026_A-01_filtered.wav</td>\n",
       "    </tr>\n",
       "    <tr>\n",
       "      <th>395</th>\n",
       "      <td>A-P-02</td>\n",
       "      <td>Star</td>\n",
       "      <td>Star</td>\n",
       "      <td>al_e100</td>\n",
       "      <td>samples/audio/al_e100_A-P-02.m4a</td>\n",
       "      <td>star</td>\n",
       "      <td>star</td>\n",
       "      <td>-7.413774e-07</td>\n",
       "      <td>[[0.0224609375, 0.03466796875, 0.052734375, 0....</td>\n",
       "      <td>6.732336</td>\n",
       "      <td>[[1913.4111707602726, 2202.4288035008944, 2235...</td>\n",
       "      <td>[[1219.4374607669743, 1491.6212924693154, 1509...</td>\n",
       "      <td>[[-569.64087, -541.3811, -541.1825, -543.29517...</td>\n",
       "      <td>0.055371</td>\n",
       "      <td>1644.429999</td>\n",
       "      <td>samples/audio_denoised/al_e026_A-01_filtered.wav</td>\n",
       "    </tr>\n",
       "  </tbody>\n",
       "</table>\n",
       "<p>70 rows × 16 columns</p>\n",
       "</div>"
      ],
      "text/plain": [
       "    Picture No.  Original    Edited  patient  \\\n",
       "326        A-01      Come       arm  al_e100   \n",
       "327        A-02         X       axe  al_e100   \n",
       "328        A-03    Banana    Banana  al_e100   \n",
       "329        A-04    Basket    Basket  al_e100   \n",
       "330        A-05       Bed     Beard  al_e100   \n",
       "..          ...       ...       ...      ...   \n",
       "391        A-66  Umbrella  Umbrella  al_e100   \n",
       "392        A-67    Waiter    Waiter  al_e100   \n",
       "393        A-68      Will     Wheel  al_e100   \n",
       "394      A-P-01  Football  Football  al_e100   \n",
       "395      A-P-02      Star      Star  al_e100   \n",
       "\n",
       "                           audio_path cleaned_original cleaned_transcript  \\\n",
       "326    samples/audio/al_e100_A-01.m4a             come                arm   \n",
       "327    samples/audio/al_e100_A-02.m4a                x                axe   \n",
       "328    samples/audio/al_e100_A-03.m4a           banana             banana   \n",
       "329    samples/audio/al_e100_A-04.m4a           basket             basket   \n",
       "330    samples/audio/al_e100_A-05.m4a              bed              beard   \n",
       "..                                ...              ...                ...   \n",
       "391    samples/audio/al_e100_A-66.m4a         umbrella           umbrella   \n",
       "392    samples/audio/al_e100_A-67.m4a           waiter             waiter   \n",
       "393    samples/audio/al_e100_A-68.m4a             will              wheel   \n",
       "394  samples/audio/al_e100_A-P-01.m4a         football           football   \n",
       "395  samples/audio/al_e100_A-P-02.m4a             star               star   \n",
       "\n",
       "     mean_amplitude                                 zero_crossing_rate  \\\n",
       "326   -9.537897e-07  [[0.0625, 0.08837890625, 0.10498046875, 0.1000...   \n",
       "327   -7.478256e-07  [[0.04052734375, 0.0498046875, 0.05908203125, ...   \n",
       "328   -8.881843e-07  [[0.03271484375, 0.060546875, 0.07763671875, 0...   \n",
       "329   -9.118850e-07  [[0.0439453125, 0.0576171875, 0.06494140625, 0...   \n",
       "330    1.794544e-07  [[0.02001953125, 0.03369140625, 0.04638671875,...   \n",
       "..              ...                                                ...   \n",
       "391   -1.585669e-06  [[0.0205078125, 0.03125, 0.04150390625, 0.0488...   \n",
       "392   -1.521111e-06  [[0.02587890625, 0.037109375, 0.0517578125, 0....   \n",
       "393   -5.475777e-07  [[0.0244140625, 0.03857421875, 0.0458984375, 0...   \n",
       "394   -1.064111e-06  [[0.0283203125, 0.0380859375, 0.05029296875, 0...   \n",
       "395   -7.413774e-07  [[0.0224609375, 0.03466796875, 0.052734375, 0....   \n",
       "\n",
       "     duration                                 spectral_bandwidth  \\\n",
       "326  5.501678  [[3106.7734522968512, 3072.0313773238913, 2990...   \n",
       "327  4.642540  [[3334.504572556264, 3022.1845978589986, 2675....   \n",
       "328  4.201361  [[2634.566133014394, 2723.9497942806197, 3104....   \n",
       "329  4.805079  [[2563.378909998727, 2478.1087582556884, 2405....   \n",
       "330  4.828299  [[2432.141009938576, 2434.88412755237, 2500.09...   \n",
       "..        ...                                                ...   \n",
       "391  3.551202  [[2375.2123124410496, 2376.847802021224, 2429....   \n",
       "392  4.456780  [[2371.0223530879452, 2415.0950434373026, 2478...   \n",
       "393  4.201361  [[2128.1310283776593, 2231.691809876588, 2267....   \n",
       "394  4.990839  [[2479.7425868521545, 2505.289327078532, 2348....   \n",
       "395  6.732336  [[1913.4111707602726, 2202.4288035008944, 2235...   \n",
       "\n",
       "                                     spectral_centroid  \\\n",
       "326  [[3340.183241347705, 3256.033509742136, 2948.3...   \n",
       "327  [[3042.3705811585223, 2438.2946291233347, 1981...   \n",
       "328  [[1874.4775966485654, 2047.949833684449, 2520....   \n",
       "329  [[1953.4623307439763, 1844.3666649192642, 1715...   \n",
       "330  [[1710.5098432407794, 1686.37981480928, 1808.3...   \n",
       "..                                                 ...   \n",
       "391  [[1659.0739343521218, 1679.6375233743906, 1730...   \n",
       "392  [[1555.4835846735352, 1713.8335007832075, 1741...   \n",
       "393  [[1500.8471595656397, 1486.5130309063725, 1456...   \n",
       "394  [[1683.7321964651433, 1731.9778560093878, 1627...   \n",
       "395  [[1219.4374607669743, 1491.6212924693154, 1509...   \n",
       "\n",
       "                                                  mfcc  \\\n",
       "326  [[-499.6204, -479.71878, -493.11777, -504.6677...   \n",
       "327  [[-547.3615, -527.1012, -532.1765, -532.8089, ...   \n",
       "328  [[-582.2677, -545.3062, -535.4372, -523.9564, ...   \n",
       "329  [[-582.27167, -554.00226, -555.7195, -559.0046...   \n",
       "330  [[-576.72955, -548.7067, -547.8173, -548.6698,...   \n",
       "..                                                 ...   \n",
       "391  [[-573.39667, -540.8461, -543.5878, -543.8955,...   \n",
       "392  [[-576.8552, -540.9463, -538.9439, -535.16693,...   \n",
       "393  [[-593.1156, -552.1348, -550.8144, -551.43353,...   \n",
       "394  [[-571.1981, -546.58734, -540.69147, -536.3097...   \n",
       "395  [[-569.64087, -541.3811, -541.1825, -543.29517...   \n",
       "\n",
       "     mean_zero_crossing_rate  mean_spectral_centroid  \\\n",
       "326                 0.062368             1898.294337   \n",
       "327                 0.070339             2003.816382   \n",
       "328                 0.054555             1736.996368   \n",
       "329                 0.057476             1705.045620   \n",
       "330                 0.046431             1632.375613   \n",
       "..                       ...                     ...   \n",
       "391                 0.052894             1708.429612   \n",
       "392                 0.060916             1930.710526   \n",
       "393                 0.050290             1640.638827   \n",
       "394                 0.052389             1655.876224   \n",
       "395                 0.055371             1644.429999   \n",
       "\n",
       "                                  audio_path_denoised  \n",
       "326  samples/audio_denoised/al_e026_A-01_filtered.wav  \n",
       "327  samples/audio_denoised/al_e026_A-01_filtered.wav  \n",
       "328  samples/audio_denoised/al_e026_A-01_filtered.wav  \n",
       "329  samples/audio_denoised/al_e026_A-01_filtered.wav  \n",
       "330  samples/audio_denoised/al_e026_A-01_filtered.wav  \n",
       "..                                                ...  \n",
       "391  samples/audio_denoised/al_e026_A-01_filtered.wav  \n",
       "392  samples/audio_denoised/al_e026_A-01_filtered.wav  \n",
       "393  samples/audio_denoised/al_e026_A-01_filtered.wav  \n",
       "394  samples/audio_denoised/al_e026_A-01_filtered.wav  \n",
       "395  samples/audio_denoised/al_e026_A-01_filtered.wav  \n",
       "\n",
       "[70 rows x 16 columns]"
      ]
     },
     "execution_count": 160,
     "metadata": {},
     "output_type": "execute_result"
    }
   ],
   "source": [
    "df[df['patient'] == 'al_e100']"
   ]
  },
  {
   "cell_type": "code",
   "execution_count": 169,
   "metadata": {},
   "outputs": [
    {
     "data": {
      "text/html": [
       "<div>\n",
       "<style scoped>\n",
       "    .dataframe tbody tr th:only-of-type {\n",
       "        vertical-align: middle;\n",
       "    }\n",
       "\n",
       "    .dataframe tbody tr th {\n",
       "        vertical-align: top;\n",
       "    }\n",
       "\n",
       "    .dataframe thead th {\n",
       "        text-align: right;\n",
       "    }\n",
       "</style>\n",
       "<table border=\"1\" class=\"dataframe\">\n",
       "  <thead>\n",
       "    <tr style=\"text-align: right;\">\n",
       "      <th></th>\n",
       "      <th>Picture No.</th>\n",
       "      <th>Original</th>\n",
       "      <th>Edited</th>\n",
       "      <th>patient</th>\n",
       "      <th>audio_path</th>\n",
       "      <th>cleaned_original</th>\n",
       "      <th>cleaned_transcript</th>\n",
       "      <th>mean_amplitude</th>\n",
       "      <th>zero_crossing_rate</th>\n",
       "      <th>duration</th>\n",
       "      <th>spectral_bandwidth</th>\n",
       "      <th>spectral_centroid</th>\n",
       "      <th>mfcc</th>\n",
       "      <th>mean_zero_crossing_rate</th>\n",
       "      <th>mean_spectral_centroid</th>\n",
       "      <th>audio_path_denoised</th>\n",
       "    </tr>\n",
       "  </thead>\n",
       "  <tbody>\n",
       "    <tr>\n",
       "      <th>326</th>\n",
       "      <td>A-01</td>\n",
       "      <td>Come</td>\n",
       "      <td>arm</td>\n",
       "      <td>al_e100</td>\n",
       "      <td>samples/audio/al_e100_A-01.m4a</td>\n",
       "      <td>come</td>\n",
       "      <td>arm</td>\n",
       "      <td>-9.537897e-07</td>\n",
       "      <td>[[0.0625, 0.08837890625, 0.10498046875, 0.1000...</td>\n",
       "      <td>5.501678</td>\n",
       "      <td>[[3106.7734522968512, 3072.0313773238913, 2990...</td>\n",
       "      <td>[[3340.183241347705, 3256.033509742136, 2948.3...</td>\n",
       "      <td>[[-499.6204, -479.71878, -493.11777, -504.6677...</td>\n",
       "      <td>0.062368</td>\n",
       "      <td>1898.294337</td>\n",
       "      <td>samples/audio_denoised/al_e026_A-01_filtered.wav</td>\n",
       "    </tr>\n",
       "    <tr>\n",
       "      <th>327</th>\n",
       "      <td>A-02</td>\n",
       "      <td>X</td>\n",
       "      <td>axe</td>\n",
       "      <td>al_e100</td>\n",
       "      <td>samples/audio/al_e100_A-02.m4a</td>\n",
       "      <td>x</td>\n",
       "      <td>axe</td>\n",
       "      <td>-7.478256e-07</td>\n",
       "      <td>[[0.04052734375, 0.0498046875, 0.05908203125, ...</td>\n",
       "      <td>4.642540</td>\n",
       "      <td>[[3334.504572556264, 3022.1845978589986, 2675....</td>\n",
       "      <td>[[3042.3705811585223, 2438.2946291233347, 1981...</td>\n",
       "      <td>[[-547.3615, -527.1012, -532.1765, -532.8089, ...</td>\n",
       "      <td>0.070339</td>\n",
       "      <td>2003.816382</td>\n",
       "      <td>samples/audio_denoised/al_e026_A-01_filtered.wav</td>\n",
       "    </tr>\n",
       "    <tr>\n",
       "      <th>328</th>\n",
       "      <td>A-03</td>\n",
       "      <td>Banana</td>\n",
       "      <td>Banana</td>\n",
       "      <td>al_e100</td>\n",
       "      <td>samples/audio/al_e100_A-03.m4a</td>\n",
       "      <td>banana</td>\n",
       "      <td>banana</td>\n",
       "      <td>-8.881843e-07</td>\n",
       "      <td>[[0.03271484375, 0.060546875, 0.07763671875, 0...</td>\n",
       "      <td>4.201361</td>\n",
       "      <td>[[2634.566133014394, 2723.9497942806197, 3104....</td>\n",
       "      <td>[[1874.4775966485654, 2047.949833684449, 2520....</td>\n",
       "      <td>[[-582.2677, -545.3062, -535.4372, -523.9564, ...</td>\n",
       "      <td>0.054555</td>\n",
       "      <td>1736.996368</td>\n",
       "      <td>samples/audio_denoised/al_e026_A-01_filtered.wav</td>\n",
       "    </tr>\n",
       "    <tr>\n",
       "      <th>329</th>\n",
       "      <td>A-04</td>\n",
       "      <td>Basket</td>\n",
       "      <td>Basket</td>\n",
       "      <td>al_e100</td>\n",
       "      <td>samples/audio/al_e100_A-04.m4a</td>\n",
       "      <td>basket</td>\n",
       "      <td>basket</td>\n",
       "      <td>-9.118850e-07</td>\n",
       "      <td>[[0.0439453125, 0.0576171875, 0.06494140625, 0...</td>\n",
       "      <td>4.805079</td>\n",
       "      <td>[[2563.378909998727, 2478.1087582556884, 2405....</td>\n",
       "      <td>[[1953.4623307439763, 1844.3666649192642, 1715...</td>\n",
       "      <td>[[-582.27167, -554.00226, -555.7195, -559.0046...</td>\n",
       "      <td>0.057476</td>\n",
       "      <td>1705.045620</td>\n",
       "      <td>samples/audio_denoised/al_e026_A-01_filtered.wav</td>\n",
       "    </tr>\n",
       "    <tr>\n",
       "      <th>330</th>\n",
       "      <td>A-05</td>\n",
       "      <td>Bed</td>\n",
       "      <td>Beard</td>\n",
       "      <td>al_e100</td>\n",
       "      <td>samples/audio/al_e100_A-05.m4a</td>\n",
       "      <td>bed</td>\n",
       "      <td>beard</td>\n",
       "      <td>1.794544e-07</td>\n",
       "      <td>[[0.02001953125, 0.03369140625, 0.04638671875,...</td>\n",
       "      <td>4.828299</td>\n",
       "      <td>[[2432.141009938576, 2434.88412755237, 2500.09...</td>\n",
       "      <td>[[1710.5098432407794, 1686.37981480928, 1808.3...</td>\n",
       "      <td>[[-576.72955, -548.7067, -547.8173, -548.6698,...</td>\n",
       "      <td>0.046431</td>\n",
       "      <td>1632.375613</td>\n",
       "      <td>samples/audio_denoised/al_e026_A-01_filtered.wav</td>\n",
       "    </tr>\n",
       "    <tr>\n",
       "      <th>331</th>\n",
       "      <td>A-06</td>\n",
       "      <td>Bed</td>\n",
       "      <td>Bed</td>\n",
       "      <td>al_e100</td>\n",
       "      <td>samples/audio/al_e100_A-06.m4a</td>\n",
       "      <td>bed</td>\n",
       "      <td>bed</td>\n",
       "      <td>-2.502673e-07</td>\n",
       "      <td>[[0.03125, 0.05029296875, 0.06103515625, 0.066...</td>\n",
       "      <td>4.201361</td>\n",
       "      <td>[[2739.8295321353453, 2839.537597055317, 2767....</td>\n",
       "      <td>[[2123.6316917306694, 2379.644533484585, 2132....</td>\n",
       "      <td>[[-538.59454, -514.54456, -518.6974, -522.8736...</td>\n",
       "      <td>0.060056</td>\n",
       "      <td>1922.577649</td>\n",
       "      <td>samples/audio_denoised/al_e026_A-01_filtered.wav</td>\n",
       "    </tr>\n",
       "    <tr>\n",
       "      <th>332</th>\n",
       "      <td>A-07</td>\n",
       "      <td>Be</td>\n",
       "      <td>Bee</td>\n",
       "      <td>al_e100</td>\n",
       "      <td>samples/audio/al_e100_A-07.m4a</td>\n",
       "      <td>be</td>\n",
       "      <td>bee</td>\n",
       "      <td>-6.084063e-07</td>\n",
       "      <td>[[0.02783203125, 0.04296875, 0.05859375, 0.059...</td>\n",
       "      <td>6.314376</td>\n",
       "      <td>[[2262.693793270812, 2240.4975513431837, 2337....</td>\n",
       "      <td>[[1577.1488465441253, 1603.866735247708, 1807....</td>\n",
       "      <td>[[-565.6017, -522.9685, -520.34393, -514.6389,...</td>\n",
       "      <td>0.052822</td>\n",
       "      <td>1740.393507</td>\n",
       "      <td>samples/audio_denoised/al_e026_A-01_filtered.wav</td>\n",
       "    </tr>\n",
       "    <tr>\n",
       "      <th>333</th>\n",
       "      <td>A-08</td>\n",
       "      <td>Bing</td>\n",
       "      <td>Bell</td>\n",
       "      <td>al_e100</td>\n",
       "      <td>samples/audio/al_e100_A-08.m4a</td>\n",
       "      <td>bing</td>\n",
       "      <td>bell</td>\n",
       "      <td>-7.525085e-07</td>\n",
       "      <td>[[0.0205078125, 0.03515625, 0.0537109375, 0.05...</td>\n",
       "      <td>5.315918</td>\n",
       "      <td>[[2308.780179136774, 2267.0161461348043, 2327....</td>\n",
       "      <td>[[1545.8852242069825, 1493.5522004491963, 1553...</td>\n",
       "      <td>[[-564.0033, -537.8326, -539.3091, -541.63, -5...</td>\n",
       "      <td>0.047521</td>\n",
       "      <td>1587.478838</td>\n",
       "      <td>samples/audio_denoised/al_e026_A-01_filtered.wav</td>\n",
       "    </tr>\n",
       "    <tr>\n",
       "      <th>334</th>\n",
       "      <td>A-09</td>\n",
       "      <td>But</td>\n",
       "      <td>Bird</td>\n",
       "      <td>al_e100</td>\n",
       "      <td>samples/audio/al_e100_A-09.m4a</td>\n",
       "      <td>but</td>\n",
       "      <td>bird</td>\n",
       "      <td>-4.088166e-07</td>\n",
       "      <td>[[0.033203125, 0.0400390625, 0.05859375, 0.056...</td>\n",
       "      <td>4.131701</td>\n",
       "      <td>[[2256.9935712815586, 2472.7270194124458, 2451...</td>\n",
       "      <td>[[1465.355431350762, 1754.297770658438, 1661.5...</td>\n",
       "      <td>[[-577.2807, -550.01135, -546.6059, -543.33484...</td>\n",
       "      <td>0.053777</td>\n",
       "      <td>1741.222549</td>\n",
       "      <td>samples/audio_denoised/al_e026_A-01_filtered.wav</td>\n",
       "    </tr>\n",
       "    <tr>\n",
       "      <th>335</th>\n",
       "      <td>A-10</td>\n",
       "      <td>Book</td>\n",
       "      <td>Bone</td>\n",
       "      <td>al_e100</td>\n",
       "      <td>samples/audio/al_e100_A-10.m4a</td>\n",
       "      <td>book</td>\n",
       "      <td>bone</td>\n",
       "      <td>-8.321993e-07</td>\n",
       "      <td>[[0.01806640625, 0.04150390625, 0.06396484375,...</td>\n",
       "      <td>4.131701</td>\n",
       "      <td>[[2271.3453284029774, 2450.2148716994407, 2724...</td>\n",
       "      <td>[[1564.912593257507, 1762.5366993638825, 2351....</td>\n",
       "      <td>[[-563.6532, -530.3739, -503.2084, -497.2128, ...</td>\n",
       "      <td>0.050965</td>\n",
       "      <td>1693.597169</td>\n",
       "      <td>samples/audio_denoised/al_e026_A-01_filtered.wav</td>\n",
       "    </tr>\n",
       "    <tr>\n",
       "      <th>336</th>\n",
       "      <td>A-11</td>\n",
       "      <td>Book</td>\n",
       "      <td>Book</td>\n",
       "      <td>al_e100</td>\n",
       "      <td>samples/audio/al_e100_A-11.m4a</td>\n",
       "      <td>book</td>\n",
       "      <td>book</td>\n",
       "      <td>-2.721543e-07</td>\n",
       "      <td>[[0.03173828125, 0.04443359375, 0.0556640625, ...</td>\n",
       "      <td>4.874739</td>\n",
       "      <td>[[2344.514702774183, 2382.4438324528614, 2363....</td>\n",
       "      <td>[[1699.6417256436735, 1719.6137741312948, 1696...</td>\n",
       "      <td>[[-575.2269, -545.6776, -544.0951, -541.4929, ...</td>\n",
       "      <td>0.048424</td>\n",
       "      <td>1638.435128</td>\n",
       "      <td>samples/audio_denoised/al_e026_A-01_filtered.wav</td>\n",
       "    </tr>\n",
       "    <tr>\n",
       "      <th>337</th>\n",
       "      <td>A-12</td>\n",
       "      <td>Box</td>\n",
       "      <td>Box</td>\n",
       "      <td>al_e100</td>\n",
       "      <td>samples/audio/al_e100_A-12.m4a</td>\n",
       "      <td>box</td>\n",
       "      <td>box</td>\n",
       "      <td>-7.980516e-07</td>\n",
       "      <td>[[0.02294921875, 0.03564453125, 0.046875, 0.04...</td>\n",
       "      <td>3.945941</td>\n",
       "      <td>[[2667.451957310425, 2619.462400532938, 2570.0...</td>\n",
       "      <td>[[1850.547818841084, 1828.742886199337, 1810.2...</td>\n",
       "      <td>[[-564.65875, -541.6593, -546.57324, -547.1637...</td>\n",
       "      <td>0.073923</td>\n",
       "      <td>1989.158239</td>\n",
       "      <td>samples/audio_denoised/al_e026_A-01_filtered.wav</td>\n",
       "    </tr>\n",
       "    <tr>\n",
       "      <th>338</th>\n",
       "      <td>A-13</td>\n",
       "      <td>Brain</td>\n",
       "      <td>Brain</td>\n",
       "      <td>al_e100</td>\n",
       "      <td>samples/audio/al_e100_A-13.m4a</td>\n",
       "      <td>brain</td>\n",
       "      <td>brain</td>\n",
       "      <td>-1.632570e-07</td>\n",
       "      <td>[[0.02783203125, 0.03955078125, 0.056640625, 0...</td>\n",
       "      <td>4.387120</td>\n",
       "      <td>[[2387.135558663009, 2309.832961615638, 2382.8...</td>\n",
       "      <td>[[1713.1192318031872, 1584.0280217377722, 1634...</td>\n",
       "      <td>[[-579.0254, -545.0739, -542.5854, -535.9722, ...</td>\n",
       "      <td>0.050980</td>\n",
       "      <td>1675.975690</td>\n",
       "      <td>samples/audio_denoised/al_e026_A-01_filtered.wav</td>\n",
       "    </tr>\n",
       "    <tr>\n",
       "      <th>339</th>\n",
       "      <td>A-14</td>\n",
       "      <td>Bridge</td>\n",
       "      <td>Bridge</td>\n",
       "      <td>al_e100</td>\n",
       "      <td>samples/audio/al_e100_A-14.m4a</td>\n",
       "      <td>bridge</td>\n",
       "      <td>bridge</td>\n",
       "      <td>-1.059195e-06</td>\n",
       "      <td>[[0.0205078125, 0.03466796875, 0.0478515625, 0...</td>\n",
       "      <td>4.665760</td>\n",
       "      <td>[[2454.079786197779, 2447.3471687922556, 2495....</td>\n",
       "      <td>[[1578.9512184585337, 1626.248190949803, 1862....</td>\n",
       "      <td>[[-584.4301, -545.6419, -535.8489, -526.04974,...</td>\n",
       "      <td>0.054177</td>\n",
       "      <td>1675.256699</td>\n",
       "      <td>samples/audio_denoised/al_e026_A-01_filtered.wav</td>\n",
       "    </tr>\n",
       "    <tr>\n",
       "      <th>340</th>\n",
       "      <td>A-15</td>\n",
       "      <td>Camel</td>\n",
       "      <td>Camel</td>\n",
       "      <td>al_e100</td>\n",
       "      <td>samples/audio/al_e100_A-15.m4a</td>\n",
       "      <td>camel</td>\n",
       "      <td>camel</td>\n",
       "      <td>-3.946225e-07</td>\n",
       "      <td>[[0.0185546875, 0.03173828125, 0.04443359375, ...</td>\n",
       "      <td>4.712200</td>\n",
       "      <td>[[2186.0828620830666, 2251.6706704543867, 2324...</td>\n",
       "      <td>[[1457.4607256762476, 1418.004563560402, 1505....</td>\n",
       "      <td>[[-587.8286, -554.3546, -555.6277, -553.3789, ...</td>\n",
       "      <td>0.047298</td>\n",
       "      <td>1632.921081</td>\n",
       "      <td>samples/audio_denoised/al_e026_A-01_filtered.wav</td>\n",
       "    </tr>\n",
       "    <tr>\n",
       "      <th>341</th>\n",
       "      <td>A-16</td>\n",
       "      <td>Cancel</td>\n",
       "      <td>Candle</td>\n",
       "      <td>al_e100</td>\n",
       "      <td>samples/audio/al_e100_A-16.m4a</td>\n",
       "      <td>cancel</td>\n",
       "      <td>candle</td>\n",
       "      <td>-6.227769e-07</td>\n",
       "      <td>[[0.02783203125, 0.0419921875, 0.0634765625, 0...</td>\n",
       "      <td>4.247800</td>\n",
       "      <td>[[2594.6472258000103, 2485.7945733777183, 2514...</td>\n",
       "      <td>[[1949.9836605978435, 1846.6337582347323, 1941...</td>\n",
       "      <td>[[-564.30597, -529.8318, -529.84894, -515.0142...</td>\n",
       "      <td>0.063287</td>\n",
       "      <td>1908.599033</td>\n",
       "      <td>samples/audio_denoised/al_e026_A-01_filtered.wav</td>\n",
       "    </tr>\n",
       "    <tr>\n",
       "      <th>342</th>\n",
       "      <td>A-17</td>\n",
       "      <td>Cat</td>\n",
       "      <td>Cat</td>\n",
       "      <td>al_e100</td>\n",
       "      <td>samples/audio/al_e100_A-17.m4a</td>\n",
       "      <td>cat</td>\n",
       "      <td>cat</td>\n",
       "      <td>-7.575300e-07</td>\n",
       "      <td>[[0.03076171875, 0.0478515625, 0.06298828125, ...</td>\n",
       "      <td>4.781859</td>\n",
       "      <td>[[2394.6782221329627, 2378.0580093016247, 2277...</td>\n",
       "      <td>[[1939.178028978227, 1821.0807903680043, 1672....</td>\n",
       "      <td>[[-557.94446, -526.80524, -523.97705, -533.098...</td>\n",
       "      <td>0.052675</td>\n",
       "      <td>1699.733356</td>\n",
       "      <td>samples/audio_denoised/al_e026_A-01_filtered.wav</td>\n",
       "    </tr>\n",
       "    <tr>\n",
       "      <th>343</th>\n",
       "      <td>A-18</td>\n",
       "      <td>Chain</td>\n",
       "      <td>Chain</td>\n",
       "      <td>al_e100</td>\n",
       "      <td>samples/audio/al_e100_A-18.m4a</td>\n",
       "      <td>chain</td>\n",
       "      <td>chain</td>\n",
       "      <td>-1.073272e-06</td>\n",
       "      <td>[[0.0361328125, 0.0478515625, 0.05712890625, 0...</td>\n",
       "      <td>4.038821</td>\n",
       "      <td>[[2478.436096758486, 2523.832978023337, 2488.5...</td>\n",
       "      <td>[[1832.5126338389668, 1852.7962116646543, 1727...</td>\n",
       "      <td>[[-577.1651, -548.5411, -549.8585, -553.2295, ...</td>\n",
       "      <td>0.096424</td>\n",
       "      <td>2414.574955</td>\n",
       "      <td>samples/audio_denoised/al_e026_A-01_filtered.wav</td>\n",
       "    </tr>\n",
       "    <tr>\n",
       "      <th>344</th>\n",
       "      <td>A-19</td>\n",
       "      <td>Chair</td>\n",
       "      <td>Chair</td>\n",
       "      <td>al_e100</td>\n",
       "      <td>samples/audio/al_e100_A-19.m4a</td>\n",
       "      <td>chair</td>\n",
       "      <td>chair</td>\n",
       "      <td>-1.300547e-07</td>\n",
       "      <td>[[0.03662109375, 0.06982421875, 0.087890625, 0...</td>\n",
       "      <td>3.992381</td>\n",
       "      <td>[[2867.486505183109, 2837.426753816469, 2818.2...</td>\n",
       "      <td>[[2539.101296443333, 2436.0791226027245, 2462....</td>\n",
       "      <td>[[-533.4449, -498.30832, -496.70914, -503.5039...</td>\n",
       "      <td>0.079275</td>\n",
       "      <td>2156.681294</td>\n",
       "      <td>samples/audio_denoised/al_e026_A-01_filtered.wav</td>\n",
       "    </tr>\n",
       "    <tr>\n",
       "      <th>345</th>\n",
       "      <td>A-20</td>\n",
       "      <td>Cigarette</td>\n",
       "      <td>Cigarette</td>\n",
       "      <td>al_e100</td>\n",
       "      <td>samples/audio/al_e100_A-20.m4a</td>\n",
       "      <td>cigarette</td>\n",
       "      <td>cigarette</td>\n",
       "      <td>-1.255111e-06</td>\n",
       "      <td>[[0.0380859375, 0.068359375, 0.1025390625, 0.1...</td>\n",
       "      <td>4.781859</td>\n",
       "      <td>[[2981.6716958017673, 2967.5591754615234, 2975...</td>\n",
       "      <td>[[2470.2236736591653, 2474.0031339915677, 2553...</td>\n",
       "      <td>[[-554.816, -521.28845, -517.00024, -494.5987,...</td>\n",
       "      <td>0.083254</td>\n",
       "      <td>2176.492691</td>\n",
       "      <td>samples/audio_denoised/al_e026_A-01_filtered.wav</td>\n",
       "    </tr>\n",
       "    <tr>\n",
       "      <th>346</th>\n",
       "      <td>A-21</td>\n",
       "      <td>Call</td>\n",
       "      <td>Comb</td>\n",
       "      <td>al_e100</td>\n",
       "      <td>samples/audio/al_e100_A-21.m4a</td>\n",
       "      <td>call</td>\n",
       "      <td>comb</td>\n",
       "      <td>-9.150397e-07</td>\n",
       "      <td>[[0.0400390625, 0.060546875, 0.078125, 0.08154...</td>\n",
       "      <td>3.899501</td>\n",
       "      <td>[[2614.8668750100214, 2635.971024056886, 2714....</td>\n",
       "      <td>[[2076.0610427035626, 2203.313641412562, 2390....</td>\n",
       "      <td>[[-536.3113, -509.98764, -520.45465, -520.8593...</td>\n",
       "      <td>0.065473</td>\n",
       "      <td>1993.639979</td>\n",
       "      <td>samples/audio_denoised/al_e026_A-01_filtered.wav</td>\n",
       "    </tr>\n",
       "    <tr>\n",
       "      <th>347</th>\n",
       "      <td>A-22</td>\n",
       "      <td>Call</td>\n",
       "      <td>Cow</td>\n",
       "      <td>al_e100</td>\n",
       "      <td>samples/audio/al_e100_A-22.m4a</td>\n",
       "      <td>call</td>\n",
       "      <td>cow</td>\n",
       "      <td>-9.959685e-07</td>\n",
       "      <td>[[0.0322265625, 0.04345703125, 0.05224609375, ...</td>\n",
       "      <td>4.154921</td>\n",
       "      <td>[[2632.7644087487056, 2565.122274356269, 2428....</td>\n",
       "      <td>[[1886.2273607644959, 1762.3549622109322, 1567...</td>\n",
       "      <td>[[-564.2466, -542.8569, -546.0249, -547.2797, ...</td>\n",
       "      <td>0.050500</td>\n",
       "      <td>1624.243150</td>\n",
       "      <td>samples/audio_denoised/al_e026_A-01_filtered.wav</td>\n",
       "    </tr>\n",
       "    <tr>\n",
       "      <th>348</th>\n",
       "      <td>A-23</td>\n",
       "      <td>Curtain</td>\n",
       "      <td>Curtain</td>\n",
       "      <td>al_e100</td>\n",
       "      <td>samples/audio/al_e100_A-23.m4a</td>\n",
       "      <td>curtain</td>\n",
       "      <td>curtain</td>\n",
       "      <td>-8.430289e-07</td>\n",
       "      <td>[[0.02685546875, 0.0439453125, 0.05712890625, ...</td>\n",
       "      <td>5.362358</td>\n",
       "      <td>[[2088.559912528318, 2344.5686043276646, 2432....</td>\n",
       "      <td>[[1340.6339588059932, 1599.740376996926, 1670....</td>\n",
       "      <td>[[-585.34674, -555.909, -559.3921, -554.83624,...</td>\n",
       "      <td>0.048961</td>\n",
       "      <td>1638.458044</td>\n",
       "      <td>samples/audio_denoised/al_e026_A-01_filtered.wav</td>\n",
       "    </tr>\n",
       "    <tr>\n",
       "      <th>349</th>\n",
       "      <td>A-24</td>\n",
       "      <td>Dog</td>\n",
       "      <td>Dog</td>\n",
       "      <td>al_e100</td>\n",
       "      <td>samples/audio/al_e100_A-24.m4a</td>\n",
       "      <td>dog</td>\n",
       "      <td>dog</td>\n",
       "      <td>-2.608790e-07</td>\n",
       "      <td>[[0.11376953125, 0.16259765625, 0.212890625, 0...</td>\n",
       "      <td>4.967619</td>\n",
       "      <td>[[2813.3171683309088, 2803.7667111311234, 2861...</td>\n",
       "      <td>[[4211.440555853287, 4206.12066076169, 3943.60...</td>\n",
       "      <td>[[-245.9865, -235.4117, -332.94922, -311.84396...</td>\n",
       "      <td>0.078123</td>\n",
       "      <td>2250.118863</td>\n",
       "      <td>samples/audio_denoised/al_e026_A-01_filtered.wav</td>\n",
       "    </tr>\n",
       "    <tr>\n",
       "      <th>350</th>\n",
       "      <td>A-25</td>\n",
       "      <td>Dark</td>\n",
       "      <td>Duck</td>\n",
       "      <td>al_e100</td>\n",
       "      <td>samples/audio/al_e100_A-25.m4a</td>\n",
       "      <td>dark</td>\n",
       "      <td>duck</td>\n",
       "      <td>-8.167603e-07</td>\n",
       "      <td>[[0.02197265625, 0.0341796875, 0.04931640625, ...</td>\n",
       "      <td>5.223039</td>\n",
       "      <td>[[2435.8966305850267, 2407.501684248983, 2373....</td>\n",
       "      <td>[[1911.5337673886038, 1801.3731966445373, 1722...</td>\n",
       "      <td>[[-566.8485, -530.9141, -524.7474, -526.61786,...</td>\n",
       "      <td>0.063444</td>\n",
       "      <td>1972.474848</td>\n",
       "      <td>samples/audio_denoised/al_e026_A-01_filtered.wav</td>\n",
       "    </tr>\n",
       "    <tr>\n",
       "      <th>351</th>\n",
       "      <td>A-26</td>\n",
       "      <td>Elephant</td>\n",
       "      <td>Elephant</td>\n",
       "      <td>al_e100</td>\n",
       "      <td>samples/audio/al_e100_A-26.m4a</td>\n",
       "      <td>elephant</td>\n",
       "      <td>elephant</td>\n",
       "      <td>1.375042e-07</td>\n",
       "      <td>[[0.0341796875, 0.05712890625, 0.07275390625, ...</td>\n",
       "      <td>4.596100</td>\n",
       "      <td>[[3066.4940640280947, 3172.0856754338756, 3196...</td>\n",
       "      <td>[[2353.629103091095, 2545.505761821153, 2647.4...</td>\n",
       "      <td>[[-559.295, -523.791, -525.2325, -525.3233, -5...</td>\n",
       "      <td>0.049457</td>\n",
       "      <td>1592.859182</td>\n",
       "      <td>samples/audio_denoised/al_e026_A-01_filtered.wav</td>\n",
       "    </tr>\n",
       "    <tr>\n",
       "      <th>352</th>\n",
       "      <td>A-27</td>\n",
       "      <td>Finger</td>\n",
       "      <td>Finger</td>\n",
       "      <td>al_e100</td>\n",
       "      <td>samples/audio/al_e100_A-27.m4a</td>\n",
       "      <td>finger</td>\n",
       "      <td>finger</td>\n",
       "      <td>1.871482e-07</td>\n",
       "      <td>[[0.0322265625, 0.04248046875, 0.0556640625, 0...</td>\n",
       "      <td>4.201361</td>\n",
       "      <td>[[2497.3256650683566, 2491.914355559714, 2408....</td>\n",
       "      <td>[[1883.7441291369905, 1838.1028261935953, 1729...</td>\n",
       "      <td>[[-541.17957, -513.8052, -522.2807, -534.0534,...</td>\n",
       "      <td>0.062214</td>\n",
       "      <td>1907.191788</td>\n",
       "      <td>samples/audio_denoised/al_e026_A-01_filtered.wav</td>\n",
       "    </tr>\n",
       "    <tr>\n",
       "      <th>353</th>\n",
       "      <td>A-28</td>\n",
       "      <td>Fish</td>\n",
       "      <td>Fish</td>\n",
       "      <td>al_e100</td>\n",
       "      <td>samples/audio/al_e100_A-28.m4a</td>\n",
       "      <td>fish</td>\n",
       "      <td>fish</td>\n",
       "      <td>-7.372627e-08</td>\n",
       "      <td>[[0.0234375, 0.03759765625, 0.06396484375, 0.0...</td>\n",
       "      <td>4.038821</td>\n",
       "      <td>[[2277.120576842769, 2360.5377002433593, 2528....</td>\n",
       "      <td>[[1466.7741496089498, 1611.8110483387384, 1821...</td>\n",
       "      <td>[[-586.12463, -552.70294, -536.8359, -503.7681...</td>\n",
       "      <td>0.061594</td>\n",
       "      <td>1827.956710</td>\n",
       "      <td>samples/audio_denoised/al_e026_A-01_filtered.wav</td>\n",
       "    </tr>\n",
       "    <tr>\n",
       "      <th>354</th>\n",
       "      <td>A-29</td>\n",
       "      <td>Flat</td>\n",
       "      <td>Flag</td>\n",
       "      <td>al_e100</td>\n",
       "      <td>samples/audio/al_e100_A-29.m4a</td>\n",
       "      <td>flat</td>\n",
       "      <td>flag</td>\n",
       "      <td>-2.647034e-07</td>\n",
       "      <td>[[0.0322265625, 0.0458984375, 0.06982421875, 0...</td>\n",
       "      <td>4.085261</td>\n",
       "      <td>[[2305.556132798679, 2335.4949247269433, 2332....</td>\n",
       "      <td>[[1764.5547553464025, 1751.44821007044, 1703.9...</td>\n",
       "      <td>[[-559.0157, -543.7664, -551.00323, -548.2907,...</td>\n",
       "      <td>0.054224</td>\n",
       "      <td>1726.741897</td>\n",
       "      <td>samples/audio_denoised/al_e026_A-01_filtered.wav</td>\n",
       "    </tr>\n",
       "    <tr>\n",
       "      <th>355</th>\n",
       "      <td>A-30</td>\n",
       "      <td>Flower</td>\n",
       "      <td>Flower</td>\n",
       "      <td>al_e100</td>\n",
       "      <td>samples/audio/al_e100_A-30.m4a</td>\n",
       "      <td>flower</td>\n",
       "      <td>flower</td>\n",
       "      <td>-7.434951e-07</td>\n",
       "      <td>[[0.029296875, 0.041015625, 0.0537109375, 0.05...</td>\n",
       "      <td>4.363900</td>\n",
       "      <td>[[2371.4497403854944, 2438.028062316872, 2435....</td>\n",
       "      <td>[[1698.2413043384838, 1783.9037163424105, 1828...</td>\n",
       "      <td>[[-554.9471, -536.952, -536.7441, -541.01056, ...</td>\n",
       "      <td>0.060121</td>\n",
       "      <td>1802.139530</td>\n",
       "      <td>samples/audio_denoised/al_e026_A-01_filtered.wav</td>\n",
       "    </tr>\n",
       "    <tr>\n",
       "      <th>356</th>\n",
       "      <td>A-31</td>\n",
       "      <td>Fuck</td>\n",
       "      <td>Fork</td>\n",
       "      <td>al_e100</td>\n",
       "      <td>samples/audio/al_e100_A-31.m4a</td>\n",
       "      <td>fuck</td>\n",
       "      <td>fork</td>\n",
       "      <td>-2.849060e-07</td>\n",
       "      <td>[[0.025390625, 0.048828125, 0.0673828125, 0.06...</td>\n",
       "      <td>4.619320</td>\n",
       "      <td>[[2355.680944979801, 2438.766169172468, 2496.0...</td>\n",
       "      <td>[[1809.0011690775318, 1914.5017598656382, 1939...</td>\n",
       "      <td>[[-544.739, -510.09683, -514.879, -518.0801, -...</td>\n",
       "      <td>0.058250</td>\n",
       "      <td>1719.268911</td>\n",
       "      <td>samples/audio_denoised/al_e026_A-01_filtered.wav</td>\n",
       "    </tr>\n",
       "    <tr>\n",
       "      <th>357</th>\n",
       "      <td>A-32</td>\n",
       "      <td>Great</td>\n",
       "      <td>Grape</td>\n",
       "      <td>al_e100</td>\n",
       "      <td>samples/audio/al_e100_A-32.m4a</td>\n",
       "      <td>great</td>\n",
       "      <td>grape</td>\n",
       "      <td>8.496797e-08</td>\n",
       "      <td>[[0.025390625, 0.0322265625, 0.044921875, 0.04...</td>\n",
       "      <td>4.247800</td>\n",
       "      <td>[[2411.315045973239, 2456.0570650095046, 2487....</td>\n",
       "      <td>[[1747.482531667276, 1773.8292110661696, 1749....</td>\n",
       "      <td>[[-560.66327, -537.3018, -540.4297, -543.06757...</td>\n",
       "      <td>0.053047</td>\n",
       "      <td>1727.068947</td>\n",
       "      <td>samples/audio_denoised/al_e026_A-01_filtered.wav</td>\n",
       "    </tr>\n",
       "    <tr>\n",
       "      <th>358</th>\n",
       "      <td>A-33</td>\n",
       "      <td>Have</td>\n",
       "      <td>Hair</td>\n",
       "      <td>al_e100</td>\n",
       "      <td>samples/audio/al_e100_A-33.m4a</td>\n",
       "      <td>have</td>\n",
       "      <td>hair</td>\n",
       "      <td>-1.475569e-06</td>\n",
       "      <td>[[0.029296875, 0.048828125, 0.06201171875, 0.0...</td>\n",
       "      <td>4.340680</td>\n",
       "      <td>[[2467.527684460217, 2423.5114833323887, 2469....</td>\n",
       "      <td>[[1789.3939460980962, 1774.1836503485015, 1799...</td>\n",
       "      <td>[[-582.3096, -541.63086, -536.46796, -538.9962...</td>\n",
       "      <td>0.063430</td>\n",
       "      <td>1901.675072</td>\n",
       "      <td>samples/audio_denoised/al_e026_A-01_filtered.wav</td>\n",
       "    </tr>\n",
       "    <tr>\n",
       "      <th>359</th>\n",
       "      <td>A-34</td>\n",
       "      <td>Head</td>\n",
       "      <td>Hat</td>\n",
       "      <td>al_e100</td>\n",
       "      <td>samples/audio/al_e100_A-34.m4a</td>\n",
       "      <td>head</td>\n",
       "      <td>hat</td>\n",
       "      <td>-8.857916e-07</td>\n",
       "      <td>[[0.01953125, 0.0341796875, 0.0478515625, 0.04...</td>\n",
       "      <td>4.015601</td>\n",
       "      <td>[[2378.7091944520307, 2406.1937842128636, 2382...</td>\n",
       "      <td>[[1616.766687532294, 1634.4127793128037, 1597....</td>\n",
       "      <td>[[-585.6268, -557.4208, -553.56793, -554.7365,...</td>\n",
       "      <td>0.049398</td>\n",
       "      <td>1606.743220</td>\n",
       "      <td>samples/audio_denoised/al_e026_A-01_filtered.wav</td>\n",
       "    </tr>\n",
       "    <tr>\n",
       "      <th>360</th>\n",
       "      <td>A-35</td>\n",
       "      <td>Horse</td>\n",
       "      <td>Horse</td>\n",
       "      <td>al_e100</td>\n",
       "      <td>samples/audio/al_e100_A-35.m4a</td>\n",
       "      <td>horse</td>\n",
       "      <td>horse</td>\n",
       "      <td>-8.883463e-07</td>\n",
       "      <td>[[0.03857421875, 0.0517578125, 0.0673828125, 0...</td>\n",
       "      <td>5.942857</td>\n",
       "      <td>[[2792.5327426050467, 2791.452341125866, 2750....</td>\n",
       "      <td>[[2252.0170030510176, 2245.5375803847137, 2190...</td>\n",
       "      <td>[[-547.7308, -515.0304, -520.3739, -523.2826, ...</td>\n",
       "      <td>0.064003</td>\n",
       "      <td>1832.527155</td>\n",
       "      <td>samples/audio_denoised/al_e026_A-01_filtered.wav</td>\n",
       "    </tr>\n",
       "    <tr>\n",
       "      <th>361</th>\n",
       "      <td>A-36</td>\n",
       "      <td>House</td>\n",
       "      <td>House</td>\n",
       "      <td>al_e100</td>\n",
       "      <td>samples/audio/al_e100_A-36.m4a</td>\n",
       "      <td>house</td>\n",
       "      <td>house</td>\n",
       "      <td>-1.171560e-06</td>\n",
       "      <td>[[0.0283203125, 0.03759765625, 0.0478515625, 0...</td>\n",
       "      <td>3.829841</td>\n",
       "      <td>[[2521.7962139982774, 2410.1743350764564, 2295...</td>\n",
       "      <td>[[1876.7349822854753, 1719.9643841511527, 1548...</td>\n",
       "      <td>[[-593.2161, -555.71765, -550.4369, -550.11127...</td>\n",
       "      <td>0.072644</td>\n",
       "      <td>1859.194480</td>\n",
       "      <td>samples/audio_denoised/al_e026_A-01_filtered.wav</td>\n",
       "    </tr>\n",
       "    <tr>\n",
       "      <th>362</th>\n",
       "      <td>A-37</td>\n",
       "      <td>Iron</td>\n",
       "      <td>Iron</td>\n",
       "      <td>al_e100</td>\n",
       "      <td>samples/audio/al_e100_A-37.m4a</td>\n",
       "      <td>iron</td>\n",
       "      <td>iron</td>\n",
       "      <td>-7.284095e-07</td>\n",
       "      <td>[[0.0517578125, 0.08447265625, 0.123046875, 0....</td>\n",
       "      <td>4.201361</td>\n",
       "      <td>[[2334.6141035803, 2341.1086161458984, 2338.15...</td>\n",
       "      <td>[[2299.3710768551155, 2378.621902673033, 2307....</td>\n",
       "      <td>[[-344.7044, -328.88107, -342.3325, -317.28418...</td>\n",
       "      <td>0.064097</td>\n",
       "      <td>1976.353688</td>\n",
       "      <td>samples/audio_denoised/al_e026_A-01_filtered.wav</td>\n",
       "    </tr>\n",
       "    <tr>\n",
       "      <th>363</th>\n",
       "      <td>A-38</td>\n",
       "      <td>He</td>\n",
       "      <td>key</td>\n",
       "      <td>al_e100</td>\n",
       "      <td>samples/audio/al_e100_A-38.m4a</td>\n",
       "      <td>he</td>\n",
       "      <td>key</td>\n",
       "      <td>-4.979157e-07</td>\n",
       "      <td>[[0.01806640625, 0.02587890625, 0.03759765625,...</td>\n",
       "      <td>3.829841</td>\n",
       "      <td>[[2400.7803741204702, 2339.4560338214405, 2358...</td>\n",
       "      <td>[[1723.541373709759, 1629.742235799506, 1577.9...</td>\n",
       "      <td>[[-571.27936, -538.8443, -540.99036, -547.1326...</td>\n",
       "      <td>0.054131</td>\n",
       "      <td>1731.504189</td>\n",
       "      <td>samples/audio_denoised/al_e026_A-01_filtered.wav</td>\n",
       "    </tr>\n",
       "    <tr>\n",
       "      <th>364</th>\n",
       "      <td>A-39</td>\n",
       "      <td>King</td>\n",
       "      <td>King</td>\n",
       "      <td>al_e100</td>\n",
       "      <td>samples/audio/al_e100_A-39.m4a</td>\n",
       "      <td>king</td>\n",
       "      <td>king</td>\n",
       "      <td>-9.736659e-07</td>\n",
       "      <td>[[0.03564453125, 0.046875, 0.05859375, 0.05371...</td>\n",
       "      <td>4.062041</td>\n",
       "      <td>[[2210.573525069755, 2237.1319263423297, 2303....</td>\n",
       "      <td>[[1451.351305166527, 1479.587103763312, 1493.3...</td>\n",
       "      <td>[[-569.7307, -544.0423, -551.5245, -553.59863,...</td>\n",
       "      <td>0.072570</td>\n",
       "      <td>1983.209283</td>\n",
       "      <td>samples/audio_denoised/al_e026_A-01_filtered.wav</td>\n",
       "    </tr>\n",
       "    <tr>\n",
       "      <th>365</th>\n",
       "      <td>A-40</td>\n",
       "      <td>Kitchen</td>\n",
       "      <td>Kitchen</td>\n",
       "      <td>al_e100</td>\n",
       "      <td>samples/audio/al_e100_A-40.m4a</td>\n",
       "      <td>kitchen</td>\n",
       "      <td>kitchen</td>\n",
       "      <td>-3.967017e-07</td>\n",
       "      <td>[[0.0302734375, 0.04150390625, 0.05419921875, ...</td>\n",
       "      <td>3.899501</td>\n",
       "      <td>[[2208.0755903973145, 2291.568073112547, 2374....</td>\n",
       "      <td>[[1540.3056482600293, 1617.0837411824223, 1648...</td>\n",
       "      <td>[[-570.6182, -544.3283, -546.54083, -547.926, ...</td>\n",
       "      <td>0.056132</td>\n",
       "      <td>1747.486768</td>\n",
       "      <td>samples/audio_denoised/al_e026_A-01_filtered.wav</td>\n",
       "    </tr>\n",
       "    <tr>\n",
       "      <th>366</th>\n",
       "      <td>A-41</td>\n",
       "      <td>Later</td>\n",
       "      <td>Ladder</td>\n",
       "      <td>al_e100</td>\n",
       "      <td>samples/audio/al_e100_A-41.m4a</td>\n",
       "      <td>later</td>\n",
       "      <td>ladder</td>\n",
       "      <td>-1.222440e-07</td>\n",
       "      <td>[[0.0302734375, 0.05078125, 0.06494140625, 0.0...</td>\n",
       "      <td>4.874739</td>\n",
       "      <td>[[2395.952338206539, 2411.374673031738, 2458.8...</td>\n",
       "      <td>[[1827.8973687852633, 1820.8557060711069, 1910...</td>\n",
       "      <td>[[-558.05994, -519.8463, -523.26404, -527.7807...</td>\n",
       "      <td>0.057424</td>\n",
       "      <td>1787.483092</td>\n",
       "      <td>samples/audio_denoised/al_e026_A-01_filtered.wav</td>\n",
       "    </tr>\n",
       "    <tr>\n",
       "      <th>367</th>\n",
       "      <td>A-42</td>\n",
       "      <td>Leave</td>\n",
       "      <td>Leaf</td>\n",
       "      <td>al_e100</td>\n",
       "      <td>samples/audio/al_e100_A-42.m4a</td>\n",
       "      <td>leave</td>\n",
       "      <td>leaf</td>\n",
       "      <td>-9.231911e-08</td>\n",
       "      <td>[[0.02685546875, 0.03369140625, 0.0458984375, ...</td>\n",
       "      <td>4.480000</td>\n",
       "      <td>[[2183.2381531534384, 2291.000629401601, 2304....</td>\n",
       "      <td>[[1429.2664537328128, 1482.235308120989, 1490....</td>\n",
       "      <td>[[-569.5788, -551.4669, -554.2125, -549.147, -...</td>\n",
       "      <td>0.061913</td>\n",
       "      <td>1837.641776</td>\n",
       "      <td>samples/audio_denoised/al_e026_A-01_filtered.wav</td>\n",
       "    </tr>\n",
       "    <tr>\n",
       "      <th>368</th>\n",
       "      <td>A-43</td>\n",
       "      <td>Feet</td>\n",
       "      <td>Feet</td>\n",
       "      <td>al_e100</td>\n",
       "      <td>samples/audio/al_e100_A-43.m4a</td>\n",
       "      <td>feet</td>\n",
       "      <td>feet</td>\n",
       "      <td>-6.567478e-07</td>\n",
       "      <td>[[0.0478515625, 0.0703125, 0.095703125, 0.0952...</td>\n",
       "      <td>5.687438</td>\n",
       "      <td>[[2751.22780179469, 2876.0871592086496, 2923.3...</td>\n",
       "      <td>[[2304.160871287756, 2646.076468762803, 2769.5...</td>\n",
       "      <td>[[-541.7854, -508.63593, -498.5272, -497.43848...</td>\n",
       "      <td>0.065884</td>\n",
       "      <td>1953.855048</td>\n",
       "      <td>samples/audio_denoised/al_e026_A-01_filtered.wav</td>\n",
       "    </tr>\n",
       "    <tr>\n",
       "      <th>369</th>\n",
       "      <td>A-44</td>\n",
       "      <td>Later</td>\n",
       "      <td>Letter</td>\n",
       "      <td>al_e100</td>\n",
       "      <td>samples/audio/al_e100_A-44.m4a</td>\n",
       "      <td>later</td>\n",
       "      <td>letter</td>\n",
       "      <td>9.709858e-08</td>\n",
       "      <td>[[0.02294921875, 0.03173828125, 0.04541015625,...</td>\n",
       "      <td>4.596100</td>\n",
       "      <td>[[2546.3764571270844, 2556.7687145303366, 2512...</td>\n",
       "      <td>[[1920.4933451271195, 1894.5977621856568, 1777...</td>\n",
       "      <td>[[-568.3414, -542.14276, -537.13464, -529.1872...</td>\n",
       "      <td>0.054194</td>\n",
       "      <td>1772.138523</td>\n",
       "      <td>samples/audio_denoised/al_e026_A-01_filtered.wav</td>\n",
       "    </tr>\n",
       "    <tr>\n",
       "      <th>370</th>\n",
       "      <td>A-45</td>\n",
       "      <td>Library</td>\n",
       "      <td>Library</td>\n",
       "      <td>al_e100</td>\n",
       "      <td>samples/audio/al_e100_A-45.m4a</td>\n",
       "      <td>library</td>\n",
       "      <td>library</td>\n",
       "      <td>-5.960879e-07</td>\n",
       "      <td>[[0.0791015625, 0.13037109375, 0.1572265625, 0...</td>\n",
       "      <td>5.803537</td>\n",
       "      <td>[[3520.828223954477, 3557.850634441649, 3500.9...</td>\n",
       "      <td>[[3860.2698177539455, 3767.813061531552, 3572....</td>\n",
       "      <td>[[-526.1498, -493.28085, -495.85803, -502.8789...</td>\n",
       "      <td>0.057461</td>\n",
       "      <td>1852.218944</td>\n",
       "      <td>samples/audio_denoised/al_e026_A-01_filtered.wav</td>\n",
       "    </tr>\n",
       "    <tr>\n",
       "      <th>371</th>\n",
       "      <td>A-46</td>\n",
       "      <td>Ryan</td>\n",
       "      <td>+ lion</td>\n",
       "      <td>al_e100</td>\n",
       "      <td>samples/audio/al_e100_A-46.m4a</td>\n",
       "      <td>ryan</td>\n",
       "      <td>lion</td>\n",
       "      <td>-3.831637e-07</td>\n",
       "      <td>[[0.03076171875, 0.0458984375, 0.0546875, 0.04...</td>\n",
       "      <td>6.685896</td>\n",
       "      <td>[[2689.2911425634575, 2603.064746083905, 2554....</td>\n",
       "      <td>[[2097.9689452266157, 1953.8848810971126, 1863...</td>\n",
       "      <td>[[-578.1132, -545.0047, -539.6317, -540.23926,...</td>\n",
       "      <td>0.056103</td>\n",
       "      <td>1718.705042</td>\n",
       "      <td>samples/audio_denoised/al_e026_A-01_filtered.wav</td>\n",
       "    </tr>\n",
       "    <tr>\n",
       "      <th>372</th>\n",
       "      <td>A-47</td>\n",
       "      <td>Map</td>\n",
       "      <td>Map</td>\n",
       "      <td>al_e100</td>\n",
       "      <td>samples/audio/al_e100_A-47.m4a</td>\n",
       "      <td>map</td>\n",
       "      <td>map</td>\n",
       "      <td>-9.933865e-07</td>\n",
       "      <td>[[0.02587890625, 0.03076171875, 0.0419921875, ...</td>\n",
       "      <td>4.944399</td>\n",
       "      <td>[[2942.222491609927, 3034.6992801869073, 2949....</td>\n",
       "      <td>[[2202.0668641846305, 2342.021344396603, 2179....</td>\n",
       "      <td>[[-569.70013, -527.9942, -528.27637, -537.4804...</td>\n",
       "      <td>0.059579</td>\n",
       "      <td>1948.017228</td>\n",
       "      <td>samples/audio_denoised/al_e026_A-01_filtered.wav</td>\n",
       "    </tr>\n",
       "    <tr>\n",
       "      <th>373</th>\n",
       "      <td>A-48</td>\n",
       "      <td>Mushroom</td>\n",
       "      <td>Mushroom</td>\n",
       "      <td>al_e100</td>\n",
       "      <td>samples/audio/al_e100_A-48.m4a</td>\n",
       "      <td>mushroom</td>\n",
       "      <td>mushroom</td>\n",
       "      <td>-6.722064e-07</td>\n",
       "      <td>[[0.02587890625, 0.03759765625, 0.0439453125, ...</td>\n",
       "      <td>3.922721</td>\n",
       "      <td>[[2589.4555443693375, 2505.9677991424355, 2420...</td>\n",
       "      <td>[[1882.8782019291298, 1775.5726583094402, 1669...</td>\n",
       "      <td>[[-584.8627, -556.87317, -553.239, -552.242, -...</td>\n",
       "      <td>0.056378</td>\n",
       "      <td>1673.261740</td>\n",
       "      <td>samples/audio_denoised/al_e026_A-01_filtered.wav</td>\n",
       "    </tr>\n",
       "    <tr>\n",
       "      <th>374</th>\n",
       "      <td>A-49</td>\n",
       "      <td>Ness</td>\n",
       "      <td>Nest</td>\n",
       "      <td>al_e100</td>\n",
       "      <td>samples/audio/al_e100_A-49.m4a</td>\n",
       "      <td>ness</td>\n",
       "      <td>nest</td>\n",
       "      <td>-9.515425e-07</td>\n",
       "      <td>[[0.02587890625, 0.03466796875, 0.046875, 0.04...</td>\n",
       "      <td>6.291156</td>\n",
       "      <td>[[2215.108765424383, 2345.4549620743655, 2294....</td>\n",
       "      <td>[[1461.7129573003754, 1613.882003209212, 1526....</td>\n",
       "      <td>[[-581.3319, -550.07965, -546.99536, -549.278,...</td>\n",
       "      <td>0.068858</td>\n",
       "      <td>1913.921097</td>\n",
       "      <td>samples/audio_denoised/al_e026_A-01_filtered.wav</td>\n",
       "    </tr>\n",
       "    <tr>\n",
       "      <th>375</th>\n",
       "      <td>A-50</td>\n",
       "      <td>Knows</td>\n",
       "      <td>nose</td>\n",
       "      <td>al_e100</td>\n",
       "      <td>samples/audio/al_e100_A-50.m4a</td>\n",
       "      <td>knows</td>\n",
       "      <td>nose</td>\n",
       "      <td>-3.326696e-07</td>\n",
       "      <td>[[0.0244140625, 0.037109375, 0.05029296875, 0....</td>\n",
       "      <td>4.363900</td>\n",
       "      <td>[[2056.0256313513846, 2293.071981775277, 2441....</td>\n",
       "      <td>[[1306.4639526503704, 1598.7405031008047, 1850...</td>\n",
       "      <td>[[-583.5243, -536.1437, -518.324, -515.74884, ...</td>\n",
       "      <td>0.061947</td>\n",
       "      <td>1796.664610</td>\n",
       "      <td>samples/audio_denoised/al_e026_A-01_filtered.wav</td>\n",
       "    </tr>\n",
       "  </tbody>\n",
       "</table>\n",
       "</div>"
      ],
      "text/plain": [
       "    Picture No.   Original     Edited  patient  \\\n",
       "326        A-01       Come        arm  al_e100   \n",
       "327        A-02          X        axe  al_e100   \n",
       "328        A-03     Banana     Banana  al_e100   \n",
       "329        A-04     Basket     Basket  al_e100   \n",
       "330        A-05        Bed      Beard  al_e100   \n",
       "331        A-06        Bed        Bed  al_e100   \n",
       "332        A-07         Be        Bee  al_e100   \n",
       "333        A-08       Bing       Bell  al_e100   \n",
       "334        A-09        But       Bird  al_e100   \n",
       "335        A-10       Book       Bone  al_e100   \n",
       "336        A-11       Book       Book  al_e100   \n",
       "337        A-12        Box        Box  al_e100   \n",
       "338        A-13      Brain      Brain  al_e100   \n",
       "339        A-14     Bridge     Bridge  al_e100   \n",
       "340        A-15      Camel      Camel  al_e100   \n",
       "341        A-16     Cancel     Candle  al_e100   \n",
       "342        A-17        Cat        Cat  al_e100   \n",
       "343        A-18      Chain      Chain  al_e100   \n",
       "344        A-19      Chair      Chair  al_e100   \n",
       "345        A-20  Cigarette  Cigarette  al_e100   \n",
       "346        A-21       Call      Comb   al_e100   \n",
       "347        A-22       Call        Cow  al_e100   \n",
       "348        A-23    Curtain    Curtain  al_e100   \n",
       "349        A-24        Dog        Dog  al_e100   \n",
       "350        A-25       Dark       Duck  al_e100   \n",
       "351        A-26   Elephant   Elephant  al_e100   \n",
       "352        A-27     Finger     Finger  al_e100   \n",
       "353        A-28       Fish       Fish  al_e100   \n",
       "354        A-29       Flat       Flag  al_e100   \n",
       "355        A-30     Flower     Flower  al_e100   \n",
       "356        A-31       Fuck       Fork  al_e100   \n",
       "357        A-32      Great      Grape  al_e100   \n",
       "358        A-33       Have       Hair  al_e100   \n",
       "359        A-34       Head        Hat  al_e100   \n",
       "360        A-35      Horse      Horse  al_e100   \n",
       "361        A-36      House      House  al_e100   \n",
       "362        A-37       Iron       Iron  al_e100   \n",
       "363        A-38         He        key  al_e100   \n",
       "364        A-39       King       King  al_e100   \n",
       "365        A-40    Kitchen    Kitchen  al_e100   \n",
       "366        A-41      Later     Ladder  al_e100   \n",
       "367        A-42      Leave       Leaf  al_e100   \n",
       "368        A-43       Feet       Feet  al_e100   \n",
       "369        A-44      Later     Letter  al_e100   \n",
       "370        A-45    Library    Library  al_e100   \n",
       "371        A-46       Ryan     + lion  al_e100   \n",
       "372        A-47        Map        Map  al_e100   \n",
       "373        A-48   Mushroom   Mushroom  al_e100   \n",
       "374        A-49       Ness       Nest  al_e100   \n",
       "375        A-50      Knows       nose  al_e100   \n",
       "\n",
       "                         audio_path cleaned_original cleaned_transcript  \\\n",
       "326  samples/audio/al_e100_A-01.m4a             come                arm   \n",
       "327  samples/audio/al_e100_A-02.m4a                x                axe   \n",
       "328  samples/audio/al_e100_A-03.m4a           banana             banana   \n",
       "329  samples/audio/al_e100_A-04.m4a           basket             basket   \n",
       "330  samples/audio/al_e100_A-05.m4a              bed              beard   \n",
       "331  samples/audio/al_e100_A-06.m4a              bed                bed   \n",
       "332  samples/audio/al_e100_A-07.m4a               be                bee   \n",
       "333  samples/audio/al_e100_A-08.m4a             bing               bell   \n",
       "334  samples/audio/al_e100_A-09.m4a              but               bird   \n",
       "335  samples/audio/al_e100_A-10.m4a             book               bone   \n",
       "336  samples/audio/al_e100_A-11.m4a             book               book   \n",
       "337  samples/audio/al_e100_A-12.m4a              box                box   \n",
       "338  samples/audio/al_e100_A-13.m4a            brain              brain   \n",
       "339  samples/audio/al_e100_A-14.m4a           bridge             bridge   \n",
       "340  samples/audio/al_e100_A-15.m4a            camel              camel   \n",
       "341  samples/audio/al_e100_A-16.m4a           cancel             candle   \n",
       "342  samples/audio/al_e100_A-17.m4a              cat                cat   \n",
       "343  samples/audio/al_e100_A-18.m4a            chain              chain   \n",
       "344  samples/audio/al_e100_A-19.m4a            chair              chair   \n",
       "345  samples/audio/al_e100_A-20.m4a        cigarette          cigarette   \n",
       "346  samples/audio/al_e100_A-21.m4a             call              comb    \n",
       "347  samples/audio/al_e100_A-22.m4a             call                cow   \n",
       "348  samples/audio/al_e100_A-23.m4a          curtain            curtain   \n",
       "349  samples/audio/al_e100_A-24.m4a              dog                dog   \n",
       "350  samples/audio/al_e100_A-25.m4a             dark               duck   \n",
       "351  samples/audio/al_e100_A-26.m4a         elephant           elephant   \n",
       "352  samples/audio/al_e100_A-27.m4a           finger             finger   \n",
       "353  samples/audio/al_e100_A-28.m4a             fish               fish   \n",
       "354  samples/audio/al_e100_A-29.m4a             flat               flag   \n",
       "355  samples/audio/al_e100_A-30.m4a           flower             flower   \n",
       "356  samples/audio/al_e100_A-31.m4a             fuck               fork   \n",
       "357  samples/audio/al_e100_A-32.m4a            great              grape   \n",
       "358  samples/audio/al_e100_A-33.m4a             have               hair   \n",
       "359  samples/audio/al_e100_A-34.m4a             head                hat   \n",
       "360  samples/audio/al_e100_A-35.m4a            horse              horse   \n",
       "361  samples/audio/al_e100_A-36.m4a            house              house   \n",
       "362  samples/audio/al_e100_A-37.m4a             iron               iron   \n",
       "363  samples/audio/al_e100_A-38.m4a               he                key   \n",
       "364  samples/audio/al_e100_A-39.m4a             king               king   \n",
       "365  samples/audio/al_e100_A-40.m4a          kitchen            kitchen   \n",
       "366  samples/audio/al_e100_A-41.m4a            later             ladder   \n",
       "367  samples/audio/al_e100_A-42.m4a            leave               leaf   \n",
       "368  samples/audio/al_e100_A-43.m4a             feet               feet   \n",
       "369  samples/audio/al_e100_A-44.m4a            later             letter   \n",
       "370  samples/audio/al_e100_A-45.m4a          library            library   \n",
       "371  samples/audio/al_e100_A-46.m4a             ryan               lion   \n",
       "372  samples/audio/al_e100_A-47.m4a              map                map   \n",
       "373  samples/audio/al_e100_A-48.m4a         mushroom           mushroom   \n",
       "374  samples/audio/al_e100_A-49.m4a             ness               nest   \n",
       "375  samples/audio/al_e100_A-50.m4a            knows               nose   \n",
       "\n",
       "     mean_amplitude                                 zero_crossing_rate  \\\n",
       "326   -9.537897e-07  [[0.0625, 0.08837890625, 0.10498046875, 0.1000...   \n",
       "327   -7.478256e-07  [[0.04052734375, 0.0498046875, 0.05908203125, ...   \n",
       "328   -8.881843e-07  [[0.03271484375, 0.060546875, 0.07763671875, 0...   \n",
       "329   -9.118850e-07  [[0.0439453125, 0.0576171875, 0.06494140625, 0...   \n",
       "330    1.794544e-07  [[0.02001953125, 0.03369140625, 0.04638671875,...   \n",
       "331   -2.502673e-07  [[0.03125, 0.05029296875, 0.06103515625, 0.066...   \n",
       "332   -6.084063e-07  [[0.02783203125, 0.04296875, 0.05859375, 0.059...   \n",
       "333   -7.525085e-07  [[0.0205078125, 0.03515625, 0.0537109375, 0.05...   \n",
       "334   -4.088166e-07  [[0.033203125, 0.0400390625, 0.05859375, 0.056...   \n",
       "335   -8.321993e-07  [[0.01806640625, 0.04150390625, 0.06396484375,...   \n",
       "336   -2.721543e-07  [[0.03173828125, 0.04443359375, 0.0556640625, ...   \n",
       "337   -7.980516e-07  [[0.02294921875, 0.03564453125, 0.046875, 0.04...   \n",
       "338   -1.632570e-07  [[0.02783203125, 0.03955078125, 0.056640625, 0...   \n",
       "339   -1.059195e-06  [[0.0205078125, 0.03466796875, 0.0478515625, 0...   \n",
       "340   -3.946225e-07  [[0.0185546875, 0.03173828125, 0.04443359375, ...   \n",
       "341   -6.227769e-07  [[0.02783203125, 0.0419921875, 0.0634765625, 0...   \n",
       "342   -7.575300e-07  [[0.03076171875, 0.0478515625, 0.06298828125, ...   \n",
       "343   -1.073272e-06  [[0.0361328125, 0.0478515625, 0.05712890625, 0...   \n",
       "344   -1.300547e-07  [[0.03662109375, 0.06982421875, 0.087890625, 0...   \n",
       "345   -1.255111e-06  [[0.0380859375, 0.068359375, 0.1025390625, 0.1...   \n",
       "346   -9.150397e-07  [[0.0400390625, 0.060546875, 0.078125, 0.08154...   \n",
       "347   -9.959685e-07  [[0.0322265625, 0.04345703125, 0.05224609375, ...   \n",
       "348   -8.430289e-07  [[0.02685546875, 0.0439453125, 0.05712890625, ...   \n",
       "349   -2.608790e-07  [[0.11376953125, 0.16259765625, 0.212890625, 0...   \n",
       "350   -8.167603e-07  [[0.02197265625, 0.0341796875, 0.04931640625, ...   \n",
       "351    1.375042e-07  [[0.0341796875, 0.05712890625, 0.07275390625, ...   \n",
       "352    1.871482e-07  [[0.0322265625, 0.04248046875, 0.0556640625, 0...   \n",
       "353   -7.372627e-08  [[0.0234375, 0.03759765625, 0.06396484375, 0.0...   \n",
       "354   -2.647034e-07  [[0.0322265625, 0.0458984375, 0.06982421875, 0...   \n",
       "355   -7.434951e-07  [[0.029296875, 0.041015625, 0.0537109375, 0.05...   \n",
       "356   -2.849060e-07  [[0.025390625, 0.048828125, 0.0673828125, 0.06...   \n",
       "357    8.496797e-08  [[0.025390625, 0.0322265625, 0.044921875, 0.04...   \n",
       "358   -1.475569e-06  [[0.029296875, 0.048828125, 0.06201171875, 0.0...   \n",
       "359   -8.857916e-07  [[0.01953125, 0.0341796875, 0.0478515625, 0.04...   \n",
       "360   -8.883463e-07  [[0.03857421875, 0.0517578125, 0.0673828125, 0...   \n",
       "361   -1.171560e-06  [[0.0283203125, 0.03759765625, 0.0478515625, 0...   \n",
       "362   -7.284095e-07  [[0.0517578125, 0.08447265625, 0.123046875, 0....   \n",
       "363   -4.979157e-07  [[0.01806640625, 0.02587890625, 0.03759765625,...   \n",
       "364   -9.736659e-07  [[0.03564453125, 0.046875, 0.05859375, 0.05371...   \n",
       "365   -3.967017e-07  [[0.0302734375, 0.04150390625, 0.05419921875, ...   \n",
       "366   -1.222440e-07  [[0.0302734375, 0.05078125, 0.06494140625, 0.0...   \n",
       "367   -9.231911e-08  [[0.02685546875, 0.03369140625, 0.0458984375, ...   \n",
       "368   -6.567478e-07  [[0.0478515625, 0.0703125, 0.095703125, 0.0952...   \n",
       "369    9.709858e-08  [[0.02294921875, 0.03173828125, 0.04541015625,...   \n",
       "370   -5.960879e-07  [[0.0791015625, 0.13037109375, 0.1572265625, 0...   \n",
       "371   -3.831637e-07  [[0.03076171875, 0.0458984375, 0.0546875, 0.04...   \n",
       "372   -9.933865e-07  [[0.02587890625, 0.03076171875, 0.0419921875, ...   \n",
       "373   -6.722064e-07  [[0.02587890625, 0.03759765625, 0.0439453125, ...   \n",
       "374   -9.515425e-07  [[0.02587890625, 0.03466796875, 0.046875, 0.04...   \n",
       "375   -3.326696e-07  [[0.0244140625, 0.037109375, 0.05029296875, 0....   \n",
       "\n",
       "     duration                                 spectral_bandwidth  \\\n",
       "326  5.501678  [[3106.7734522968512, 3072.0313773238913, 2990...   \n",
       "327  4.642540  [[3334.504572556264, 3022.1845978589986, 2675....   \n",
       "328  4.201361  [[2634.566133014394, 2723.9497942806197, 3104....   \n",
       "329  4.805079  [[2563.378909998727, 2478.1087582556884, 2405....   \n",
       "330  4.828299  [[2432.141009938576, 2434.88412755237, 2500.09...   \n",
       "331  4.201361  [[2739.8295321353453, 2839.537597055317, 2767....   \n",
       "332  6.314376  [[2262.693793270812, 2240.4975513431837, 2337....   \n",
       "333  5.315918  [[2308.780179136774, 2267.0161461348043, 2327....   \n",
       "334  4.131701  [[2256.9935712815586, 2472.7270194124458, 2451...   \n",
       "335  4.131701  [[2271.3453284029774, 2450.2148716994407, 2724...   \n",
       "336  4.874739  [[2344.514702774183, 2382.4438324528614, 2363....   \n",
       "337  3.945941  [[2667.451957310425, 2619.462400532938, 2570.0...   \n",
       "338  4.387120  [[2387.135558663009, 2309.832961615638, 2382.8...   \n",
       "339  4.665760  [[2454.079786197779, 2447.3471687922556, 2495....   \n",
       "340  4.712200  [[2186.0828620830666, 2251.6706704543867, 2324...   \n",
       "341  4.247800  [[2594.6472258000103, 2485.7945733777183, 2514...   \n",
       "342  4.781859  [[2394.6782221329627, 2378.0580093016247, 2277...   \n",
       "343  4.038821  [[2478.436096758486, 2523.832978023337, 2488.5...   \n",
       "344  3.992381  [[2867.486505183109, 2837.426753816469, 2818.2...   \n",
       "345  4.781859  [[2981.6716958017673, 2967.5591754615234, 2975...   \n",
       "346  3.899501  [[2614.8668750100214, 2635.971024056886, 2714....   \n",
       "347  4.154921  [[2632.7644087487056, 2565.122274356269, 2428....   \n",
       "348  5.362358  [[2088.559912528318, 2344.5686043276646, 2432....   \n",
       "349  4.967619  [[2813.3171683309088, 2803.7667111311234, 2861...   \n",
       "350  5.223039  [[2435.8966305850267, 2407.501684248983, 2373....   \n",
       "351  4.596100  [[3066.4940640280947, 3172.0856754338756, 3196...   \n",
       "352  4.201361  [[2497.3256650683566, 2491.914355559714, 2408....   \n",
       "353  4.038821  [[2277.120576842769, 2360.5377002433593, 2528....   \n",
       "354  4.085261  [[2305.556132798679, 2335.4949247269433, 2332....   \n",
       "355  4.363900  [[2371.4497403854944, 2438.028062316872, 2435....   \n",
       "356  4.619320  [[2355.680944979801, 2438.766169172468, 2496.0...   \n",
       "357  4.247800  [[2411.315045973239, 2456.0570650095046, 2487....   \n",
       "358  4.340680  [[2467.527684460217, 2423.5114833323887, 2469....   \n",
       "359  4.015601  [[2378.7091944520307, 2406.1937842128636, 2382...   \n",
       "360  5.942857  [[2792.5327426050467, 2791.452341125866, 2750....   \n",
       "361  3.829841  [[2521.7962139982774, 2410.1743350764564, 2295...   \n",
       "362  4.201361  [[2334.6141035803, 2341.1086161458984, 2338.15...   \n",
       "363  3.829841  [[2400.7803741204702, 2339.4560338214405, 2358...   \n",
       "364  4.062041  [[2210.573525069755, 2237.1319263423297, 2303....   \n",
       "365  3.899501  [[2208.0755903973145, 2291.568073112547, 2374....   \n",
       "366  4.874739  [[2395.952338206539, 2411.374673031738, 2458.8...   \n",
       "367  4.480000  [[2183.2381531534384, 2291.000629401601, 2304....   \n",
       "368  5.687438  [[2751.22780179469, 2876.0871592086496, 2923.3...   \n",
       "369  4.596100  [[2546.3764571270844, 2556.7687145303366, 2512...   \n",
       "370  5.803537  [[3520.828223954477, 3557.850634441649, 3500.9...   \n",
       "371  6.685896  [[2689.2911425634575, 2603.064746083905, 2554....   \n",
       "372  4.944399  [[2942.222491609927, 3034.6992801869073, 2949....   \n",
       "373  3.922721  [[2589.4555443693375, 2505.9677991424355, 2420...   \n",
       "374  6.291156  [[2215.108765424383, 2345.4549620743655, 2294....   \n",
       "375  4.363900  [[2056.0256313513846, 2293.071981775277, 2441....   \n",
       "\n",
       "                                     spectral_centroid  \\\n",
       "326  [[3340.183241347705, 3256.033509742136, 2948.3...   \n",
       "327  [[3042.3705811585223, 2438.2946291233347, 1981...   \n",
       "328  [[1874.4775966485654, 2047.949833684449, 2520....   \n",
       "329  [[1953.4623307439763, 1844.3666649192642, 1715...   \n",
       "330  [[1710.5098432407794, 1686.37981480928, 1808.3...   \n",
       "331  [[2123.6316917306694, 2379.644533484585, 2132....   \n",
       "332  [[1577.1488465441253, 1603.866735247708, 1807....   \n",
       "333  [[1545.8852242069825, 1493.5522004491963, 1553...   \n",
       "334  [[1465.355431350762, 1754.297770658438, 1661.5...   \n",
       "335  [[1564.912593257507, 1762.5366993638825, 2351....   \n",
       "336  [[1699.6417256436735, 1719.6137741312948, 1696...   \n",
       "337  [[1850.547818841084, 1828.742886199337, 1810.2...   \n",
       "338  [[1713.1192318031872, 1584.0280217377722, 1634...   \n",
       "339  [[1578.9512184585337, 1626.248190949803, 1862....   \n",
       "340  [[1457.4607256762476, 1418.004563560402, 1505....   \n",
       "341  [[1949.9836605978435, 1846.6337582347323, 1941...   \n",
       "342  [[1939.178028978227, 1821.0807903680043, 1672....   \n",
       "343  [[1832.5126338389668, 1852.7962116646543, 1727...   \n",
       "344  [[2539.101296443333, 2436.0791226027245, 2462....   \n",
       "345  [[2470.2236736591653, 2474.0031339915677, 2553...   \n",
       "346  [[2076.0610427035626, 2203.313641412562, 2390....   \n",
       "347  [[1886.2273607644959, 1762.3549622109322, 1567...   \n",
       "348  [[1340.6339588059932, 1599.740376996926, 1670....   \n",
       "349  [[4211.440555853287, 4206.12066076169, 3943.60...   \n",
       "350  [[1911.5337673886038, 1801.3731966445373, 1722...   \n",
       "351  [[2353.629103091095, 2545.505761821153, 2647.4...   \n",
       "352  [[1883.7441291369905, 1838.1028261935953, 1729...   \n",
       "353  [[1466.7741496089498, 1611.8110483387384, 1821...   \n",
       "354  [[1764.5547553464025, 1751.44821007044, 1703.9...   \n",
       "355  [[1698.2413043384838, 1783.9037163424105, 1828...   \n",
       "356  [[1809.0011690775318, 1914.5017598656382, 1939...   \n",
       "357  [[1747.482531667276, 1773.8292110661696, 1749....   \n",
       "358  [[1789.3939460980962, 1774.1836503485015, 1799...   \n",
       "359  [[1616.766687532294, 1634.4127793128037, 1597....   \n",
       "360  [[2252.0170030510176, 2245.5375803847137, 2190...   \n",
       "361  [[1876.7349822854753, 1719.9643841511527, 1548...   \n",
       "362  [[2299.3710768551155, 2378.621902673033, 2307....   \n",
       "363  [[1723.541373709759, 1629.742235799506, 1577.9...   \n",
       "364  [[1451.351305166527, 1479.587103763312, 1493.3...   \n",
       "365  [[1540.3056482600293, 1617.0837411824223, 1648...   \n",
       "366  [[1827.8973687852633, 1820.8557060711069, 1910...   \n",
       "367  [[1429.2664537328128, 1482.235308120989, 1490....   \n",
       "368  [[2304.160871287756, 2646.076468762803, 2769.5...   \n",
       "369  [[1920.4933451271195, 1894.5977621856568, 1777...   \n",
       "370  [[3860.2698177539455, 3767.813061531552, 3572....   \n",
       "371  [[2097.9689452266157, 1953.8848810971126, 1863...   \n",
       "372  [[2202.0668641846305, 2342.021344396603, 2179....   \n",
       "373  [[1882.8782019291298, 1775.5726583094402, 1669...   \n",
       "374  [[1461.7129573003754, 1613.882003209212, 1526....   \n",
       "375  [[1306.4639526503704, 1598.7405031008047, 1850...   \n",
       "\n",
       "                                                  mfcc  \\\n",
       "326  [[-499.6204, -479.71878, -493.11777, -504.6677...   \n",
       "327  [[-547.3615, -527.1012, -532.1765, -532.8089, ...   \n",
       "328  [[-582.2677, -545.3062, -535.4372, -523.9564, ...   \n",
       "329  [[-582.27167, -554.00226, -555.7195, -559.0046...   \n",
       "330  [[-576.72955, -548.7067, -547.8173, -548.6698,...   \n",
       "331  [[-538.59454, -514.54456, -518.6974, -522.8736...   \n",
       "332  [[-565.6017, -522.9685, -520.34393, -514.6389,...   \n",
       "333  [[-564.0033, -537.8326, -539.3091, -541.63, -5...   \n",
       "334  [[-577.2807, -550.01135, -546.6059, -543.33484...   \n",
       "335  [[-563.6532, -530.3739, -503.2084, -497.2128, ...   \n",
       "336  [[-575.2269, -545.6776, -544.0951, -541.4929, ...   \n",
       "337  [[-564.65875, -541.6593, -546.57324, -547.1637...   \n",
       "338  [[-579.0254, -545.0739, -542.5854, -535.9722, ...   \n",
       "339  [[-584.4301, -545.6419, -535.8489, -526.04974,...   \n",
       "340  [[-587.8286, -554.3546, -555.6277, -553.3789, ...   \n",
       "341  [[-564.30597, -529.8318, -529.84894, -515.0142...   \n",
       "342  [[-557.94446, -526.80524, -523.97705, -533.098...   \n",
       "343  [[-577.1651, -548.5411, -549.8585, -553.2295, ...   \n",
       "344  [[-533.4449, -498.30832, -496.70914, -503.5039...   \n",
       "345  [[-554.816, -521.28845, -517.00024, -494.5987,...   \n",
       "346  [[-536.3113, -509.98764, -520.45465, -520.8593...   \n",
       "347  [[-564.2466, -542.8569, -546.0249, -547.2797, ...   \n",
       "348  [[-585.34674, -555.909, -559.3921, -554.83624,...   \n",
       "349  [[-245.9865, -235.4117, -332.94922, -311.84396...   \n",
       "350  [[-566.8485, -530.9141, -524.7474, -526.61786,...   \n",
       "351  [[-559.295, -523.791, -525.2325, -525.3233, -5...   \n",
       "352  [[-541.17957, -513.8052, -522.2807, -534.0534,...   \n",
       "353  [[-586.12463, -552.70294, -536.8359, -503.7681...   \n",
       "354  [[-559.0157, -543.7664, -551.00323, -548.2907,...   \n",
       "355  [[-554.9471, -536.952, -536.7441, -541.01056, ...   \n",
       "356  [[-544.739, -510.09683, -514.879, -518.0801, -...   \n",
       "357  [[-560.66327, -537.3018, -540.4297, -543.06757...   \n",
       "358  [[-582.3096, -541.63086, -536.46796, -538.9962...   \n",
       "359  [[-585.6268, -557.4208, -553.56793, -554.7365,...   \n",
       "360  [[-547.7308, -515.0304, -520.3739, -523.2826, ...   \n",
       "361  [[-593.2161, -555.71765, -550.4369, -550.11127...   \n",
       "362  [[-344.7044, -328.88107, -342.3325, -317.28418...   \n",
       "363  [[-571.27936, -538.8443, -540.99036, -547.1326...   \n",
       "364  [[-569.7307, -544.0423, -551.5245, -553.59863,...   \n",
       "365  [[-570.6182, -544.3283, -546.54083, -547.926, ...   \n",
       "366  [[-558.05994, -519.8463, -523.26404, -527.7807...   \n",
       "367  [[-569.5788, -551.4669, -554.2125, -549.147, -...   \n",
       "368  [[-541.7854, -508.63593, -498.5272, -497.43848...   \n",
       "369  [[-568.3414, -542.14276, -537.13464, -529.1872...   \n",
       "370  [[-526.1498, -493.28085, -495.85803, -502.8789...   \n",
       "371  [[-578.1132, -545.0047, -539.6317, -540.23926,...   \n",
       "372  [[-569.70013, -527.9942, -528.27637, -537.4804...   \n",
       "373  [[-584.8627, -556.87317, -553.239, -552.242, -...   \n",
       "374  [[-581.3319, -550.07965, -546.99536, -549.278,...   \n",
       "375  [[-583.5243, -536.1437, -518.324, -515.74884, ...   \n",
       "\n",
       "     mean_zero_crossing_rate  mean_spectral_centroid  \\\n",
       "326                 0.062368             1898.294337   \n",
       "327                 0.070339             2003.816382   \n",
       "328                 0.054555             1736.996368   \n",
       "329                 0.057476             1705.045620   \n",
       "330                 0.046431             1632.375613   \n",
       "331                 0.060056             1922.577649   \n",
       "332                 0.052822             1740.393507   \n",
       "333                 0.047521             1587.478838   \n",
       "334                 0.053777             1741.222549   \n",
       "335                 0.050965             1693.597169   \n",
       "336                 0.048424             1638.435128   \n",
       "337                 0.073923             1989.158239   \n",
       "338                 0.050980             1675.975690   \n",
       "339                 0.054177             1675.256699   \n",
       "340                 0.047298             1632.921081   \n",
       "341                 0.063287             1908.599033   \n",
       "342                 0.052675             1699.733356   \n",
       "343                 0.096424             2414.574955   \n",
       "344                 0.079275             2156.681294   \n",
       "345                 0.083254             2176.492691   \n",
       "346                 0.065473             1993.639979   \n",
       "347                 0.050500             1624.243150   \n",
       "348                 0.048961             1638.458044   \n",
       "349                 0.078123             2250.118863   \n",
       "350                 0.063444             1972.474848   \n",
       "351                 0.049457             1592.859182   \n",
       "352                 0.062214             1907.191788   \n",
       "353                 0.061594             1827.956710   \n",
       "354                 0.054224             1726.741897   \n",
       "355                 0.060121             1802.139530   \n",
       "356                 0.058250             1719.268911   \n",
       "357                 0.053047             1727.068947   \n",
       "358                 0.063430             1901.675072   \n",
       "359                 0.049398             1606.743220   \n",
       "360                 0.064003             1832.527155   \n",
       "361                 0.072644             1859.194480   \n",
       "362                 0.064097             1976.353688   \n",
       "363                 0.054131             1731.504189   \n",
       "364                 0.072570             1983.209283   \n",
       "365                 0.056132             1747.486768   \n",
       "366                 0.057424             1787.483092   \n",
       "367                 0.061913             1837.641776   \n",
       "368                 0.065884             1953.855048   \n",
       "369                 0.054194             1772.138523   \n",
       "370                 0.057461             1852.218944   \n",
       "371                 0.056103             1718.705042   \n",
       "372                 0.059579             1948.017228   \n",
       "373                 0.056378             1673.261740   \n",
       "374                 0.068858             1913.921097   \n",
       "375                 0.061947             1796.664610   \n",
       "\n",
       "                                  audio_path_denoised  \n",
       "326  samples/audio_denoised/al_e026_A-01_filtered.wav  \n",
       "327  samples/audio_denoised/al_e026_A-01_filtered.wav  \n",
       "328  samples/audio_denoised/al_e026_A-01_filtered.wav  \n",
       "329  samples/audio_denoised/al_e026_A-01_filtered.wav  \n",
       "330  samples/audio_denoised/al_e026_A-01_filtered.wav  \n",
       "331  samples/audio_denoised/al_e026_A-01_filtered.wav  \n",
       "332  samples/audio_denoised/al_e026_A-01_filtered.wav  \n",
       "333  samples/audio_denoised/al_e026_A-01_filtered.wav  \n",
       "334  samples/audio_denoised/al_e026_A-01_filtered.wav  \n",
       "335  samples/audio_denoised/al_e026_A-01_filtered.wav  \n",
       "336  samples/audio_denoised/al_e026_A-01_filtered.wav  \n",
       "337  samples/audio_denoised/al_e026_A-01_filtered.wav  \n",
       "338  samples/audio_denoised/al_e026_A-01_filtered.wav  \n",
       "339  samples/audio_denoised/al_e026_A-01_filtered.wav  \n",
       "340  samples/audio_denoised/al_e026_A-01_filtered.wav  \n",
       "341  samples/audio_denoised/al_e026_A-01_filtered.wav  \n",
       "342  samples/audio_denoised/al_e026_A-01_filtered.wav  \n",
       "343  samples/audio_denoised/al_e026_A-01_filtered.wav  \n",
       "344  samples/audio_denoised/al_e026_A-01_filtered.wav  \n",
       "345  samples/audio_denoised/al_e026_A-01_filtered.wav  \n",
       "346  samples/audio_denoised/al_e026_A-01_filtered.wav  \n",
       "347  samples/audio_denoised/al_e026_A-01_filtered.wav  \n",
       "348  samples/audio_denoised/al_e026_A-01_filtered.wav  \n",
       "349  samples/audio_denoised/al_e026_A-01_filtered.wav  \n",
       "350  samples/audio_denoised/al_e026_A-01_filtered.wav  \n",
       "351  samples/audio_denoised/al_e026_A-01_filtered.wav  \n",
       "352  samples/audio_denoised/al_e026_A-01_filtered.wav  \n",
       "353  samples/audio_denoised/al_e026_A-01_filtered.wav  \n",
       "354  samples/audio_denoised/al_e026_A-01_filtered.wav  \n",
       "355  samples/audio_denoised/al_e026_A-01_filtered.wav  \n",
       "356  samples/audio_denoised/al_e026_A-01_filtered.wav  \n",
       "357  samples/audio_denoised/al_e026_A-01_filtered.wav  \n",
       "358  samples/audio_denoised/al_e026_A-01_filtered.wav  \n",
       "359  samples/audio_denoised/al_e026_A-01_filtered.wav  \n",
       "360  samples/audio_denoised/al_e026_A-01_filtered.wav  \n",
       "361  samples/audio_denoised/al_e026_A-01_filtered.wav  \n",
       "362  samples/audio_denoised/al_e026_A-01_filtered.wav  \n",
       "363  samples/audio_denoised/al_e026_A-01_filtered.wav  \n",
       "364  samples/audio_denoised/al_e026_A-01_filtered.wav  \n",
       "365  samples/audio_denoised/al_e026_A-01_filtered.wav  \n",
       "366  samples/audio_denoised/al_e026_A-01_filtered.wav  \n",
       "367  samples/audio_denoised/al_e026_A-01_filtered.wav  \n",
       "368  samples/audio_denoised/al_e026_A-01_filtered.wav  \n",
       "369  samples/audio_denoised/al_e026_A-01_filtered.wav  \n",
       "370  samples/audio_denoised/al_e026_A-01_filtered.wav  \n",
       "371  samples/audio_denoised/al_e026_A-01_filtered.wav  \n",
       "372  samples/audio_denoised/al_e026_A-01_filtered.wav  \n",
       "373  samples/audio_denoised/al_e026_A-01_filtered.wav  \n",
       "374  samples/audio_denoised/al_e026_A-01_filtered.wav  \n",
       "375  samples/audio_denoised/al_e026_A-01_filtered.wav  "
      ]
     },
     "execution_count": 169,
     "metadata": {},
     "output_type": "execute_result"
    }
   ],
   "source": [
    "df[df['patient'] == 'al_e100'].head()"
   ]
  },
  {
   "cell_type": "code",
   "execution_count": null,
   "metadata": {},
   "outputs": [],
   "source": [
    "from tqdm.notebook import tqdm\n",
    "\n",
    "tqdm.pandas(desc=\"Extracting audio features...\")\n",
    "df = df.progress_apply(lambda row: extract_audio_features(row, row['audio_path']), axis=1)"
   ]
  },
  {
   "cell_type": "code",
   "execution_count": 72,
   "metadata": {},
   "outputs": [],
   "source": [
    "df['mean_zero_crossing_rate'] = df['zero_crossing_rate'].apply(lambda x: x[0].mean())"
   ]
  },
  {
   "cell_type": "code",
   "execution_count": 73,
   "metadata": {},
   "outputs": [
    {
     "name": "stdout",
     "output_type": "stream",
     "text": [
      "Mean Zero Crossing Rate: 0.08242753432801096\n",
      "Median Zero Crossing Rate: 0.07863238103241384\n"
     ]
    }
   ],
   "source": [
    "print(f\"Mean Zero Crossing Rate: {df['mean_zero_crossing_rate'].mean()}\")\n",
    "print(f\"Median Zero Crossing Rate: {df['mean_zero_crossing_rate'].median()}\")"
   ]
  },
  {
   "cell_type": "code",
   "execution_count": 74,
   "metadata": {},
   "outputs": [],
   "source": [
    "df['mean_spectral_centroid'] = df['spectral_centroid'].apply(lambda x: x.mean())"
   ]
  },
  {
   "cell_type": "code",
   "execution_count": 75,
   "metadata": {},
   "outputs": [
    {
     "name": "stdout",
     "output_type": "stream",
     "text": [
      "Mean Spectral Centroid: 2311.638968590257\n",
      "Median Spectral Centroid: 2243.703375608357\n"
     ]
    }
   ],
   "source": [
    "print(f\"Mean Spectral Centroid: {df['mean_spectral_centroid'].mean()}\")\n",
    "print(f\"Median Spectral Centroid: {df['mean_spectral_centroid'].median()}\")"
   ]
  },
  {
   "cell_type": "code",
   "execution_count": 76,
   "metadata": {},
   "outputs": [
    {
     "data": {
      "image/png": "[encoded data removed]",
      "text/plain": [
       "<Figure size 640x480 with 1 Axes>"
      ]
     },
     "metadata": {},
     "output_type": "display_data"
    }
   ],
   "source": [
    "import seaborn as sns\n",
    "import pandas as pd\n",
    "import matplotlib.pyplot as plt\n",
    "\n",
    "\n",
    "sns.histplot(df['mean_spectral_centroid'], kde=True)\n",
    "plt.title(\"Distribution of Mean Spectral Centroid Across Files\")\n",
    "plt.show()"
   ]
  },
  {
   "cell_type": "code",
   "execution_count": 77,
   "metadata": {},
   "outputs": [
    {
     "data": {
      "image/png": "[encoded data removed]",
      "text/plain": [
       "<Figure size 640x480 with 1 Axes>"
      ]
     },
     "metadata": {},
     "output_type": "display_data"
    }
   ],
   "source": [
    "import seaborn as sns\n",
    "import pandas as pd\n",
    "import matplotlib.pyplot as plt\n",
    "\n",
    "\n",
    "sns.histplot(df['mean_zero_crossing_rate'], kde=True)\n",
    "plt.title(\"Distribution of Mean Zero Crossing Rate Across Files\")\n",
    "plt.show()"
   ]
  },
  {
   "cell_type": "code",
   "execution_count": 78,
   "metadata": {},
   "outputs": [
    {
     "data": {
      "image/png": "[encoded data removed]",
      "text/plain": [
       "<Figure size 1500x600 with 2 Axes>"
      ]
     },
     "metadata": {},
     "output_type": "display_data"
    }
   ],
   "source": [
    "# Plot MFCCs\n",
    "plt.figure(figsize=(15, 6))\n",
    "librosa.display.specshow(df['mfcc'][0], sr=44100, x_axis='time', y_axis=\"mel\")\n",
    "plt.colorbar()\n",
    "plt.title('MFCC for al_e026-A-01')\n",
    "plt.tight_layout()\n",
    "plt.show()"
   ]
  },
  {
   "cell_type": "code",
   "execution_count": 79,
   "metadata": {},
   "outputs": [
    {
     "name": "stderr",
     "output_type": "stream",
     "text": [
      "/usr/local/lib/python3.8/site-packages/librosa/core/audio.py:184: FutureWarning: librosa.core.audio.__audioread_load\n",
      "\tDeprecated as of librosa version 0.10.0.\n",
      "\tIt will be removed in librosa version 1.0.\n",
      "  y, sr_native = __audioread_load(path, offset, duration, dtype)\n"
     ]
    },
    {
     "data": {
      "image/png": "[encoded data removed]",
      "text/plain": [
       "<Figure size 1200x600 with 1 Axes>"
      ]
     },
     "metadata": {},
     "output_type": "display_data"
    }
   ],
   "source": [
    "import numpy as np\n",
    "\n",
    "waveform, sampling_rate = librosa.load(df['audio_path'][0])\n",
    "\n",
    "plt.figure(figsize=(12, 6))\n",
    "\n",
    "# Original waveform\n",
    "plt.subplot(2, 1, 1)\n",
    "plt.plot(np.linspace(0, len(waveform) / sampling_rate, num=len(waveform)), waveform, color='blue')\n",
    "plt.title('Audio signal, al_e026-A-01')\n",
    "plt.xlabel('Time (s)')\n",
    "plt.ylabel('Amplitude')\n",
    "plt.grid()"
   ]
  },
  {
   "cell_type": "code",
   "execution_count": 80,
   "metadata": {},
   "outputs": [
    {
     "data": {
      "image/png": "[encoded data removed]",
      "text/plain": [
       "<Figure size 1000x600 with 2 Axes>"
      ]
     },
     "metadata": {},
     "output_type": "display_data"
    }
   ],
   "source": [
    "# Plot MFCCs\n",
    "plt.figure(figsize=(10, 6))\n",
    "librosa.display.specshow(df['mfcc'][333], sr=44100, x_axis='time', y_axis=\"mel\")\n",
    "plt.colorbar()\n",
    "plt.title('MFCC for al_e100-A-08')\n",
    "plt.tight_layout()\n",
    "plt.show()"
   ]
  },
  {
   "cell_type": "code",
   "execution_count": 81,
   "metadata": {},
   "outputs": [
    {
     "data": {
      "text/plain": [
       "'samples/audio/al_e117_A-32.m4a'"
      ]
     },
     "execution_count": 81,
     "metadata": {},
     "output_type": "execute_result"
    }
   ],
   "source": [
    "df['audio_path'][555]"
   ]
  },
  {
   "cell_type": "code",
   "execution_count": 82,
   "metadata": {},
   "outputs": [
    {
     "data": {
      "image/png": "[encoded data removed]",
      "text/plain": [
       "<Figure size 1000x600 with 2 Axes>"
      ]
     },
     "metadata": {},
     "output_type": "display_data"
    }
   ],
   "source": [
    "# Plot MFCCs\n",
    "plt.figure(figsize=(10, 6))\n",
    "librosa.display.specshow(df['mfcc'][555], sr=44100, x_axis='time', y_axis=\"mel\")\n",
    "plt.colorbar()\n",
    "plt.title('MFCC for al_e117-A-32')\n",
    "plt.tight_layout()\n",
    "plt.show()"
   ]
  },
  {
   "cell_type": "markdown",
   "metadata": {},
   "source": [
    "##### Observation\n",
    "\n",
    "1. Dominant speech frequencies occur arround 200-250 Hz. \n",
    "    - This is where much of the energy from vowels and voiced speech sounds is concentrated.\n",
    "2. Lighter red patches above 512 Hz\n",
    "    - Some of these may be higher-frequency consonants (e.g., 's' or 'z'), but it could also indicate high-pitched background noise, perhaps from microphone hiss or environmental noise.\n",
    "\n",
    "##### What needs to be done\n",
    "\n",
    "1. Noise reduction\n",
    "    - As we observed some high frequency noise throughout the audio files, we can use ***low-pass filters*** to remove frequencies above a certain threshold. (e.g., 3000 Hz)"
   ]
  },
  {
   "cell_type": "markdown",
   "metadata": {},
   "source": [
    "#### 3.2 Applying a simple low-pass filter"
   ]
  },
  {
   "cell_type": "code",
   "execution_count": 154,
   "metadata": {},
   "outputs": [
    {
     "name": "stdout",
     "output_type": "stream",
     "text": [
      "<class 'pandas.core.frame.DataFrame'>\n",
      "RangeIndex: 880 entries, 0 to 879\n",
      "Data columns (total 16 columns):\n",
      " #   Column                   Non-Null Count  Dtype  \n",
      "---  ------                   --------------  -----  \n",
      " 0   Picture No.              880 non-null    object \n",
      " 1   Original                 880 non-null    object \n",
      " 2   Edited                   880 non-null    object \n",
      " 3   patient                  880 non-null    object \n",
      " 4   audio_path               880 non-null    object \n",
      " 5   cleaned_original         880 non-null    object \n",
      " 6   cleaned_transcript       880 non-null    object \n",
      " 7   mean_amplitude           880 non-null    float32\n",
      " 8   zero_crossing_rate       880 non-null    object \n",
      " 9   duration                 880 non-null    float64\n",
      " 10  spectral_bandwidth       880 non-null    object \n",
      " 11  spectral_centroid        880 non-null    object \n",
      " 12  mfcc                     880 non-null    object \n",
      " 13  mean_zero_crossing_rate  880 non-null    float64\n",
      " 14  mean_spectral_centroid   880 non-null    float64\n",
      " 15  audio_path_denoised      880 non-null    object \n",
      "dtypes: float32(1), float64(3), object(12)\n",
      "memory usage: 106.7+ KB\n"
     ]
    }
   ],
   "source": [
    "df.info()"
   ]
  },
  {
   "cell_type": "code",
   "execution_count": 83,
   "metadata": {},
   "outputs": [
    {
     "name": "stderr",
     "output_type": "stream",
     "text": [
      "/usr/local/lib/python3.8/site-packages/librosa/core/audio.py:184: FutureWarning: librosa.core.audio.__audioread_load\n",
      "\tDeprecated as of librosa version 0.10.0.\n",
      "\tIt will be removed in librosa version 1.0.\n",
      "  y, sr_native = __audioread_load(path, offset, duration, dtype)\n"
     ]
    }
   ],
   "source": [
    "import numpy as np\n",
    "import librosa\n",
    "import soundfile as sf\n",
    "from scipy.signal import butter, lfilter\n",
    "\n",
    "def butter_lowpass(cutoff, fs, order=5):\n",
    "    nyquist = 0.5 * fs\n",
    "    normal_cutoff = cutoff / nyquist\n",
    "    b, a = butter(order, normal_cutoff, btype='lowpass', analog=False)\n",
    "    return b, a\n",
    "\n",
    "def lowpass_filter(data, cutoff, fs, order=5):\n",
    "    b, a = butter_lowpass(cutoff, fs, order=order)\n",
    "    y = lfilter(b, a, data)\n",
    "    return y\n",
    "\n",
    "# Load your audio file\n",
    "audio_path = df['audio_path'][0]  # Replace with your audio file path\n",
    "waveform, sampling_rate = librosa.load(audio_path, sr=None)\n",
    "\n",
    "# Apply low-pass filter\n",
    "cutoff_frequency = 300  # Set your desired cutoff frequency (in Hz)\n",
    "filtered_waveform = lowpass_filter(waveform, cutoff=cutoff_frequency, fs=sampling_rate)\n",
    "\n",
    "# Save the filtered audio to a new file\n",
    "audio_path = Path(df['audio_path'][0]).stem\n",
    "\n",
    "# New directory\n",
    "export_dir = 'samples/audio_denoised/'\n",
    "# Ensure the directory exists, create if necessary\n",
    "if not os.path.exists(export_dir):\n",
    "    os.makedirs(export_dir)\n",
    "\n",
    "processed_path = export_dir + audio_path + \"_filtered.wav\"\n",
    "\n",
    "sf.write(processed_path, filtered_waveform, sampling_rate)"
   ]
  },
  {
   "cell_type": "markdown",
   "metadata": {},
   "source": [
    "#### 3.3 Speechbrain Sepformer Library\n",
    "\n",
    "SpeechBrain is an open-source, all-in-one toolkit designed for speech processing. Built on PyTorch, it offers a comprehensive suite of tools for a variety of speech-related tasks, including speech recognition, speaker identification, and speech enhancement."
   ]
  },
  {
   "cell_type": "code",
   "execution_count": 84,
   "metadata": {},
   "outputs": [],
   "source": [
    "from speechbrain.inference.separation import SepformerSeparation as separator\n",
    "import torchaudio\n",
    "\n",
    "from IPython.display import Audio"
   ]
  },
  {
   "cell_type": "code",
   "execution_count": 85,
   "metadata": {},
   "outputs": [
    {
     "data": {
      "application/vnd.jupyter.widget-view+json": {
       "model_id": "c41950265d5d4e6f9b239d95e3f4f22a",
       "version_major": 2,
       "version_minor": 0
      },
      "text/plain": [
       "hyperparams.yaml:   0%|          | 0.00/1.47k [00:00<?, ?B/s]"
      ]
     },
     "metadata": {},
     "output_type": "display_data"
    },
    {
     "data": {
      "application/vnd.jupyter.widget-view+json": {
       "model_id": "cfc42eb54acb44a399b94cc164a220c1",
       "version_major": 2,
       "version_minor": 0
      },
      "text/plain": [
       "encoder.ckpt:   0%|          | 0.00/17.3k [00:00<?, ?B/s]"
      ]
     },
     "metadata": {},
     "output_type": "display_data"
    },
    {
     "data": {
      "application/vnd.jupyter.widget-view+json": {
       "model_id": "220eb7d8b4ed46fcaaeb84e765c4bab8",
       "version_major": 2,
       "version_minor": 0
      },
      "text/plain": [
       "masknet.ckpt:   0%|          | 0.00/113M [00:00<?, ?B/s]"
      ]
     },
     "metadata": {},
     "output_type": "display_data"
    },
    {
     "data": {
      "application/vnd.jupyter.widget-view+json": {
       "model_id": "be609317297445f0a6653b31ce249a33",
       "version_major": 2,
       "version_minor": 0
      },
      "text/plain": [
       "decoder.ckpt:   0%|          | 0.00/17.2k [00:00<?, ?B/s]"
      ]
     },
     "metadata": {},
     "output_type": "display_data"
    },
    {
     "name": "stderr",
     "output_type": "stream",
     "text": [
      "/usr/local/lib/python3.8/site-packages/speechbrain/utils/checkpoints.py:194: FutureWarning: You are using `torch.load` with `weights_only=False` (the current default value), which uses the default pickle module implicitly. It is possible to construct malicious pickle data which will execute arbitrary code during unpickling (See https://github.com/pytorch/pytorch/blob/main/SECURITY.md#untrusted-models for more details). In a future release, the default value for `weights_only` will be flipped to `True`. This limits the functions that could be executed during unpickling. Arbitrary objects will no longer be allowed to be loaded via this mode unless they are explicitly allowlisted by the user via `torch.serialization.add_safe_globals`. We recommend you start setting `weights_only=True` for any use case where you don't have full control of the loaded file. Please open an issue on GitHub for any issues related to this experimental feature.\n",
      "  state_dict = torch.load(path, map_location=device)\n"
     ]
    }
   ],
   "source": [
    "sepformer = separator.from_hparams(\n",
    "    source=\"speechbrain/sepformer-wham16k-enhancement\", \n",
    "    savedir='pretrained_models/sepformer-wham16k-enhancement',\n",
    "    run_opts={\"device\":\"cuda\"}\n",
    ")"
   ]
  },
  {
   "cell_type": "code",
   "execution_count": 94,
   "metadata": {},
   "outputs": [],
   "source": [
    "from pathlib import Path"
   ]
  },
  {
   "cell_type": "code",
   "execution_count": 60,
   "metadata": {},
   "outputs": [],
   "source": [
    "import gc\n",
    "from speechbrain.inference.separation import SepformerSeparation\n",
    "import librosa\n",
    "import noisereduce as nr\n",
    "import soundfile as sf\n",
    "\n",
    "def denoise(audio_file_path: str, denoiser=None):\n",
    "    \"\"\" A function that denoises an audio and writes it to \n",
    "        a new directory\n",
    "\n",
    "        Args: \n",
    "            audio_file_path - File path to the target audio\n",
    "            denoiser - The denoiser model\n",
    "    \"\"\"\n",
    "    export_dir = 'samples/audio_denoised'\n",
    "    # Ensure the directory exists, create if necessary\n",
    "    if not os.path.exists(export_dir):\n",
    "        os.makedirs(export_dir)\n",
    "    \n",
    "    if isinstance(denoiser, SepformerSeparation):\n",
    "        audio_tensor = denoiser.separate_file(path=audio_file_path)\n",
    "        audio_tensor = audio_tensor.cpu()\n",
    "        \n",
    "        processed_path = Path(audio_file_path).stem\n",
    "        new_path = f\"{export_dir}/{processed_path}_mod.wav\"\n",
    "        torchaudio.save(new_path, audio_tensor[:, :, 0], 16000) \n",
    "        \n",
    "        del audio_tensor\n",
    "        gc.collect()\n",
    "        torch.cuda.empty_cache()\n",
    "    else:\n",
    "        y, sr = librosa.load(audio_file_path, sr=44100)\n",
    "        reduced_noise = nr.reduce_noise(y=y, sr=sr, prop_decrease=0.75)\n",
    "        new_path = f\"{export_dir}/{Path(audio_file_path).stem}_filtered.wav\"\n",
    "        sf.write(new_path, reduced_noise, sr)\n",
    "    \n",
    "    return new_path"
   ]
  },
  {
   "cell_type": "code",
   "execution_count": 95,
   "metadata": {},
   "outputs": [],
   "source": [
    "df_al_e026 = df.loc[df['patient'] == 'al_e026']"
   ]
  },
  {
   "cell_type": "code",
   "execution_count": 96,
   "metadata": {},
   "outputs": [
    {
     "data": {
      "application/vnd.jupyter.widget-view+json": {
       "model_id": "8f9c2345126446ff82033366608b7b38",
       "version_major": 2,
       "version_minor": 0
      },
      "text/plain": [
       "Denoising Files, al_e026:   0%|          | 0/33 [00:00<?, ?it/s]"
      ]
     },
     "metadata": {},
     "output_type": "display_data"
    },
    {
     "name": "stdout",
     "output_type": "stream",
     "text": [
      "Resampling the audio from 44100 Hz to 16000 Hz\n",
      "Resampling the audio from 44100 Hz to 16000 Hz\n",
      "Resampling the audio from 44100 Hz to 16000 Hz\n",
      "Resampling the audio from 44100 Hz to 16000 Hz\n",
      "Resampling the audio from 44100 Hz to 16000 Hz\n",
      "Resampling the audio from 44100 Hz to 16000 Hz\n",
      "Resampling the audio from 44100 Hz to 16000 Hz\n",
      "Resampling the audio from 44100 Hz to 16000 Hz\n",
      "Resampling the audio from 44100 Hz to 16000 Hz\n",
      "Resampling the audio from 44100 Hz to 16000 Hz\n",
      "Resampling the audio from 44100 Hz to 16000 Hz\n",
      "Resampling the audio from 44100 Hz to 16000 Hz\n",
      "Resampling the audio from 44100 Hz to 16000 Hz\n",
      "Resampling the audio from 44100 Hz to 16000 Hz\n",
      "Resampling the audio from 44100 Hz to 16000 Hz\n",
      "Resampling the audio from 44100 Hz to 16000 Hz\n",
      "Resampling the audio from 44100 Hz to 16000 Hz\n",
      "Resampling the audio from 44100 Hz to 16000 Hz\n",
      "Resampling the audio from 44100 Hz to 16000 Hz\n",
      "Resampling the audio from 44100 Hz to 16000 Hz\n",
      "Resampling the audio from 44100 Hz to 16000 Hz\n",
      "Resampling the audio from 44100 Hz to 16000 Hz\n",
      "Resampling the audio from 44100 Hz to 16000 Hz\n",
      "Resampling the audio from 44100 Hz to 16000 Hz\n",
      "Resampling the audio from 44100 Hz to 16000 Hz\n",
      "Resampling the audio from 44100 Hz to 16000 Hz\n",
      "Resampling the audio from 44100 Hz to 16000 Hz\n",
      "Resampling the audio from 44100 Hz to 16000 Hz\n",
      "Resampling the audio from 44100 Hz to 16000 Hz\n",
      "Resampling the audio from 44100 Hz to 16000 Hz\n",
      "Resampling the audio from 44100 Hz to 16000 Hz\n",
      "Resampling the audio from 44100 Hz to 16000 Hz\n",
      "Resampling the audio from 44100 Hz to 16000 Hz\n"
     ]
    },
    {
     "name": "stderr",
     "output_type": "stream",
     "text": [
      "/tmp/ipykernel_249/2895497546.py:2: SettingWithCopyWarning: \n",
      "A value is trying to be set on a copy of a slice from a DataFrame.\n",
      "Try using .loc[row_indexer,col_indexer] = value instead\n",
      "\n",
      "See the caveats in the documentation: https://pandas.pydata.org/pandas-docs/stable/user_guide/indexing.html#returning-a-view-versus-a-copy\n",
      "  df_al_e026['audio_path_denoised'] = df_al_e026.progress_apply(lambda row: denoise(row['audio_path'], sepformer), axis=1)\n"
     ]
    }
   ],
   "source": [
    "tqdm.pandas(desc=\"Denoising Files, al_e026\")\n",
    "df_al_e026['audio_path_denoised'] = df_al_e026.progress_apply(lambda row: denoise(row['audio_path'], sepformer), axis=1)"
   ]
  },
  {
   "cell_type": "code",
   "execution_count": 61,
   "metadata": {},
   "outputs": [
    {
     "ename": "NameError",
     "evalue": "name 'df_al_e026' is not defined",
     "output_type": "error",
     "traceback": [
      "\u001b[0;31m---------------------------------------------------------------------------\u001b[0m",
      "\u001b[0;31mNameError\u001b[0m                                 Traceback (most recent call last)",
      "Cell \u001b[0;32mIn[61], line 2\u001b[0m\n\u001b[1;32m      1\u001b[0m tqdm\u001b[38;5;241m.\u001b[39mpandas(desc\u001b[38;5;241m=\u001b[39m\u001b[38;5;124m\"\u001b[39m\u001b[38;5;124mTranscribing and computing WER al_e026\u001b[39m\u001b[38;5;124m\"\u001b[39m)\n\u001b[0;32m----> 2\u001b[0m df_al_e026 \u001b[38;5;241m=\u001b[39m \u001b[43mdf_al_e026\u001b[49m\u001b[38;5;241m.\u001b[39mprogress_apply(\u001b[38;5;28;01mlambda\u001b[39;00m row: transcribe_and_compute(row, row[\u001b[38;5;124m'\u001b[39m\u001b[38;5;124maudio_path\u001b[39m\u001b[38;5;124m'\u001b[39m]), axis\u001b[38;5;241m=\u001b[39m\u001b[38;5;241m1\u001b[39m)\n",
      "\u001b[0;31mNameError\u001b[0m: name 'df_al_e026' is not defined"
     ]
    }
   ],
   "source": [
    "tqdm.pandas(desc=\"Transcribing and computing WER al_e026\")\n",
    "df_al_e026 = df_al_e026.progress_apply(lambda row: transcribe_and_compute(row, row['audio_path']), axis=1)"
   ]
  },
  {
   "cell_type": "code",
   "execution_count": 98,
   "metadata": {},
   "outputs": [
    {
     "data": {
      "application/vnd.jupyter.widget-view+json": {
       "model_id": "9ff94c836e78493c9e6c035ee1266c6b",
       "version_major": 2,
       "version_minor": 0
      },
      "text/plain": [
       "Transcribing and computing WER al_e026 denoise:   0%|          | 0/33 [00:00<?, ?it/s]"
      ]
     },
     "metadata": {},
     "output_type": "display_data"
    }
   ],
   "source": [
    "tqdm.pandas(desc=\"Transcribing and computing WER al_e026 denoise\")\n",
    "df_al_e026 = df_al_e026.progress_apply(lambda row: transcribe_and_compute(row, row['audio_path_denoised'], True), axis=1)"
   ]
  },
  {
   "cell_type": "code",
   "execution_count": 99,
   "metadata": {},
   "outputs": [
    {
     "name": "stdout",
     "output_type": "stream",
     "text": [
      "WER (Original): 0.6287329270941688\n",
      "WER (Denoise): 0.9096658949676684\n"
     ]
    }
   ],
   "source": [
    "df_al_e026['wer'] = df_al_e026['wer'].apply(lambda x: 1 if x > 1 else x)\n",
    "df_al_e026['wer_denoise'] = df_al_e026['wer_denoise'].apply(lambda x: 1 if x > 1 else x)\n",
    "\n",
    "print(f\"WER (Original): {df_al_e026['wer'].mean()}\")\n",
    "print(f\"WER (Denoise): {df_al_e026['wer_denoise'].mean()}\")"
   ]
  },
  {
   "cell_type": "markdown",
   "metadata": {},
   "source": [
    "This library does not do a good job in reducing the WER - in fact the opposite happened. We should explore other libraries. Here are the possible reasons:\n",
    "\n",
    "1. The use of this algorithm necessitates the downsampling of the audio file from 44.1kHz to 16kHz, resulting in a huge loss in data."
   ]
  },
  {
   "cell_type": "markdown",
   "metadata": {},
   "source": [
    "##### 3.3 Noisereduce Library\n",
    "We will now try another library for reducing background noise. Remember, we want to filter the higher frequency noise around 3000 Hz and above."
   ]
  },
  {
   "cell_type": "code",
   "execution_count": 62,
   "metadata": {},
   "outputs": [
    {
     "name": "stderr",
     "output_type": "stream",
     "text": [
      "Denoising Files: 100%|██████████| 453/453 [04:08<00:00,  1.82it/s]\n"
     ]
    }
   ],
   "source": [
    "tqdm.pandas(desc=\"Denoising Files\")\n",
    "df['audio_path_denoised'] = df.progress_apply(lambda row: denoise(row['audio_path']), axis=1)"
   ]
  },
  {
   "cell_type": "code",
   "execution_count": null,
   "metadata": {},
   "outputs": [
    {
     "name": "stderr",
     "output_type": "stream",
     "text": [
      "Transcribing and computing WER prompt denoised:  94%|█████████▎| 424/453 [04:54<00:20,  1.41it/s]"
     ]
    }
   ],
   "source": [
    "tqdm.pandas(desc=\"Transcribing and computing WER prompt denoised\")\n",
    "df['whisper_transcription_prompt_denoised'] = df.progress_apply(\n",
    "    lambda row: normalizer(transcribe_audio(row['audio_path_denoised'], model, input_prompt=f\"The patient is supposed to say: '{row['cleaned_transcript']}.'\")), axis=1\n",
    ")"
   ]
  },
  {
   "cell_type": "code",
   "execution_count": null,
   "metadata": {},
   "outputs": [],
   "source": [
    "# Replace empty transcriptions with \"null\"\n",
    "df['whisper_transcription_prompt_denoised'] = df['whisper_transcription_prompt_denoised'].apply(lambda x: \"null\" if x == \"\" else normalizer(x.strip()))\n",
    "\n",
    "df_with_prompt_denoised = df['whisper_transcription_prompt_denoised'].tolist()\n",
    "\n",
    "hypo = df['cleaned_transcript'].apply(lambda x: x.strip()).tolist()\n",
    "\n",
    "df.head(75)"
   ]
  },
  {
   "cell_type": "code",
   "execution_count": 56,
   "metadata": {},
   "outputs": [
    {
     "name": "stdout",
     "output_type": "stream",
     "text": [
      "6\n"
     ]
    }
   ],
   "source": [
    "count = 0\n",
    "for item in df_with_prompt_denoised:\n",
    "    if item == \"null\":\n",
    "        count += 1\n",
    "print(count)"
   ]
  },
  {
   "cell_type": "code",
   "execution_count": 57,
   "metadata": {},
   "outputs": [
    {
     "name": "stdout",
     "output_type": "stream",
     "text": [
      "Prompt WER (Overall): 0.5521235521235521\n",
      "Prompt WER Denoised (Overall): 0.6033898305084746\n"
     ]
    }
   ],
   "source": [
    "wer_prompt = wer(df_with_prompt, hypo)\n",
    "wer_prompt_denoised = wer(df_with_prompt_denoised, hypo)\n",
    "\n",
    "print(f\"Prompt WER (Overall): {wer_prompt}\")\n",
    "print(f\"Prompt WER Denoised (Overall): {wer_prompt_denoised}\")"
   ]
  },
  {
   "cell_type": "code",
   "execution_count": 58,
   "metadata": {},
   "outputs": [
    {
     "name": "stdout",
     "output_type": "stream",
     "text": [
      "WER (Overall): 0.831275720164609\n",
      "Prompt WER (Overall): 0.5521235521235521\n",
      "Prompt WER Denoised (Overall): 0.6033898305084746\n"
     ]
    }
   ],
   "source": [
    "wer_original = wer(df['whisper_transcription'].tolist(), hypo)\n",
    "\n",
    "print(f\"WER (Overall): {wer_original}\")\n",
    "print(f\"Prompt WER (Overall): {wer_prompt}\")\n",
    "print(f\"Prompt WER Denoised (Overall): {wer_prompt_denoised}\")"
   ]
  },
  {
   "cell_type": "markdown",
   "metadata": {},
   "source": [
    "#### Findings\n",
    "\n",
    "| model              | temperature | prompt | dataset               | WER % (lower is better)|\n",
    "|--------------------|-------------|--------|-----------------------|------------------------|\n",
    "| `whisper-large-v3` | 0.0         |   no   | noun-en               | 83                     |\n",
    "| `whisper-large-v3` | 0.0         |   yes  | noun-en               | 55                     |\n",
    "| `whisper-large-v3` | 0.0         |   yes  | noun-en-denoise       | 60                     |\n",
    "\n",
    "Overall, noise reduction techniques don't really have that much of an effect when it comes to WER (Based on eyeballing and hearing some post-processed samples, the noise reduction was done really well). We will now explore fine-tuning the model on the dataset. Refer to `whisper_fine_tune.ipynb` for details."
   ]
  },
  {
   "cell_type": "markdown",
   "metadata": {},
   "source": []
  }
 ],
 "metadata": {
  "kernelspec": {
   "display_name": "Python 3 (ipykernel)",
   "language": "python",
   "name": "python3"
  },
  "language_info": {
   "codemirror_mode": {
    "name": "ipython",
    "version": 3
   },
   "file_extension": ".py",
   "mimetype": "text/x-python",
   "name": "python",
   "nbconvert_exporter": "python",
   "pygments_lexer": "ipython3",
   "version": "3.12.6"
  }
 },
 "nbformat": 4,
 "nbformat_minor": 4
}
